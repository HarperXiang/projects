{
 "cells": [
  {
   "cell_type": "code",
   "execution_count": 1,
   "metadata": {},
   "outputs": [],
   "source": [
    "import pandas as pd\n",
    "import numpy as np\n",
    "import seaborn as sns\n",
    "import matplotlib.pyplot as plt\n",
    "%matplotlib inline"
   ]
  },
  {
   "cell_type": "code",
   "execution_count": 2,
   "metadata": {},
   "outputs": [],
   "source": [
    "datapath = \"data/train data logrev/\"\n",
    "file_Xtrain = \"X_train.csv\"\n",
    "file_ytrain = \"y_train.csv\"\n",
    "file_Xtest  = \"X_test.csv\"\n",
    "file_ytest  = \"y_test.csv\""
   ]
  },
  {
   "cell_type": "code",
   "execution_count": 3,
   "metadata": {},
   "outputs": [
    {
     "name": "stderr",
     "output_type": "stream",
     "text": [
      "/Users/Harper/anaconda3/lib/python3.6/site-packages/IPython/core/interactiveshell.py:2785: DtypeWarning: Columns (0) have mixed types. Specify dtype option on import or set low_memory=False.\n",
      "  interactivity=interactivity, compiler=compiler, result=result)\n"
     ]
    },
    {
     "data": {
      "text/plain": [
       "(563482, 95)"
      ]
     },
     "execution_count": 3,
     "metadata": {},
     "output_type": "execute_result"
    }
   ],
   "source": [
    "dfx0 = pd.read_csv(datapath+file_Xtrain)\n",
    "dfx0.shape"
   ]
  },
  {
   "cell_type": "code",
   "execution_count": 67,
   "metadata": {},
   "outputs": [
    {
     "data": {
      "text/html": [
       "<div>\n",
       "<style scoped>\n",
       "    .dataframe tbody tr th:only-of-type {\n",
       "        vertical-align: middle;\n",
       "    }\n",
       "\n",
       "    .dataframe tbody tr th {\n",
       "        vertical-align: top;\n",
       "    }\n",
       "\n",
       "    .dataframe thead th {\n",
       "        text-align: right;\n",
       "    }\n",
       "</style>\n",
       "<table border=\"1\" class=\"dataframe\">\n",
       "  <thead>\n",
       "    <tr style=\"text-align: right;\">\n",
       "      <th></th>\n",
       "      <th>avg_hits</th>\n",
       "      <th>avg_pageviews</th>\n",
       "      <th>bounces</th>\n",
       "      <th>newVisits</th>\n",
       "      <th>fake_traffic</th>\n",
       "      <th>ctadwords</th>\n",
       "      <th>channelGrouping_Affiliates</th>\n",
       "      <th>channelGrouping_Direct</th>\n",
       "      <th>channelGrouping_Display</th>\n",
       "      <th>channelGrouping_Organic Search</th>\n",
       "      <th>...</th>\n",
       "      <th>visit_hour_15</th>\n",
       "      <th>visit_hour_16</th>\n",
       "      <th>visit_hour_17</th>\n",
       "      <th>visit_hour_18</th>\n",
       "      <th>visit_hour_19</th>\n",
       "      <th>visit_hour_20</th>\n",
       "      <th>visit_hour_21</th>\n",
       "      <th>visit_hour_22</th>\n",
       "      <th>visit_hour_23</th>\n",
       "      <th>visitNumber</th>\n",
       "    </tr>\n",
       "  </thead>\n",
       "  <tbody>\n",
       "    <tr>\n",
       "      <th>count</th>\n",
       "      <td>563482.000000</td>\n",
       "      <td>563482.000000</td>\n",
       "      <td>563482.000000</td>\n",
       "      <td>563482.000000</td>\n",
       "      <td>563482.0</td>\n",
       "      <td>563482.000000</td>\n",
       "      <td>563482.000000</td>\n",
       "      <td>563482.000000</td>\n",
       "      <td>563482.000000</td>\n",
       "      <td>563482.000000</td>\n",
       "      <td>...</td>\n",
       "      <td>563482.000000</td>\n",
       "      <td>563482.000000</td>\n",
       "      <td>563482.000000</td>\n",
       "      <td>563482.000000</td>\n",
       "      <td>563482.000000</td>\n",
       "      <td>563482.000000</td>\n",
       "      <td>563482.000000</td>\n",
       "      <td>563482.000000</td>\n",
       "      <td>563482.000000</td>\n",
       "      <td>563482.000000</td>\n",
       "    </tr>\n",
       "    <tr>\n",
       "      <th>mean</th>\n",
       "      <td>3.932035</td>\n",
       "      <td>3.350467</td>\n",
       "      <td>0.626444</td>\n",
       "      <td>0.983872</td>\n",
       "      <td>0.0</td>\n",
       "      <td>0.030031</td>\n",
       "      <td>0.023097</td>\n",
       "      <td>0.202315</td>\n",
       "      <td>0.008978</td>\n",
       "      <td>0.541194</td>\n",
       "      <td>...</td>\n",
       "      <td>0.065306</td>\n",
       "      <td>0.059585</td>\n",
       "      <td>0.053123</td>\n",
       "      <td>0.049006</td>\n",
       "      <td>0.046025</td>\n",
       "      <td>0.045052</td>\n",
       "      <td>0.044218</td>\n",
       "      <td>0.043169</td>\n",
       "      <td>0.040963</td>\n",
       "      <td>1.256454</td>\n",
       "    </tr>\n",
       "    <tr>\n",
       "      <th>std</th>\n",
       "      <td>7.256272</td>\n",
       "      <td>5.320012</td>\n",
       "      <td>0.932155</td>\n",
       "      <td>0.140602</td>\n",
       "      <td>0.0</td>\n",
       "      <td>0.174884</td>\n",
       "      <td>0.210485</td>\n",
       "      <td>0.782098</td>\n",
       "      <td>0.210102</td>\n",
       "      <td>1.016443</td>\n",
       "      <td>...</td>\n",
       "      <td>0.275453</td>\n",
       "      <td>0.260672</td>\n",
       "      <td>0.247346</td>\n",
       "      <td>0.241879</td>\n",
       "      <td>0.226948</td>\n",
       "      <td>0.221887</td>\n",
       "      <td>0.218916</td>\n",
       "      <td>0.214463</td>\n",
       "      <td>0.209174</td>\n",
       "      <td>1.407070</td>\n",
       "    </tr>\n",
       "    <tr>\n",
       "      <th>min</th>\n",
       "      <td>1.000000</td>\n",
       "      <td>1.000000</td>\n",
       "      <td>0.000000</td>\n",
       "      <td>0.000000</td>\n",
       "      <td>0.0</td>\n",
       "      <td>0.000000</td>\n",
       "      <td>0.000000</td>\n",
       "      <td>0.000000</td>\n",
       "      <td>0.000000</td>\n",
       "      <td>0.000000</td>\n",
       "      <td>...</td>\n",
       "      <td>0.000000</td>\n",
       "      <td>0.000000</td>\n",
       "      <td>0.000000</td>\n",
       "      <td>0.000000</td>\n",
       "      <td>0.000000</td>\n",
       "      <td>0.000000</td>\n",
       "      <td>0.000000</td>\n",
       "      <td>0.000000</td>\n",
       "      <td>0.000000</td>\n",
       "      <td>1.000000</td>\n",
       "    </tr>\n",
       "    <tr>\n",
       "      <th>25%</th>\n",
       "      <td>1.000000</td>\n",
       "      <td>1.000000</td>\n",
       "      <td>0.000000</td>\n",
       "      <td>1.000000</td>\n",
       "      <td>0.0</td>\n",
       "      <td>0.000000</td>\n",
       "      <td>0.000000</td>\n",
       "      <td>0.000000</td>\n",
       "      <td>0.000000</td>\n",
       "      <td>0.000000</td>\n",
       "      <td>...</td>\n",
       "      <td>0.000000</td>\n",
       "      <td>0.000000</td>\n",
       "      <td>0.000000</td>\n",
       "      <td>0.000000</td>\n",
       "      <td>0.000000</td>\n",
       "      <td>0.000000</td>\n",
       "      <td>0.000000</td>\n",
       "      <td>0.000000</td>\n",
       "      <td>0.000000</td>\n",
       "      <td>1.000000</td>\n",
       "    </tr>\n",
       "    <tr>\n",
       "      <th>50%</th>\n",
       "      <td>1.500000</td>\n",
       "      <td>1.333333</td>\n",
       "      <td>1.000000</td>\n",
       "      <td>1.000000</td>\n",
       "      <td>0.0</td>\n",
       "      <td>0.000000</td>\n",
       "      <td>0.000000</td>\n",
       "      <td>0.000000</td>\n",
       "      <td>0.000000</td>\n",
       "      <td>0.000000</td>\n",
       "      <td>...</td>\n",
       "      <td>0.000000</td>\n",
       "      <td>0.000000</td>\n",
       "      <td>0.000000</td>\n",
       "      <td>0.000000</td>\n",
       "      <td>0.000000</td>\n",
       "      <td>0.000000</td>\n",
       "      <td>0.000000</td>\n",
       "      <td>0.000000</td>\n",
       "      <td>0.000000</td>\n",
       "      <td>1.000000</td>\n",
       "    </tr>\n",
       "    <tr>\n",
       "      <th>75%</th>\n",
       "      <td>4.000000</td>\n",
       "      <td>3.000000</td>\n",
       "      <td>1.000000</td>\n",
       "      <td>1.000000</td>\n",
       "      <td>0.0</td>\n",
       "      <td>0.000000</td>\n",
       "      <td>0.000000</td>\n",
       "      <td>0.000000</td>\n",
       "      <td>0.000000</td>\n",
       "      <td>1.000000</td>\n",
       "      <td>...</td>\n",
       "      <td>0.000000</td>\n",
       "      <td>0.000000</td>\n",
       "      <td>0.000000</td>\n",
       "      <td>0.000000</td>\n",
       "      <td>0.000000</td>\n",
       "      <td>0.000000</td>\n",
       "      <td>0.000000</td>\n",
       "      <td>0.000000</td>\n",
       "      <td>0.000000</td>\n",
       "      <td>1.000000</td>\n",
       "    </tr>\n",
       "    <tr>\n",
       "      <th>max</th>\n",
       "      <td>500.000000</td>\n",
       "      <td>431.000000</td>\n",
       "      <td>186.000000</td>\n",
       "      <td>3.000000</td>\n",
       "      <td>0.0</td>\n",
       "      <td>7.000000</td>\n",
       "      <td>38.000000</td>\n",
       "      <td>155.000000</td>\n",
       "      <td>96.000000</td>\n",
       "      <td>253.000000</td>\n",
       "      <td>...</td>\n",
       "      <td>26.000000</td>\n",
       "      <td>16.000000</td>\n",
       "      <td>20.000000</td>\n",
       "      <td>53.000000</td>\n",
       "      <td>12.000000</td>\n",
       "      <td>11.000000</td>\n",
       "      <td>13.000000</td>\n",
       "      <td>13.000000</td>\n",
       "      <td>9.000000</td>\n",
       "      <td>278.000000</td>\n",
       "    </tr>\n",
       "  </tbody>\n",
       "</table>\n",
       "<p>8 rows × 94 columns</p>\n",
       "</div>"
      ],
      "text/plain": [
       "            avg_hits  avg_pageviews        bounces      newVisits  \\\n",
       "count  563482.000000  563482.000000  563482.000000  563482.000000   \n",
       "mean        3.932035       3.350467       0.626444       0.983872   \n",
       "std         7.256272       5.320012       0.932155       0.140602   \n",
       "min         1.000000       1.000000       0.000000       0.000000   \n",
       "25%         1.000000       1.000000       0.000000       1.000000   \n",
       "50%         1.500000       1.333333       1.000000       1.000000   \n",
       "75%         4.000000       3.000000       1.000000       1.000000   \n",
       "max       500.000000     431.000000     186.000000       3.000000   \n",
       "\n",
       "       fake_traffic      ctadwords  channelGrouping_Affiliates  \\\n",
       "count      563482.0  563482.000000               563482.000000   \n",
       "mean            0.0       0.030031                    0.023097   \n",
       "std             0.0       0.174884                    0.210485   \n",
       "min             0.0       0.000000                    0.000000   \n",
       "25%             0.0       0.000000                    0.000000   \n",
       "50%             0.0       0.000000                    0.000000   \n",
       "75%             0.0       0.000000                    0.000000   \n",
       "max             0.0       7.000000                   38.000000   \n",
       "\n",
       "       channelGrouping_Direct  channelGrouping_Display  \\\n",
       "count           563482.000000            563482.000000   \n",
       "mean                 0.202315                 0.008978   \n",
       "std                  0.782098                 0.210102   \n",
       "min                  0.000000                 0.000000   \n",
       "25%                  0.000000                 0.000000   \n",
       "50%                  0.000000                 0.000000   \n",
       "75%                  0.000000                 0.000000   \n",
       "max                155.000000                96.000000   \n",
       "\n",
       "       channelGrouping_Organic Search      ...        visit_hour_15  \\\n",
       "count                   563482.000000      ...        563482.000000   \n",
       "mean                         0.541194      ...             0.065306   \n",
       "std                          1.016443      ...             0.275453   \n",
       "min                          0.000000      ...             0.000000   \n",
       "25%                          0.000000      ...             0.000000   \n",
       "50%                          0.000000      ...             0.000000   \n",
       "75%                          1.000000      ...             0.000000   \n",
       "max                        253.000000      ...            26.000000   \n",
       "\n",
       "       visit_hour_16  visit_hour_17  visit_hour_18  visit_hour_19  \\\n",
       "count  563482.000000  563482.000000  563482.000000  563482.000000   \n",
       "mean        0.059585       0.053123       0.049006       0.046025   \n",
       "std         0.260672       0.247346       0.241879       0.226948   \n",
       "min         0.000000       0.000000       0.000000       0.000000   \n",
       "25%         0.000000       0.000000       0.000000       0.000000   \n",
       "50%         0.000000       0.000000       0.000000       0.000000   \n",
       "75%         0.000000       0.000000       0.000000       0.000000   \n",
       "max        16.000000      20.000000      53.000000      12.000000   \n",
       "\n",
       "       visit_hour_20  visit_hour_21  visit_hour_22  visit_hour_23  \\\n",
       "count  563482.000000  563482.000000  563482.000000  563482.000000   \n",
       "mean        0.045052       0.044218       0.043169       0.040963   \n",
       "std         0.221887       0.218916       0.214463       0.209174   \n",
       "min         0.000000       0.000000       0.000000       0.000000   \n",
       "25%         0.000000       0.000000       0.000000       0.000000   \n",
       "50%         0.000000       0.000000       0.000000       0.000000   \n",
       "75%         0.000000       0.000000       0.000000       0.000000   \n",
       "max        11.000000      13.000000      13.000000       9.000000   \n",
       "\n",
       "         visitNumber  \n",
       "count  563482.000000  \n",
       "mean        1.256454  \n",
       "std         1.407070  \n",
       "min         1.000000  \n",
       "25%         1.000000  \n",
       "50%         1.000000  \n",
       "75%         1.000000  \n",
       "max       278.000000  \n",
       "\n",
       "[8 rows x 94 columns]"
      ]
     },
     "execution_count": 67,
     "metadata": {},
     "output_type": "execute_result"
    }
   ],
   "source": [
    "dfx0.describe()"
   ]
  },
  {
   "cell_type": "code",
   "execution_count": 4,
   "metadata": {},
   "outputs": [
    {
     "name": "stdout",
     "output_type": "stream",
     "text": [
      "<class 'pandas.core.frame.DataFrame'>\n",
      "RangeIndex: 563482 entries, 0 to 563481\n",
      "Data columns (total 95 columns):\n",
      "fullVisitorId                      563482 non-null object\n",
      "avg_hits                           563482 non-null float64\n",
      "avg_pageviews                      563482 non-null float64\n",
      "bounces                            563482 non-null float64\n",
      "newVisits                          563482 non-null float64\n",
      "fake_traffic                       563482 non-null int64\n",
      "ctadwords                          563482 non-null int64\n",
      "channelGrouping_Affiliates         563482 non-null float64\n",
      "channelGrouping_Direct             563482 non-null float64\n",
      "channelGrouping_Display            563482 non-null float64\n",
      "channelGrouping_Organic Search     563482 non-null float64\n",
      "channelGrouping_Paid Search        563482 non-null float64\n",
      "channelGrouping_Referral           563482 non-null float64\n",
      "channelGrouping_Social             563482 non-null float64\n",
      "isTrueDirect_FALSE                 563482 non-null float64\n",
      "deviceCategory_mobile              563482 non-null float64\n",
      "deviceCategory_tablet              563482 non-null float64\n",
      "browser_new_Edge                   563482 non-null float64\n",
      "browser_new_Firefox                563482 non-null float64\n",
      "browser_new_Internet Explorer      563482 non-null float64\n",
      "browser_new_Safari                 563482 non-null float64\n",
      "browser_new_Safari (in-app)        563482 non-null float64\n",
      "browser_new_other                  563482 non-null float64\n",
      "subContinent_Australasia           563482 non-null float64\n",
      "subContinent_Caribbean             563482 non-null float64\n",
      "subContinent_Central America       563482 non-null float64\n",
      "subContinent_Central Asia          563482 non-null float64\n",
      "subContinent_Eastern Africa        563482 non-null float64\n",
      "subContinent_Eastern Asia          563482 non-null float64\n",
      "subContinent_Eastern Europe        563482 non-null float64\n",
      "subContinent_Melanesia             563482 non-null float64\n",
      "subContinent_Micronesian Region    563482 non-null float64\n",
      "subContinent_Middle Africa         563482 non-null float64\n",
      "subContinent_Northern Africa       563482 non-null float64\n",
      "subContinent_Northern America      563482 non-null float64\n",
      "subContinent_Northern Europe       563482 non-null float64\n",
      "subContinent_Polynesia             563482 non-null float64\n",
      "subContinent_South America         563482 non-null float64\n",
      "subContinent_Southeast Asia        563482 non-null float64\n",
      "subContinent_Southern Africa       563482 non-null float64\n",
      "subContinent_Southern Asia         563482 non-null float64\n",
      "subContinent_Southern Europe       563482 non-null float64\n",
      "subContinent_Western Africa        563482 non-null float64\n",
      "subContinent_Western Asia          563482 non-null float64\n",
      "subContinent_Western Europe        563482 non-null float64\n",
      "operatingSystem_Android            563482 non-null float64\n",
      "operatingSystem_BlackBerry         563482 non-null float64\n",
      "operatingSystem_Chrome OS          563482 non-null float64\n",
      "operatingSystem_Firefox OS         563482 non-null float64\n",
      "operatingSystem_FreeBSD            563482 non-null float64\n",
      "operatingSystem_Linux              563482 non-null float64\n",
      "operatingSystem_Macintosh          563482 non-null float64\n",
      "operatingSystem_NTT DoCoMo         563482 non-null float64\n",
      "operatingSystem_Nintendo 3DS       563482 non-null float64\n",
      "operatingSystem_Nintendo Wii       563482 non-null float64\n",
      "operatingSystem_Nintendo WiiU      563482 non-null float64\n",
      "operatingSystem_Nokia              563482 non-null float64\n",
      "operatingSystem_OpenBSD            563482 non-null float64\n",
      "operatingSystem_Samsung            563482 non-null float64\n",
      "operatingSystem_SunOS              563482 non-null float64\n",
      "operatingSystem_Windows            563482 non-null float64\n",
      "operatingSystem_Windows Phone      563482 non-null float64\n",
      "operatingSystem_Xbox               563482 non-null float64\n",
      "operatingSystem_iOS                563482 non-null float64\n",
      "isMobile_True                      563482 non-null float64\n",
      "weekdays_Monday                    563482 non-null float64\n",
      "weekdays_Saturday                  563482 non-null float64\n",
      "weekdays_Sunday                    563482 non-null float64\n",
      "weekdays_Thursday                  563482 non-null float64\n",
      "weekdays_Tuesday                   563482 non-null float64\n",
      "weekdays_Wednesday                 563482 non-null float64\n",
      "visit_hour_1                       563482 non-null float64\n",
      "visit_hour_2                       563482 non-null float64\n",
      "visit_hour_3                       563482 non-null float64\n",
      "visit_hour_4                       563482 non-null float64\n",
      "visit_hour_5                       563482 non-null float64\n",
      "visit_hour_6                       563482 non-null float64\n",
      "visit_hour_7                       563482 non-null float64\n",
      "visit_hour_8                       563482 non-null float64\n",
      "visit_hour_9                       563482 non-null float64\n",
      "visit_hour_10                      563482 non-null float64\n",
      "visit_hour_11                      563482 non-null float64\n",
      "visit_hour_12                      563482 non-null float64\n",
      "visit_hour_13                      563482 non-null float64\n",
      "visit_hour_14                      563482 non-null float64\n",
      "visit_hour_15                      563482 non-null float64\n",
      "visit_hour_16                      563482 non-null float64\n",
      "visit_hour_17                      563482 non-null float64\n",
      "visit_hour_18                      563482 non-null float64\n",
      "visit_hour_19                      563482 non-null float64\n",
      "visit_hour_20                      563482 non-null float64\n",
      "visit_hour_21                      563482 non-null float64\n",
      "visit_hour_22                      563482 non-null float64\n",
      "visit_hour_23                      563482 non-null float64\n",
      "visitNumber                        563482 non-null int64\n",
      "dtypes: float64(91), int64(3), object(1)\n",
      "memory usage: 408.4+ MB\n"
     ]
    }
   ],
   "source": [
    "dfx0.info()"
   ]
  },
  {
   "cell_type": "code",
   "execution_count": 5,
   "metadata": {},
   "outputs": [
    {
     "name": "stderr",
     "output_type": "stream",
     "text": [
      "/Users/Harper/anaconda3/lib/python3.6/site-packages/IPython/core/interactiveshell.py:2785: DtypeWarning: Columns (0) have mixed types. Specify dtype option on import or set low_memory=False.\n",
      "  interactivity=interactivity, compiler=compiler, result=result)\n"
     ]
    },
    {
     "data": {
      "text/plain": [
       "(563482, 2)"
      ]
     },
     "execution_count": 5,
     "metadata": {},
     "output_type": "execute_result"
    }
   ],
   "source": [
    "dfy0 = pd.read_csv(datapath+file_ytrain, names=[\"fullVisitorId\", \"transactionRevenue\"])\n",
    "dfy0.shape"
   ]
  },
  {
   "cell_type": "code",
   "execution_count": 6,
   "metadata": {},
   "outputs": [
    {
     "data": {
      "text/plain": [
       "Index(['fullVisitorId', 'transactionRevenue'], dtype='object')"
      ]
     },
     "execution_count": 6,
     "metadata": {},
     "output_type": "execute_result"
    }
   ],
   "source": [
    "dfy0.columns"
   ]
  },
  {
   "cell_type": "markdown",
   "metadata": {},
   "source": [
    "### Preprocess for Test dataset"
   ]
  },
  {
   "cell_type": "code",
   "execution_count": 7,
   "metadata": {},
   "outputs": [
    {
     "name": "stderr",
     "output_type": "stream",
     "text": [
      "/Users/Harper/anaconda3/lib/python3.6/site-packages/IPython/core/interactiveshell.py:2785: DtypeWarning: Columns (0) have mixed types. Specify dtype option on import or set low_memory=False.\n",
      "  interactivity=interactivity, compiler=compiler, result=result)\n"
     ]
    },
    {
     "data": {
      "text/plain": [
       "(140871, 95)"
      ]
     },
     "execution_count": 7,
     "metadata": {},
     "output_type": "execute_result"
    }
   ],
   "source": [
    "dftx = pd.read_csv(datapath+file_Xtest)\n",
    "dftx.shape"
   ]
  },
  {
   "cell_type": "code",
   "execution_count": 8,
   "metadata": {},
   "outputs": [
    {
     "data": {
      "text/plain": [
       "(140871, 2)"
      ]
     },
     "execution_count": 8,
     "metadata": {},
     "output_type": "execute_result"
    }
   ],
   "source": [
    "dfty = pd.read_csv(datapath+file_ytest, names=[\"fullVisitorId\", \"transactionRevenue\"])\n",
    "dfty.shape"
   ]
  },
  {
   "cell_type": "code",
   "execution_count": null,
   "metadata": {},
   "outputs": [],
   "source": []
  },
  {
   "cell_type": "markdown",
   "metadata": {},
   "source": [
    "## 1) Target Value Transformation"
   ]
  },
  {
   "cell_type": "code",
   "execution_count": 9,
   "metadata": {},
   "outputs": [
    {
     "data": {
      "text/html": [
       "<div>\n",
       "<style scoped>\n",
       "    .dataframe tbody tr th:only-of-type {\n",
       "        vertical-align: middle;\n",
       "    }\n",
       "\n",
       "    .dataframe tbody tr th {\n",
       "        vertical-align: top;\n",
       "    }\n",
       "\n",
       "    .dataframe thead th {\n",
       "        text-align: right;\n",
       "    }\n",
       "</style>\n",
       "<table border=\"1\" class=\"dataframe\">\n",
       "  <thead>\n",
       "    <tr style=\"text-align: right;\">\n",
       "      <th></th>\n",
       "      <th>transactionRevenue</th>\n",
       "    </tr>\n",
       "  </thead>\n",
       "  <tbody>\n",
       "    <tr>\n",
       "      <th>count</th>\n",
       "      <td>563482.000000</td>\n",
       "    </tr>\n",
       "    <tr>\n",
       "      <th>mean</th>\n",
       "      <td>0.288761</td>\n",
       "    </tr>\n",
       "    <tr>\n",
       "      <th>std</th>\n",
       "      <td>2.919502</td>\n",
       "    </tr>\n",
       "    <tr>\n",
       "      <th>min</th>\n",
       "      <td>0.000000</td>\n",
       "    </tr>\n",
       "    <tr>\n",
       "      <th>25%</th>\n",
       "      <td>0.000000</td>\n",
       "    </tr>\n",
       "    <tr>\n",
       "      <th>50%</th>\n",
       "      <td>0.000000</td>\n",
       "    </tr>\n",
       "    <tr>\n",
       "      <th>75%</th>\n",
       "      <td>0.000000</td>\n",
       "    </tr>\n",
       "    <tr>\n",
       "      <th>max</th>\n",
       "      <td>582.402405</td>\n",
       "    </tr>\n",
       "  </tbody>\n",
       "</table>\n",
       "</div>"
      ],
      "text/plain": [
       "       transactionRevenue\n",
       "count       563482.000000\n",
       "mean             0.288761\n",
       "std              2.919502\n",
       "min              0.000000\n",
       "25%              0.000000\n",
       "50%              0.000000\n",
       "75%              0.000000\n",
       "max            582.402405"
      ]
     },
     "execution_count": 9,
     "metadata": {},
     "output_type": "execute_result"
    }
   ],
   "source": [
    "dfy0.describe()"
   ]
  },
  {
   "cell_type": "code",
   "execution_count": 10,
   "metadata": {},
   "outputs": [
    {
     "data": {
      "text/plain": [
       "array([[<matplotlib.axes._subplots.AxesSubplot object at 0x1a28577048>]],\n",
       "      dtype=object)"
      ]
     },
     "execution_count": 10,
     "metadata": {},
     "output_type": "execute_result"
    },
    {
     "data": {
      "image/png": "[encoded data removed]",
      "text/plain": [
       "<Figure size 432x288 with 1 Axes>"
      ]
     },
     "metadata": {},
     "output_type": "display_data"
    }
   ],
   "source": [
    "dfy0.describe().hist()"
   ]
  },
  {
   "cell_type": "code",
   "execution_count": 11,
   "metadata": {},
   "outputs": [
    {
     "data": {
      "text/plain": [
       "4175"
      ]
     },
     "execution_count": 11,
     "metadata": {},
     "output_type": "execute_result"
    }
   ],
   "source": [
    "dfy0[\"transactionRevenue\"].value_counts().count()"
   ]
  },
  {
   "cell_type": "markdown",
   "metadata": {},
   "source": [
    "### Preprocess for Test dataset"
   ]
  },
  {
   "cell_type": "code",
   "execution_count": 12,
   "metadata": {},
   "outputs": [],
   "source": [
    "# N/A"
   ]
  },
  {
   "cell_type": "markdown",
   "metadata": {},
   "source": [
    "## 2) Predictors Value Standardization"
   ]
  },
  {
   "cell_type": "code",
   "execution_count": 13,
   "metadata": {},
   "outputs": [],
   "source": [
    "from sklearn.preprocessing import StandardScaler"
   ]
  },
  {
   "cell_type": "code",
   "execution_count": 14,
   "metadata": {},
   "outputs": [],
   "source": [
    "def standardize_feature(series):\n",
    "    '''\n",
    "    Use StandardScaler to standardizing a single feature\n",
    "    ----------\n",
    "    Parameters\n",
    "    series: A Series\n",
    "    ----------\n",
    "    Returns\n",
    "    scaled_array: A standardized numpy.array\n",
    "    '''\n",
    "    arr = np.reshape(series.tolist(), (-1,1))\n",
    "    stscaler = StandardScaler().fit(arr)\n",
    "    scaled_array = stscaler.transform(arr)\n",
    "    return scaled_array"
   ]
  },
  {
   "cell_type": "code",
   "execution_count": 15,
   "metadata": {},
   "outputs": [],
   "source": [
    "def standardize_dataframe(df):\n",
    "    '''\n",
    "    Use StandardScaler to standardizing a dataframe\n",
    "    ----------\n",
    "    Parameters\n",
    "    series: A dataframe\n",
    "    ----------\n",
    "    Returns\n",
    "    scaled_array: A standardized numpy.array\n",
    "    '''\n",
    "    stscaler = StandardScaler().fit(df)\n",
    "    scaled_array = stscaler.transform(df)\n",
    "    return scaled_array"
   ]
  },
  {
   "cell_type": "code",
   "execution_count": 16,
   "metadata": {},
   "outputs": [],
   "source": [
    "dfx0_ = dfx0.drop(\"fullVisitorId\", axis=1)"
   ]
  },
  {
   "cell_type": "code",
   "execution_count": 17,
   "metadata": {},
   "outputs": [
    {
     "data": {
      "text/plain": [
       "(563482, 94)"
      ]
     },
     "execution_count": 17,
     "metadata": {},
     "output_type": "execute_result"
    }
   ],
   "source": [
    "arr_x0 = standardize_dataframe(dfx0_)\n",
    "arr_x0.shape"
   ]
  },
  {
   "cell_type": "code",
   "execution_count": 18,
   "metadata": {},
   "outputs": [],
   "source": [
    "dfx2 = pd.DataFrame(arr_x0, columns=dfx0_.columns)\n",
    "dfx2.insert(loc=0, column=\"fullVisitorId\", value=dfx0[\"fullVisitorId\"])"
   ]
  },
  {
   "cell_type": "code",
   "execution_count": 19,
   "metadata": {},
   "outputs": [
    {
     "data": {
      "text/html": [
       "<div>\n",
       "<style scoped>\n",
       "    .dataframe tbody tr th:only-of-type {\n",
       "        vertical-align: middle;\n",
       "    }\n",
       "\n",
       "    .dataframe tbody tr th {\n",
       "        vertical-align: top;\n",
       "    }\n",
       "\n",
       "    .dataframe thead th {\n",
       "        text-align: right;\n",
       "    }\n",
       "</style>\n",
       "<table border=\"1\" class=\"dataframe\">\n",
       "  <thead>\n",
       "    <tr style=\"text-align: right;\">\n",
       "      <th></th>\n",
       "      <th>fullVisitorId</th>\n",
       "      <th>avg_hits</th>\n",
       "      <th>avg_pageviews</th>\n",
       "      <th>bounces</th>\n",
       "      <th>newVisits</th>\n",
       "      <th>fake_traffic</th>\n",
       "      <th>ctadwords</th>\n",
       "      <th>channelGrouping_Affiliates</th>\n",
       "      <th>channelGrouping_Direct</th>\n",
       "      <th>channelGrouping_Display</th>\n",
       "      <th>...</th>\n",
       "      <th>visit_hour_15</th>\n",
       "      <th>visit_hour_16</th>\n",
       "      <th>visit_hour_17</th>\n",
       "      <th>visit_hour_18</th>\n",
       "      <th>visit_hour_19</th>\n",
       "      <th>visit_hour_20</th>\n",
       "      <th>visit_hour_21</th>\n",
       "      <th>visit_hour_22</th>\n",
       "      <th>visit_hour_23</th>\n",
       "      <th>visitNumber</th>\n",
       "    </tr>\n",
       "  </thead>\n",
       "  <tbody>\n",
       "    <tr>\n",
       "      <th>0</th>\n",
       "      <td>9199694249115427127</td>\n",
       "      <td>-0.404069</td>\n",
       "      <td>-0.441817</td>\n",
       "      <td>0.400745</td>\n",
       "      <td>0.114709</td>\n",
       "      <td>0.0</td>\n",
       "      <td>-0.17172</td>\n",
       "      <td>-0.109735</td>\n",
       "      <td>-0.258683</td>\n",
       "      <td>-0.042732</td>\n",
       "      <td>...</td>\n",
       "      <td>-0.237088</td>\n",
       "      <td>-0.228582</td>\n",
       "      <td>-0.214773</td>\n",
       "      <td>-0.202606</td>\n",
       "      <td>-0.202798</td>\n",
       "      <td>-0.203041</td>\n",
       "      <td>-0.201986</td>\n",
       "      <td>-0.20129</td>\n",
       "      <td>-0.195833</td>\n",
       "      <td>-0.182261</td>\n",
       "    </tr>\n",
       "    <tr>\n",
       "      <th>1</th>\n",
       "      <td>2226471173658525097</td>\n",
       "      <td>-0.266257</td>\n",
       "      <td>-0.253847</td>\n",
       "      <td>-0.672040</td>\n",
       "      <td>0.114709</td>\n",
       "      <td>0.0</td>\n",
       "      <td>-0.17172</td>\n",
       "      <td>-0.109735</td>\n",
       "      <td>-0.258683</td>\n",
       "      <td>-0.042732</td>\n",
       "      <td>...</td>\n",
       "      <td>-0.237088</td>\n",
       "      <td>-0.228582</td>\n",
       "      <td>-0.214773</td>\n",
       "      <td>-0.202606</td>\n",
       "      <td>-0.202798</td>\n",
       "      <td>-0.203041</td>\n",
       "      <td>-0.201986</td>\n",
       "      <td>-0.20129</td>\n",
       "      <td>-0.195833</td>\n",
       "      <td>-0.182261</td>\n",
       "    </tr>\n",
       "    <tr>\n",
       "      <th>2</th>\n",
       "      <td>5690615457906521996</td>\n",
       "      <td>-0.404069</td>\n",
       "      <td>-0.441817</td>\n",
       "      <td>0.400745</td>\n",
       "      <td>0.114709</td>\n",
       "      <td>0.0</td>\n",
       "      <td>-0.17172</td>\n",
       "      <td>-0.109735</td>\n",
       "      <td>-0.258683</td>\n",
       "      <td>-0.042732</td>\n",
       "      <td>...</td>\n",
       "      <td>-0.237088</td>\n",
       "      <td>-0.228582</td>\n",
       "      <td>-0.214773</td>\n",
       "      <td>-0.202606</td>\n",
       "      <td>-0.202798</td>\n",
       "      <td>-0.203041</td>\n",
       "      <td>-0.201986</td>\n",
       "      <td>-0.20129</td>\n",
       "      <td>-0.195833</td>\n",
       "      <td>-0.182261</td>\n",
       "    </tr>\n",
       "    <tr>\n",
       "      <th>3</th>\n",
       "      <td>5231780110074309081</td>\n",
       "      <td>-0.404069</td>\n",
       "      <td>-0.441817</td>\n",
       "      <td>0.400745</td>\n",
       "      <td>0.114709</td>\n",
       "      <td>0.0</td>\n",
       "      <td>-0.17172</td>\n",
       "      <td>4.641206</td>\n",
       "      <td>-0.258683</td>\n",
       "      <td>-0.042732</td>\n",
       "      <td>...</td>\n",
       "      <td>-0.237088</td>\n",
       "      <td>-0.228582</td>\n",
       "      <td>-0.214773</td>\n",
       "      <td>-0.202606</td>\n",
       "      <td>-0.202798</td>\n",
       "      <td>-0.203041</td>\n",
       "      <td>-0.201986</td>\n",
       "      <td>-0.20129</td>\n",
       "      <td>-0.195833</td>\n",
       "      <td>-0.182261</td>\n",
       "    </tr>\n",
       "    <tr>\n",
       "      <th>4</th>\n",
       "      <td>3635150676929887362</td>\n",
       "      <td>-0.404069</td>\n",
       "      <td>-0.441817</td>\n",
       "      <td>0.400745</td>\n",
       "      <td>0.114709</td>\n",
       "      <td>0.0</td>\n",
       "      <td>-0.17172</td>\n",
       "      <td>-0.109735</td>\n",
       "      <td>-0.258683</td>\n",
       "      <td>-0.042732</td>\n",
       "      <td>...</td>\n",
       "      <td>-0.237088</td>\n",
       "      <td>-0.228582</td>\n",
       "      <td>-0.214773</td>\n",
       "      <td>-0.202606</td>\n",
       "      <td>-0.202798</td>\n",
       "      <td>-0.203041</td>\n",
       "      <td>-0.201986</td>\n",
       "      <td>-0.20129</td>\n",
       "      <td>-0.195833</td>\n",
       "      <td>-0.182261</td>\n",
       "    </tr>\n",
       "  </tbody>\n",
       "</table>\n",
       "<p>5 rows × 95 columns</p>\n",
       "</div>"
      ],
      "text/plain": [
       "         fullVisitorId  avg_hits  avg_pageviews   bounces  newVisits  \\\n",
       "0  9199694249115427127 -0.404069      -0.441817  0.400745   0.114709   \n",
       "1  2226471173658525097 -0.266257      -0.253847 -0.672040   0.114709   \n",
       "2  5690615457906521996 -0.404069      -0.441817  0.400745   0.114709   \n",
       "3  5231780110074309081 -0.404069      -0.441817  0.400745   0.114709   \n",
       "4  3635150676929887362 -0.404069      -0.441817  0.400745   0.114709   \n",
       "\n",
       "   fake_traffic  ctadwords  channelGrouping_Affiliates  \\\n",
       "0           0.0   -0.17172                   -0.109735   \n",
       "1           0.0   -0.17172                   -0.109735   \n",
       "2           0.0   -0.17172                   -0.109735   \n",
       "3           0.0   -0.17172                    4.641206   \n",
       "4           0.0   -0.17172                   -0.109735   \n",
       "\n",
       "   channelGrouping_Direct  channelGrouping_Display     ...       \\\n",
       "0               -0.258683                -0.042732     ...        \n",
       "1               -0.258683                -0.042732     ...        \n",
       "2               -0.258683                -0.042732     ...        \n",
       "3               -0.258683                -0.042732     ...        \n",
       "4               -0.258683                -0.042732     ...        \n",
       "\n",
       "   visit_hour_15  visit_hour_16  visit_hour_17  visit_hour_18  visit_hour_19  \\\n",
       "0      -0.237088      -0.228582      -0.214773      -0.202606      -0.202798   \n",
       "1      -0.237088      -0.228582      -0.214773      -0.202606      -0.202798   \n",
       "2      -0.237088      -0.228582      -0.214773      -0.202606      -0.202798   \n",
       "3      -0.237088      -0.228582      -0.214773      -0.202606      -0.202798   \n",
       "4      -0.237088      -0.228582      -0.214773      -0.202606      -0.202798   \n",
       "\n",
       "   visit_hour_20  visit_hour_21  visit_hour_22  visit_hour_23  visitNumber  \n",
       "0      -0.203041      -0.201986       -0.20129      -0.195833    -0.182261  \n",
       "1      -0.203041      -0.201986       -0.20129      -0.195833    -0.182261  \n",
       "2      -0.203041      -0.201986       -0.20129      -0.195833    -0.182261  \n",
       "3      -0.203041      -0.201986       -0.20129      -0.195833    -0.182261  \n",
       "4      -0.203041      -0.201986       -0.20129      -0.195833    -0.182261  \n",
       "\n",
       "[5 rows x 95 columns]"
      ]
     },
     "execution_count": 19,
     "metadata": {},
     "output_type": "execute_result"
    }
   ],
   "source": [
    "dfx2.head()"
   ]
  },
  {
   "cell_type": "markdown",
   "metadata": {},
   "source": [
    "### Preprocess for Test dataset"
   ]
  },
  {
   "cell_type": "code",
   "execution_count": 20,
   "metadata": {},
   "outputs": [
    {
     "data": {
      "text/plain": [
       "(140871, 95)"
      ]
     },
     "execution_count": 20,
     "metadata": {},
     "output_type": "execute_result"
    }
   ],
   "source": [
    "dftx_ = dftx.drop(\"fullVisitorId\", axis=1)\n",
    "arr_tx = standardize_dataframe(dftx_)\n",
    "dftx2 = pd.DataFrame(arr_tx, columns=dftx_.columns)\n",
    "dftx2.insert(loc=0, column=\"fullVisitorId\", value=dftx[\"fullVisitorId\"])\n",
    "dftx2.shape"
   ]
  },
  {
   "cell_type": "markdown",
   "metadata": {},
   "source": [
    "## 3) Train & Test Split"
   ]
  },
  {
   "cell_type": "code",
   "execution_count": 21,
   "metadata": {},
   "outputs": [],
   "source": [
    "X_train = dfx2.drop(\"fullVisitorId\", axis=1)\n",
    "y_train = dfy0.drop(\"fullVisitorId\", axis=1)"
   ]
  },
  {
   "cell_type": "markdown",
   "metadata": {},
   "source": [
    "### Preprocess for Test dataset"
   ]
  },
  {
   "cell_type": "code",
   "execution_count": 22,
   "metadata": {},
   "outputs": [],
   "source": [
    "X_test = dftx2.drop(\"fullVisitorId\", axis=1)\n",
    "y_test = dfty.drop(\"fullVisitorId\", axis=1)"
   ]
  },
  {
   "cell_type": "markdown",
   "metadata": {},
   "source": [
    "## 4) Feature Selection"
   ]
  },
  {
   "cell_type": "code",
   "execution_count": 23,
   "metadata": {},
   "outputs": [
    {
     "name": "stderr",
     "output_type": "stream",
     "text": [
      "/Users/Harper/anaconda3/lib/python3.6/site-packages/sklearn/ensemble/weight_boosting.py:29: DeprecationWarning: numpy.core.umath_tests is an internal NumPy module and should not be imported. It will be removed in a future NumPy release.\n",
      "  from numpy.core.umath_tests import inner1d\n"
     ]
    }
   ],
   "source": [
    "from sklearn.ensemble import RandomForestRegressor\n",
    "from sklearn.metrics import mean_squared_error, r2_score"
   ]
  },
  {
   "cell_type": "code",
   "execution_count": 24,
   "metadata": {},
   "outputs": [
    {
     "name": "stderr",
     "output_type": "stream",
     "text": [
      "/Users/Harper/anaconda3/lib/python3.6/site-packages/ipykernel_launcher.py:4: DataConversionWarning: A column-vector y was passed when a 1d array was expected. Please change the shape of y to (n_samples,), for example using ravel().\n",
      "  after removing the cwd from sys.path.\n"
     ]
    },
    {
     "data": {
      "text/plain": [
       "RandomForestRegressor(bootstrap=True, criterion='mse', max_depth=None,\n",
       "           max_features='auto', max_leaf_nodes=None,\n",
       "           min_impurity_decrease=0.0, min_impurity_split=None,\n",
       "           min_samples_leaf=1, min_samples_split=2,\n",
       "           min_weight_fraction_leaf=0.0, n_estimators=100, n_jobs=1,\n",
       "           oob_score=False, random_state=42, verbose=0, warm_start=False)"
      ]
     },
     "execution_count": 24,
     "metadata": {},
     "output_type": "execute_result"
    }
   ],
   "source": [
    "# Run Random Forest to select features\n",
    "\n",
    "rf = RandomForestRegressor(n_estimators=100, random_state=42)\n",
    "rf.fit(X_train, y_train)"
   ]
  },
  {
   "cell_type": "code",
   "execution_count": 25,
   "metadata": {},
   "outputs": [
    {
     "name": "stdout",
     "output_type": "stream",
     "text": [
      "Train set RMSE    : 0.90\n",
      "Test  set RMSE    : 2.21\n",
      "Train set R2 score: 0.90\n",
      "Test  set R2 score: 0.41\n"
     ]
    }
   ],
   "source": [
    "# Evaluation with MSE and R2 scores\n",
    "\n",
    "y_pred_train = rf.predict(X_train)\n",
    "y_pred_test  = rf.predict(X_test)\n",
    "\n",
    "rmse_train = mean_squared_error(y_train, y_pred_train)**(1/2)\n",
    "rmse_test  = mean_squared_error(y_test,  y_pred_test)**(1/2)\n",
    "print('Train set RMSE    : {:.2f}'.format(rmse_train))\n",
    "print('Test  set RMSE    : {:.2f}'.format(rmse_test))\n",
    "\n",
    "r2_train = r2_score(y_train, y_pred_train)\n",
    "r2_test  = r2_score(y_test,  y_pred_test)\n",
    "print('Train set R2 score: {:.2f}'.format(r2_train))\n",
    "print('Test  set R2 score: {:.2f}'.format(r2_test))"
   ]
  },
  {
   "cell_type": "code",
   "execution_count": 26,
   "metadata": {},
   "outputs": [
    {
     "data": {
      "image/png": "[encoded data removed]",
      "text/plain": [
       "<Figure size 720x2160 with 1 Axes>"
      ]
     },
     "metadata": {},
     "output_type": "display_data"
    }
   ],
   "source": [
    "# Plot feature importances\n",
    "\n",
    "importances_rf = pd.Series(rf.feature_importances_, index = X_train.columns)\n",
    "sorted_importances_rf = importances_rf.sort_values()\n",
    "plt.figure(figsize=(10, 30))\n",
    "sorted_importances_rf.plot(kind='barh', color='blue')\n",
    "plt.show()"
   ]
  },
  {
   "cell_type": "code",
   "execution_count": 27,
   "metadata": {},
   "outputs": [
    {
     "data": {
      "text/plain": [
       "['avg_pageviews',\n",
       " 'subContinent_Northern America',\n",
       " 'avg_hits',\n",
       " 'channelGrouping_Direct',\n",
       " 'visit_hour_13']"
      ]
     },
     "execution_count": 27,
     "metadata": {},
     "output_type": "execute_result"
    }
   ],
   "source": [
    "# 60 first features by their importance\n",
    "\n",
    "features_selected = sorted_importances_rf.index[-60:].tolist()\n",
    "features_selected.reverse()\n",
    "features_selected[:5]"
   ]
  },
  {
   "cell_type": "markdown",
   "metadata": {},
   "source": [
    "## 5) Data Split for Two-step Modeling"
   ]
  },
  {
   "cell_type": "code",
   "execution_count": 28,
   "metadata": {},
   "outputs": [
    {
     "data": {
      "text/plain": [
       "(563482, 60)"
      ]
     },
     "execution_count": 28,
     "metadata": {},
     "output_type": "execute_result"
    }
   ],
   "source": [
    "# Select Features \n",
    "\n",
    "dfx5 = X_train[features_selected]\n",
    "dfx5.shape"
   ]
  },
  {
   "cell_type": "code",
   "execution_count": 29,
   "metadata": {},
   "outputs": [
    {
     "name": "stderr",
     "output_type": "stream",
     "text": [
      "/Users/Harper/anaconda3/lib/python3.6/site-packages/ipykernel_launcher.py:5: SettingWithCopyWarning: \n",
      "A value is trying to be set on a copy of a slice from a DataFrame.\n",
      "Try using .loc[row_indexer,col_indexer] = value instead\n",
      "\n",
      "See the caveats in the documentation: http://pandas.pydata.org/pandas-docs/stable/indexing.html#indexing-view-versus-copy\n",
      "  \"\"\"\n"
     ]
    }
   ],
   "source": [
    "# Create a Switch to indicate Transaction or Non-transaction\n",
    "\n",
    "dfy5 = y_train.copy()\n",
    "dfy5[\"trans_switch\"] = (dfy5[\"transactionRevenue\"]>0)*1\n",
    "dfx5[\"trans_switch\"] = dfy5[\"trans_switch\"]"
   ]
  },
  {
   "cell_type": "markdown",
   "metadata": {},
   "source": [
    "#### 5.1) Data for Step-1: Classification for Transaction or Non-transaction"
   ]
  },
  {
   "cell_type": "code",
   "execution_count": 30,
   "metadata": {},
   "outputs": [
    {
     "name": "stdout",
     "output_type": "stream",
     "text": [
      "(563482, 60)\n"
     ]
    }
   ],
   "source": [
    "# X_train_s1\n",
    "# Row    : All Observations\n",
    "# Column : All Features\n",
    "\n",
    "X_train_s1 = dfx5.drop(\"trans_switch\", axis=1)\n",
    "print(X_train_s1.shape)"
   ]
  },
  {
   "cell_type": "code",
   "execution_count": 31,
   "metadata": {},
   "outputs": [
    {
     "name": "stdout",
     "output_type": "stream",
     "text": [
      "(563482,)\n"
     ]
    }
   ],
   "source": [
    "# y_train_s1\n",
    "# Row    : All Observations\n",
    "# Column : Categorical Response\n",
    "\n",
    "y_train_s1 = dfy5[\"trans_switch\"]\n",
    "print(y_train_s1.shape)"
   ]
  },
  {
   "cell_type": "markdown",
   "metadata": {},
   "source": [
    "#### 5.2) Data for Step-2: Regression for Transaction Revenue"
   ]
  },
  {
   "cell_type": "code",
   "execution_count": 32,
   "metadata": {},
   "outputs": [
    {
     "name": "stdout",
     "output_type": "stream",
     "text": [
      "(7928, 60)\n"
     ]
    }
   ],
   "source": [
    "# X_train_s2\n",
    "# Row    : Observations with Transactions\n",
    "# Column : All Features\n",
    "\n",
    "X_train_s2 = dfx5.loc[dfx5[\"trans_switch\"]==1, :]\n",
    "X_train_s2 = X_train_s2.drop(\"trans_switch\", axis=1)\n",
    "print(X_train_s2.shape)"
   ]
  },
  {
   "cell_type": "code",
   "execution_count": 33,
   "metadata": {},
   "outputs": [
    {
     "name": "stdout",
     "output_type": "stream",
     "text": [
      "(7928, 1)\n"
     ]
    },
    {
     "data": {
      "text/html": [
       "<div>\n",
       "<style scoped>\n",
       "    .dataframe tbody tr th:only-of-type {\n",
       "        vertical-align: middle;\n",
       "    }\n",
       "\n",
       "    .dataframe tbody tr th {\n",
       "        vertical-align: top;\n",
       "    }\n",
       "\n",
       "    .dataframe thead th {\n",
       "        text-align: right;\n",
       "    }\n",
       "</style>\n",
       "<table border=\"1\" class=\"dataframe\">\n",
       "  <thead>\n",
       "    <tr style=\"text-align: right;\">\n",
       "      <th></th>\n",
       "      <th>transactionRevenue</th>\n",
       "    </tr>\n",
       "  </thead>\n",
       "  <tbody>\n",
       "    <tr>\n",
       "      <th>count</th>\n",
       "      <td>7928.000000</td>\n",
       "    </tr>\n",
       "    <tr>\n",
       "      <th>mean</th>\n",
       "      <td>20.523694</td>\n",
       "    </tr>\n",
       "    <tr>\n",
       "      <th>std</th>\n",
       "      <td>13.803405</td>\n",
       "    </tr>\n",
       "    <tr>\n",
       "      <th>min</th>\n",
       "      <td>10.596635</td>\n",
       "    </tr>\n",
       "    <tr>\n",
       "      <th>25%</th>\n",
       "      <td>17.020591</td>\n",
       "    </tr>\n",
       "    <tr>\n",
       "      <th>50%</th>\n",
       "      <td>17.727334</td>\n",
       "    </tr>\n",
       "    <tr>\n",
       "      <th>75%</th>\n",
       "      <td>18.617562</td>\n",
       "    </tr>\n",
       "    <tr>\n",
       "      <th>max</th>\n",
       "      <td>582.402405</td>\n",
       "    </tr>\n",
       "  </tbody>\n",
       "</table>\n",
       "</div>"
      ],
      "text/plain": [
       "       transactionRevenue\n",
       "count         7928.000000\n",
       "mean            20.523694\n",
       "std             13.803405\n",
       "min             10.596635\n",
       "25%             17.020591\n",
       "50%             17.727334\n",
       "75%             18.617562\n",
       "max            582.402405"
      ]
     },
     "execution_count": 33,
     "metadata": {},
     "output_type": "execute_result"
    }
   ],
   "source": [
    "# y_train_s2\n",
    "# Row    : Observations with Transactions\n",
    "# Column : Transaction Revenue\n",
    "\n",
    "y_train_s2 = dfy5.loc[dfy5[\"trans_switch\"]==1, :]\n",
    "y_train_s2 = y_train_s2.drop(\"trans_switch\", axis=1)\n",
    "print(y_train_s2.shape)\n",
    "y_train_s2.describe()"
   ]
  },
  {
   "cell_type": "code",
   "execution_count": 54,
   "metadata": {},
   "outputs": [
    {
     "data": {
      "text/plain": [
       "array([[<matplotlib.axes._subplots.AxesSubplot object at 0x1b46e4a7b8>]],\n",
       "      dtype=object)"
      ]
     },
     "execution_count": 54,
     "metadata": {},
     "output_type": "execute_result"
    },
    {
     "data": {
      "image/png": "[encoded data removed]",
      "text/plain": [
       "<Figure size 720x360 with 1 Axes>"
      ]
     },
     "metadata": {},
     "output_type": "display_data"
    }
   ],
   "source": [
    "y_train_s2.hist()"
   ]
  },
  {
   "cell_type": "markdown",
   "metadata": {},
   "source": [
    "### Preprocess for Test Dataset"
   ]
  },
  {
   "cell_type": "code",
   "execution_count": 34,
   "metadata": {},
   "outputs": [
    {
     "name": "stdout",
     "output_type": "stream",
     "text": [
      "(140871, 60)\n",
      "(140871,)\n",
      "(2067, 60)\n",
      "(2067, 1)\n"
     ]
    },
    {
     "name": "stderr",
     "output_type": "stream",
     "text": [
      "/Users/Harper/anaconda3/lib/python3.6/site-packages/ipykernel_launcher.py:4: SettingWithCopyWarning: \n",
      "A value is trying to be set on a copy of a slice from a DataFrame.\n",
      "Try using .loc[row_indexer,col_indexer] = value instead\n",
      "\n",
      "See the caveats in the documentation: http://pandas.pydata.org/pandas-docs/stable/indexing.html#indexing-view-versus-copy\n",
      "  after removing the cwd from sys.path.\n"
     ]
    },
    {
     "data": {
      "text/html": [
       "<div>\n",
       "<style scoped>\n",
       "    .dataframe tbody tr th:only-of-type {\n",
       "        vertical-align: middle;\n",
       "    }\n",
       "\n",
       "    .dataframe tbody tr th {\n",
       "        vertical-align: top;\n",
       "    }\n",
       "\n",
       "    .dataframe thead th {\n",
       "        text-align: right;\n",
       "    }\n",
       "</style>\n",
       "<table border=\"1\" class=\"dataframe\">\n",
       "  <thead>\n",
       "    <tr style=\"text-align: right;\">\n",
       "      <th></th>\n",
       "      <th>transactionRevenue</th>\n",
       "    </tr>\n",
       "  </thead>\n",
       "  <tbody>\n",
       "    <tr>\n",
       "      <th>count</th>\n",
       "      <td>2067.000000</td>\n",
       "    </tr>\n",
       "    <tr>\n",
       "      <th>mean</th>\n",
       "      <td>20.564371</td>\n",
       "    </tr>\n",
       "    <tr>\n",
       "      <th>std</th>\n",
       "      <td>12.392800</td>\n",
       "    </tr>\n",
       "    <tr>\n",
       "      <th>min</th>\n",
       "      <td>9.210340</td>\n",
       "    </tr>\n",
       "    <tr>\n",
       "      <th>25%</th>\n",
       "      <td>17.030378</td>\n",
       "    </tr>\n",
       "    <tr>\n",
       "      <th>50%</th>\n",
       "      <td>17.777656</td>\n",
       "    </tr>\n",
       "    <tr>\n",
       "      <th>75%</th>\n",
       "      <td>18.755366</td>\n",
       "    </tr>\n",
       "    <tr>\n",
       "      <th>max</th>\n",
       "      <td>285.144613</td>\n",
       "    </tr>\n",
       "  </tbody>\n",
       "</table>\n",
       "</div>"
      ],
      "text/plain": [
       "       transactionRevenue\n",
       "count         2067.000000\n",
       "mean            20.564371\n",
       "std             12.392800\n",
       "min              9.210340\n",
       "25%             17.030378\n",
       "50%             17.777656\n",
       "75%             18.755366\n",
       "max            285.144613"
      ]
     },
     "execution_count": 34,
     "metadata": {},
     "output_type": "execute_result"
    }
   ],
   "source": [
    "dftx5 = X_test[features_selected]\n",
    "dfty5 = y_test.copy()\n",
    "dfty5[\"trans_switch\"] = (dfty5[\"transactionRevenue\"]>0)*1\n",
    "dftx5[\"trans_switch\"] = dfty5[\"trans_switch\"]\n",
    "\n",
    "X_test_s1 = dftx5.drop(\"trans_switch\", axis=1)\n",
    "print(X_test_s1.shape)\n",
    "\n",
    "y_test_s1 = dfty5[\"trans_switch\"]\n",
    "print(y_test_s1.shape)\n",
    "\n",
    "X_test_s2 = dftx5.loc[dftx5[\"trans_switch\"]==1, :]\n",
    "X_test_s2 = X_test_s2.drop(\"trans_switch\", axis=1)\n",
    "print(X_test_s2.shape)\n",
    "\n",
    "y_test_s2 = dfty5.loc[dfty5[\"trans_switch\"]==1, :]\n",
    "y_test_s2 = y_test_s2.drop(\"trans_switch\", axis=1)\n",
    "print(y_test_s2.shape)\n",
    "y_test_s2.describe()"
   ]
  },
  {
   "cell_type": "markdown",
   "metadata": {},
   "source": [
    "## 6) Feature Extraction: PCA"
   ]
  },
  {
   "cell_type": "code",
   "execution_count": 35,
   "metadata": {},
   "outputs": [],
   "source": [
    "from sklearn.decomposition import PCA"
   ]
  },
  {
   "cell_type": "code",
   "execution_count": 36,
   "metadata": {},
   "outputs": [],
   "source": [
    "def fit_pca(df, n_components):\n",
    "    '''\n",
    "    Uses sklearn.decomposition.PCA to fit a PCA model on \"df\".\n",
    "    ----------\n",
    "    Parameters\n",
    "    df: A pandas.DataFrame\n",
    "    n_components: An int. Number of principal components to keep\n",
    "    ----------\n",
    "    Returns\n",
    "    An sklearn.decomposition.pca.PCA instance.\n",
    "    '''\n",
    "    pca = PCA(n_components=n_components)\n",
    "    pca_fitted = pca.fit(df)\n",
    "    return pca_fitted"
   ]
  },
  {
   "cell_type": "code",
   "execution_count": 37,
   "metadata": {},
   "outputs": [],
   "source": [
    "def plot_pca_variance(pca):\n",
    "    '''\n",
    "    Plots the variance explained by each of the principal components.\n",
    "    Attributes are not scaled, hence a naive approach.\n",
    "    ----------\n",
    "    Parameters\n",
    "    pca: An sklearn.decomposition.pca.PCA instance.\n",
    "    ----------\n",
    "    Returns\n",
    "    A matplotlib.Axes instance.\n",
    "    '''\n",
    "    features = range(pca.n_components_)\n",
    "    ax = plt.axes()\n",
    "    plt.rcParams[\"figure.figsize\"] = (10,5)\n",
    "    plt.plot(features, pca.explained_variance_ratio_)\n",
    "    plt.xlabel('Dimension #')\n",
    "    plt.ylabel('Explained Variance Ratio')\n",
    "    plt.title(\"Fraction of Explained Variance\")\n",
    "    plt.xticks(features)\n",
    "    plt.show()\n",
    "    return ax"
   ]
  },
  {
   "cell_type": "code",
   "execution_count": 38,
   "metadata": {},
   "outputs": [],
   "source": [
    "def pca_trans(pca, array):\n",
    "    '''\n",
    "    Applies the `pca` model on array.\n",
    "    ----------\n",
    "    Parameters\n",
    "    pca: An sklearn.decomposition.PCA instance.\n",
    "    ----------\n",
    "    Returns\n",
    "    A Numpy array\n",
    "    '''\n",
    "    reduced = pca.transform(array)\n",
    "    return reduced"
   ]
  },
  {
   "cell_type": "code",
   "execution_count": 39,
   "metadata": {},
   "outputs": [
    {
     "data": {
      "image/png": "[encoded data removed]",
      "text/plain": [
       "<Figure size 432x288 with 1 Axes>"
      ]
     },
     "metadata": {},
     "output_type": "display_data"
    },
    {
     "data": {
      "text/plain": [
       "<matplotlib.axes._subplots.AxesSubplot at 0x1a2d2e8668>"
      ]
     },
     "execution_count": 39,
     "metadata": {},
     "output_type": "execute_result"
    }
   ],
   "source": [
    "# Model-S1: Try 20 PCA\n",
    "\n",
    "pca_model = fit_pca(X_train_s1, 20)\n",
    "plot_pca_variance(pca_model)"
   ]
  },
  {
   "cell_type": "code",
   "execution_count": 40,
   "metadata": {},
   "outputs": [
    {
     "name": "stdout",
     "output_type": "stream",
     "text": [
      "(563482, 12)\n"
     ]
    }
   ],
   "source": [
    "# Model-S1: Select 12 PCA to transform\n",
    "\n",
    "pca_model = fit_pca(X_train_s1, 12)\n",
    "X_train_s1_pca = pca_trans(pca_model, X_train_s1)\n",
    "print(X_train_s1_pca.shape)"
   ]
  },
  {
   "cell_type": "code",
   "execution_count": 41,
   "metadata": {},
   "outputs": [
    {
     "data": {
      "image/png": "[encoded data removed]",
      "text/plain": [
       "<Figure size 720x360 with 1 Axes>"
      ]
     },
     "metadata": {},
     "output_type": "display_data"
    },
    {
     "data": {
      "text/plain": [
       "<matplotlib.axes._subplots.AxesSubplot at 0x1a275487b8>"
      ]
     },
     "execution_count": 41,
     "metadata": {},
     "output_type": "execute_result"
    }
   ],
   "source": [
    "# Model-S2: Try 20 PCA\n",
    "\n",
    "pca_model = fit_pca(X_train_s2, 20)\n",
    "plot_pca_variance(pca_model)"
   ]
  },
  {
   "cell_type": "code",
   "execution_count": 42,
   "metadata": {},
   "outputs": [
    {
     "name": "stdout",
     "output_type": "stream",
     "text": [
      "(7928, 10)\n"
     ]
    }
   ],
   "source": [
    "# Model-S2: Select 10 PCA to transform\n",
    "\n",
    "pca_model = fit_pca(X_train_s2, 10)\n",
    "X_train_s2_pca = pca_trans(pca_model, X_train_s2)\n",
    "print(X_train_s2_pca.shape)"
   ]
  },
  {
   "cell_type": "markdown",
   "metadata": {},
   "source": [
    "### Preprocess for Test dataset"
   ]
  },
  {
   "cell_type": "code",
   "execution_count": 43,
   "metadata": {},
   "outputs": [
    {
     "name": "stdout",
     "output_type": "stream",
     "text": [
      "(140871, 12)\n",
      "(2067, 10)\n"
     ]
    }
   ],
   "source": [
    "# Model-S1: Select 12 PCA to transform\n",
    "pca_model = fit_pca(X_test_s1, 12)\n",
    "X_test_s1_pca = pca_trans(pca_model, X_test_s1)\n",
    "print(X_test_s1_pca.shape)\n",
    "\n",
    "# Model-S2: Select 10 PCA to transform\n",
    "pca_model = fit_pca(X_test_s2, 10)\n",
    "X_test_s2_pca = pca_trans(pca_model, X_test_s2)\n",
    "print(X_test_s2_pca.shape)"
   ]
  },
  {
   "cell_type": "markdown",
   "metadata": {},
   "source": [
    "## 7) Modeling step-1: Classification for Transaction or Non-transaction"
   ]
  },
  {
   "cell_type": "code",
   "execution_count": 88,
   "metadata": {},
   "outputs": [],
   "source": [
    "from sklearn.linear_model import LogisticRegression\n",
    "from sklearn.tree         import DecisionTreeClassifier\n",
    "from sklearn.svm          import SVC\n",
    "from sklearn.ensemble     import RandomForestRegressor\n",
    "from sklearn.metrics      import mean_squared_error, r2_score\n",
    "from sklearn.metrics      import accuracy_score, classification_report\n",
    "#from sklearn.metrics      import accuracy_score, classification_report, f1_score, precision_score, recall_score\n",
    "import pickle"
   ]
  },
  {
   "cell_type": "code",
   "execution_count": 45,
   "metadata": {},
   "outputs": [
    {
     "data": {
      "text/plain": [
       "LogisticRegression(C=1.0, class_weight=None, dual=False, fit_intercept=True,\n",
       "          intercept_scaling=1, max_iter=100, multi_class='ovr', n_jobs=1,\n",
       "          penalty='l2', random_state=None, solver='liblinear', tol=0.0001,\n",
       "          verbose=0, warm_start=False)"
      ]
     },
     "execution_count": 45,
     "metadata": {},
     "output_type": "execute_result"
    }
   ],
   "source": [
    "# 7.1) Run Logistic Regression\n",
    "\n",
    "s1_lr = LogisticRegression()\n",
    "s1_lr.fit(X_train_s1_pca, y_train_s1)"
   ]
  },
  {
   "cell_type": "code",
   "execution_count": 46,
   "metadata": {},
   "outputs": [],
   "source": [
    "# Save and load the fitted model\n",
    "modelfile = 's1_lr.sav'\n",
    "pickle.dump(s1_lr, open(modelfile, 'wb'))\n",
    "#s1_lr = pickle.load(open(modelfile, 'rb'))"
   ]
  },
  {
   "cell_type": "code",
   "execution_count": 94,
   "metadata": {},
   "outputs": [
    {
     "name": "stdout",
     "output_type": "stream",
     "text": [
      "Train Accuracy   : 0.9856712370581492\n",
      "             precision    recall  f1-score   support\n",
      "\n",
      "          0       0.99      1.00      0.99    555554\n",
      "          1       0.47      0.17      0.26      7928\n",
      "\n",
      "avg / total       0.98      0.99      0.98    563482\n",
      "\n",
      "==============================\n",
      "Test  Accuracy   : 0.9846384280653931\n",
      "             precision    recall  f1-score   support\n",
      "\n",
      "          0       0.99      1.00      0.99    138804\n",
      "          1       0.45      0.23      0.31      2067\n",
      "\n",
      "avg / total       0.98      0.98      0.98    140871\n",
      "\n"
     ]
    }
   ],
   "source": [
    "# model evaluation\n",
    "labels = [0, 1]\n",
    "\n",
    "y_pred_train_s1 = s1_lr.predict(X_train_s1_pca)\n",
    "accuracy = accuracy_score(y_train_s1, y_pred_train_s1)\n",
    "classrpt = classification_report(y_train_s1, y_pred_train_s1, labels=labels)\n",
    "print(f\"Train Accuracy   : {accuracy}\")\n",
    "print(classrpt)\n",
    "print(\"==============================\")\n",
    "\n",
    "y_pred_test_s1 = s1_lr.predict(X_test_s1_pca)\n",
    "accuracy = accuracy_score(y_test_s1, y_pred_test_s1)\n",
    "classrpt = classification_report(y_test_s1, y_pred_test_s1, labels=labels)\n",
    "print(f\"Test  Accuracy   : {accuracy}\")\n",
    "print(classrpt)"
   ]
  },
  {
   "cell_type": "code",
   "execution_count": 48,
   "metadata": {},
   "outputs": [
    {
     "data": {
      "text/plain": [
       "DecisionTreeClassifier(class_weight=None, criterion='gini', max_depth=None,\n",
       "            max_features=None, max_leaf_nodes=None,\n",
       "            min_impurity_decrease=0.0, min_impurity_split=None,\n",
       "            min_samples_leaf=1, min_samples_split=2,\n",
       "            min_weight_fraction_leaf=0.0, presort=False, random_state=42,\n",
       "            splitter='best')"
      ]
     },
     "execution_count": 48,
     "metadata": {},
     "output_type": "execute_result"
    }
   ],
   "source": [
    "# 7.2) Run Decision Tree\n",
    "\n",
    "s1_dt = DecisionTreeClassifier(random_state=42)\n",
    "s1_dt.fit(X_train_s1_pca, y_train_s1)"
   ]
  },
  {
   "cell_type": "code",
   "execution_count": 49,
   "metadata": {},
   "outputs": [],
   "source": [
    "# Save and load the fitted model\n",
    "modelfile = 's1_dt.sav'\n",
    "pickle.dump(s1_dt, open(modelfile, 'wb'))\n",
    "#s1_dt = pickle.load(open(modelfile, 'rb'))"
   ]
  },
  {
   "cell_type": "code",
   "execution_count": 95,
   "metadata": {},
   "outputs": [
    {
     "name": "stdout",
     "output_type": "stream",
     "text": [
      "Train Accuracy   : 0.9998615749926351\n",
      "             precision    recall  f1-score   support\n",
      "\n",
      "          0       1.00      1.00      1.00    555554\n",
      "          1       1.00      0.99      1.00      7928\n",
      "\n",
      "avg / total       1.00      1.00      1.00    563482\n",
      "\n",
      "==============================\n",
      "Test  Accuracy   : 0.975587594323885\n",
      "             precision    recall  f1-score   support\n",
      "\n",
      "          0       0.99      0.98      0.99    138804\n",
      "          1       0.26      0.35      0.30      2067\n",
      "\n",
      "avg / total       0.98      0.98      0.98    140871\n",
      "\n"
     ]
    }
   ],
   "source": [
    "# model evaluation\n",
    "labels = [0, 1]\n",
    "\n",
    "y_pred_train_s1 = s1_dt.predict(X_train_s1_pca)\n",
    "accuracy = accuracy_score(y_train_s1, y_pred_train_s1)\n",
    "classrpt = classification_report(y_train_s1, y_pred_train_s1, labels=labels)\n",
    "print(f\"Train Accuracy   : {accuracy}\")\n",
    "print(classrpt)\n",
    "print(\"==============================\")\n",
    "\n",
    "y_pred_test_s1 = s1_dt.predict(X_test_s1_pca)\n",
    "accuracy = accuracy_score(y_test_s1, y_pred_test_s1)\n",
    "classrpt = classification_report(y_test_s1, y_pred_test_s1, labels=labels)\n",
    "print(f\"Test  Accuracy   : {accuracy}\")\n",
    "print(classrpt)"
   ]
  },
  {
   "cell_type": "code",
   "execution_count": 51,
   "metadata": {},
   "outputs": [
    {
     "data": {
      "text/plain": [
       "RandomForestRegressor(bootstrap=True, criterion='mse', max_depth=None,\n",
       "           max_features='auto', max_leaf_nodes=None,\n",
       "           min_impurity_decrease=0.0, min_impurity_split=None,\n",
       "           min_samples_leaf=1, min_samples_split=2,\n",
       "           min_weight_fraction_leaf=0.0, n_estimators=1000, n_jobs=1,\n",
       "           oob_score=False, random_state=42, verbose=0, warm_start=False)"
      ]
     },
     "execution_count": 51,
     "metadata": {},
     "output_type": "execute_result"
    }
   ],
   "source": [
    "# 7.3) Run Random Forest\n",
    "\n",
    "s1_rf = RandomForestRegressor(n_estimators=1000, random_state=42)\n",
    "s1_rf.fit(X_train_s1_pca, y_train_s1)"
   ]
  },
  {
   "cell_type": "code",
   "execution_count": 52,
   "metadata": {},
   "outputs": [],
   "source": [
    "# Save and load the fitted model\n",
    "modelfile = 's1_rf.sav'\n",
    "pickle.dump(s1_rf, open(modelfile, 'wb'))\n",
    "#s1_rf = pickle.load(open(modelfile, 'rb'))"
   ]
  },
  {
   "cell_type": "code",
   "execution_count": 93,
   "metadata": {},
   "outputs": [
    {
     "name": "stdout",
     "output_type": "stream",
     "text": [
      "Train Accuracy   : 0.9998615749926351\n",
      "             precision    recall  f1-score   support\n",
      "\n",
      "          0       1.00      1.00      1.00    555554\n",
      "          1       1.00      0.99      1.00      7928\n",
      "\n",
      "avg / total       1.00      1.00      1.00    563482\n",
      "\n",
      "==============================\n",
      "Test  Accuracy   : 0.9856961333418518\n",
      "             precision    recall  f1-score   support\n",
      "\n",
      "          0       0.99      1.00      0.99    138804\n",
      "          1       0.53      0.22      0.31      2067\n",
      "\n",
      "avg / total       0.98      0.99      0.98    140871\n",
      "\n"
     ]
    }
   ],
   "source": [
    "# model evaluation\n",
    "labels = [0, 1]\n",
    "\n",
    "y_pred_train_s1_prob = s1_rf.predict(X_train_s1_pca)\n",
    "y_pred_train_s1 = (y_pred_train_s1_prob >= 0.5)*1\n",
    "accuracy = accuracy_score(y_train_s1, y_pred_train_s1)\n",
    "classrpt = classification_report(y_train_s1, y_pred_train_s1, labels=labels)\n",
    "print(f\"Train Accuracy   : {accuracy}\")\n",
    "print(classrpt)\n",
    "print(\"==============================\")\n",
    "\n",
    "y_pred_test_s1_prob = s1_rf.predict(X_test_s1_pca)\n",
    "y_pred_test_s1 = (y_pred_test_s1_prob >= 0.5)*1\n",
    "accuracy = accuracy_score(y_test_s1, y_pred_test_s1)\n",
    "classrpt = classification_report(y_test_s1, y_pred_test_s1, labels=labels)\n",
    "print(f\"Test  Accuracy   : {accuracy}\")\n",
    "print(classrpt)"
   ]
  },
  {
   "cell_type": "code",
   "execution_count": null,
   "metadata": {},
   "outputs": [],
   "source": [
    "# 7.4) Run SVM\n",
    "\n",
    "# s1_svc  = SVC(kernel='rbf', gamma=0.25).fit(X_train_s1_pca, y_train_s1)\n",
    "# type(s1_svc)"
   ]
  },
  {
   "cell_type": "code",
   "execution_count": null,
   "metadata": {},
   "outputs": [],
   "source": [
    "# Save and load the fitted model\n",
    "# modelfile = 's1_svc.sav'\n",
    "# pickle.dump(s1_svc, open(modelfile, 'wb'))\n",
    "# #s1_svc = pickle.load(open(modelfile, 'rb'))"
   ]
  },
  {
   "cell_type": "code",
   "execution_count": null,
   "metadata": {},
   "outputs": [],
   "source": [
    "# model evaluation\n",
    "# labels = [0, 1]\n",
    "\n",
    "# y_pred_train_s1 = s1_svc.predict(X_train_s1_pca)\n",
    "# accuracy = accuracy_score(y_train_s1, y_pred_train_s1)\n",
    "# classrpt = classification_report(y_train_s1, y_pred_train_s1, labels=labels)\n",
    "# print(f\"Train Accuracy   : {accuracy}\")\n",
    "# print(classrpt)\n",
    "# print(\"==============================\")\n",
    "\n",
    "# y_pred_test_s1 = s1_svc.predict(X_test_s1_pca)\n",
    "# accuracy = accuracy_score(y_test_s1, y_pred_test_s1)\n",
    "# classrpt = classification_report(y_test_s1, y_pred_test_s1, labels=labels)\n",
    "# print(f\"Test  Accuracy   : {accuracy}\")\n",
    "# print(classrpt)"
   ]
  },
  {
   "cell_type": "markdown",
   "metadata": {},
   "source": [
    "## 8) Modeling step-2: Regression for Transaction Revenue"
   ]
  },
  {
   "cell_type": "code",
   "execution_count": 97,
   "metadata": {},
   "outputs": [],
   "source": [
    "from sklearn.linear_model import LinearRegression\n",
    "from sklearn.ensemble     import RandomForestRegressor\n",
    "from sklearn.metrics      import mean_squared_error, r2_score\n",
    "import pickle"
   ]
  },
  {
   "cell_type": "markdown",
   "metadata": {},
   "source": [
    "### 8.1) Linear Regression"
   ]
  },
  {
   "cell_type": "code",
   "execution_count": 101,
   "metadata": {},
   "outputs": [
    {
     "data": {
      "text/plain": [
       "LinearRegression(copy_X=True, fit_intercept=True, n_jobs=1, normalize=False)"
      ]
     },
     "execution_count": 101,
     "metadata": {},
     "output_type": "execute_result"
    }
   ],
   "source": [
    "\n",
    "s2_lr = LinearRegression()\n",
    "s2_lr.fit(X_train_s2_pca, y_train_s2)"
   ]
  },
  {
   "cell_type": "code",
   "execution_count": 102,
   "metadata": {},
   "outputs": [],
   "source": [
    "# Save and load the fitted model\n",
    "modelfile = 's2_lr.sav'\n",
    "pickle.dump(s2_lr, open(modelfile, 'wb'))\n",
    "#s2_lr = pickle.load(open(modelfile, 'rb'))"
   ]
  },
  {
   "cell_type": "code",
   "execution_count": 131,
   "metadata": {},
   "outputs": [
    {
     "name": "stdout",
     "output_type": "stream",
     "text": [
      "Train set RMSE     : 11.81\n",
      "Test  set RMSE     : 11.99\n",
      "Train set R2 score : 0.27\n",
      "Test  set R2 score : 0.06\n"
     ]
    }
   ],
   "source": [
    "# Model evaluation\n",
    "y_pred_train_s2 = s2_lr.predict(X_train_s2_pca)\n",
    "y_pred_test_s2  = s2_lr.predict(X_test_s2_pca)\n",
    "\n",
    "rmse_train_s2 = mean_squared_error(y_train_s2, y_pred_train_s2)**(1/2)\n",
    "rmse_test_s2  = mean_squared_error(y_test_s2,  y_pred_test_s2)**(1/2)\n",
    "print('Train set RMSE     : {:.2f}'.format(rmse_train_s2))\n",
    "print('Test  set RMSE     : {:.2f}'.format(rmse_test_s2))\n",
    "\n",
    "r2_train_s2 = r2_score(y_train_s2, y_pred_train_s2)\n",
    "r2_test_s2  = r2_score(y_test_s2,  y_pred_test_s2)\n",
    "print('Train set R2 score : {:.2f}'.format(r2_train_s2))\n",
    "print('Test  set R2 score : {:.2f}'.format(r2_test_s2))"
   ]
  },
  {
   "cell_type": "code",
   "execution_count": 132,
   "metadata": {},
   "outputs": [
    {
     "data": {
      "text/plain": [
       "<matplotlib.collections.PathCollection at 0x1a391f2a20>"
      ]
     },
     "execution_count": 132,
     "metadata": {},
     "output_type": "execute_result"
    },
    {
     "data": {
      "image/png": "[encoded data removed]",
      "text/plain": [
       "<Figure size 720x360 with 1 Axes>"
      ]
     },
     "metadata": {},
     "output_type": "display_data"
    }
   ],
   "source": [
    "plt.scatter(y_train_s2, y_pred_train_s2)"
   ]
  },
  {
   "cell_type": "code",
   "execution_count": 130,
   "metadata": {},
   "outputs": [
    {
     "data": {
      "text/plain": [
       "<matplotlib.collections.PathCollection at 0x1a391e4048>"
      ]
     },
     "execution_count": 130,
     "metadata": {},
     "output_type": "execute_result"
    },
    {
     "data": {
      "image/png": "[encoded data removed]",
      "text/plain": [
       "<Figure size 720x360 with 1 Axes>"
      ]
     },
     "metadata": {},
     "output_type": "display_data"
    }
   ],
   "source": [
    "plt.scatter(y_test_s2, y_pred_test_s2)"
   ]
  },
  {
   "cell_type": "markdown",
   "metadata": {},
   "source": [
    "### 8.2) Random Forest"
   ]
  },
  {
   "cell_type": "code",
   "execution_count": 108,
   "metadata": {},
   "outputs": [
    {
     "name": "stderr",
     "output_type": "stream",
     "text": [
      "/Users/Harper/anaconda3/lib/python3.6/site-packages/ipykernel_launcher.py:4: DataConversionWarning: A column-vector y was passed when a 1d array was expected. Please change the shape of y to (n_samples,), for example using ravel().\n",
      "  after removing the cwd from sys.path.\n"
     ]
    },
    {
     "data": {
      "text/plain": [
       "RandomForestRegressor(bootstrap=True, criterion='mse', max_depth=None,\n",
       "           max_features='auto', max_leaf_nodes=None,\n",
       "           min_impurity_decrease=0.0, min_impurity_split=None,\n",
       "           min_samples_leaf=1, min_samples_split=2,\n",
       "           min_weight_fraction_leaf=0.0, n_estimators=1000, n_jobs=1,\n",
       "           oob_score=False, random_state=42, verbose=0, warm_start=False)"
      ]
     },
     "execution_count": 108,
     "metadata": {},
     "output_type": "execute_result"
    }
   ],
   "source": [
    "\n",
    "s2_rf = RandomForestRegressor(n_estimators=1000, random_state=42)\n",
    "s2_rf.fit(X_train_s2_pca, y_train_s2)"
   ]
  },
  {
   "cell_type": "code",
   "execution_count": 109,
   "metadata": {},
   "outputs": [],
   "source": [
    "# Save and load the fitted model\n",
    "modelfile = 's2_rf.sav'\n",
    "pickle.dump(s2_rf, open(modelfile, 'wb'))\n",
    "#s2_rf = pickle.load(open(modelfile, 'rb'))"
   ]
  },
  {
   "cell_type": "code",
   "execution_count": 133,
   "metadata": {},
   "outputs": [
    {
     "name": "stdout",
     "output_type": "stream",
     "text": [
      "Train set RMSE     : 4.50\n",
      "Test  set RMSE     : 14.22\n",
      "Train set R2 score : 0.89\n",
      "Test  set R2 score : -0.32\n"
     ]
    }
   ],
   "source": [
    "# Model evaluation\n",
    "y_pred_train_s2 = s2_rf.predict(X_train_s2_pca)\n",
    "y_pred_test_s2  = s2_rf.predict(X_test_s2_pca)\n",
    "\n",
    "rmse_train_s2 = mean_squared_error(y_train_s2, y_pred_train_s2)**(1/2)\n",
    "rmse_test_s2  = mean_squared_error(y_test_s2,  y_pred_test_s2)**(1/2)\n",
    "print('Train set RMSE     : {:.2f}'.format(rmse_train_s2))\n",
    "print('Test  set RMSE     : {:.2f}'.format(rmse_test_s2))\n",
    "\n",
    "r2_train_s2 = r2_score(y_train_s2, y_pred_train_s2)\n",
    "r2_test_s2  = r2_score(y_test_s2,  y_pred_test_s2)\n",
    "print('Train set R2 score : {:.2f}'.format(r2_train_s2))\n",
    "print('Test  set R2 score : {:.2f}'.format(r2_test_s2))"
   ]
  },
  {
   "cell_type": "code",
   "execution_count": 134,
   "metadata": {},
   "outputs": [
    {
     "data": {
      "text/plain": [
       "<matplotlib.collections.PathCollection at 0x1a38f757b8>"
      ]
     },
     "execution_count": 134,
     "metadata": {},
     "output_type": "execute_result"
    },
    {
     "data": {
      "image/png": "[encoded data removed]",
      "text/plain": [
       "<Figure size 720x360 with 1 Axes>"
      ]
     },
     "metadata": {},
     "output_type": "display_data"
    }
   ],
   "source": [
    "plt.scatter(y_train_s2, y_pred_train_s2)"
   ]
  },
  {
   "cell_type": "code",
   "execution_count": 128,
   "metadata": {},
   "outputs": [
    {
     "data": {
      "text/plain": [
       "<matplotlib.collections.PathCollection at 0x1a3920d240>"
      ]
     },
     "execution_count": 128,
     "metadata": {},
     "output_type": "execute_result"
    },
    {
     "data": {
      "image/png": "[encoded data removed]",
      "text/plain": [
       "<Figure size 720x360 with 1 Axes>"
      ]
     },
     "metadata": {},
     "output_type": "display_data"
    }
   ],
   "source": [
    "plt.scatter(y_test_s2, y_pred_test_s2)"
   ]
  },
  {
   "cell_type": "code",
   "execution_count": 137,
   "metadata": {},
   "outputs": [
    {
     "data": {
      "text/plain": [
       "<matplotlib.collections.PathCollection at 0x1a3de35518>"
      ]
     },
     "execution_count": 137,
     "metadata": {},
     "output_type": "execute_result"
    },
    {
     "data": {
      "image/png": "[encoded data removed]",
      "text/plain": [
       "<Figure size 720x360 with 1 Axes>"
      ]
     },
     "metadata": {},
     "output_type": "display_data"
    }
   ],
   "source": [
    "plt.scatter(range(len(y_train_s2)), y_train_s2)"
   ]
  },
  {
   "cell_type": "code",
   "execution_count": 138,
   "metadata": {},
   "outputs": [
    {
     "data": {
      "text/plain": [
       "<matplotlib.collections.PathCollection at 0x1b0ee320f0>"
      ]
     },
     "execution_count": 138,
     "metadata": {},
     "output_type": "execute_result"
    },
    {
     "data": {
      "image/png": "[encoded data removed]",
      "text/plain": [
       "<Figure size 720x360 with 1 Axes>"
      ]
     },
     "metadata": {},
     "output_type": "display_data"
    }
   ],
   "source": [
    "plt.scatter(range(len(y_test_s2)), y_test_s2)"
   ]
  },
  {
   "cell_type": "markdown",
   "metadata": {},
   "source": [
    "## KMeans"
   ]
  },
  {
   "cell_type": "code",
   "execution_count": 139,
   "metadata": {},
   "outputs": [],
   "source": [
    "from sklearn.cluster import KMeans"
   ]
  },
  {
   "cell_type": "code",
   "execution_count": 180,
   "metadata": {},
   "outputs": [
    {
     "data": {
      "text/plain": [
       "0    1863\n",
       "2     195\n",
       "1       9\n",
       "dtype: int64"
      ]
     },
     "execution_count": 180,
     "metadata": {},
     "output_type": "execute_result"
    }
   ],
   "source": [
    "km = KMeans(n_clusters=3).fit(y_test_s2)\n",
    "km_label = km.labels_\n",
    "pd.Series(km_label).value_counts()"
   ]
  },
  {
   "cell_type": "code",
   "execution_count": 181,
   "metadata": {},
   "outputs": [
    {
     "data": {
      "image/png": "[encoded data removed]",
      "text/plain": [
       "<Figure size 720x360 with 1 Axes>"
      ]
     },
     "metadata": {},
     "output_type": "display_data"
    }
   ],
   "source": [
    "df_km = y_test_s2.copy()\n",
    "df_km[\"label\"] = km_label\n",
    "colors = [\"blue\", \"red\", \"gold\"]\n",
    "\n",
    "fig, ax = plt.subplots(figsize=(10, 5))\n",
    "\n",
    "clusterid_km = np.unique(km_label).tolist()\n",
    "for idx in range(len(clusterid_km)):\n",
    "    tmp_df = df_km[df_km['label']==clusterid_km[idx]]\n",
    "    ax.scatter(tmp_df.index, tmp_df['transactionRevenue'], \n",
    "               color=colors[idx], label=clusterid_km[idx], alpha=0.3, s=100)"
   ]
  },
  {
   "cell_type": "markdown",
   "metadata": {},
   "source": [
    "## DBSCAN"
   ]
  },
  {
   "cell_type": "code",
   "execution_count": 147,
   "metadata": {},
   "outputs": [],
   "source": [
    "from sklearn.cluster import DBSCAN"
   ]
  },
  {
   "cell_type": "code",
   "execution_count": 198,
   "metadata": {},
   "outputs": [
    {
     "data": {
      "text/plain": [
       " 0    1863\n",
       " 1     153\n",
       "-1      51\n",
       "dtype: int64"
      ]
     },
     "execution_count": 198,
     "metadata": {},
     "output_type": "execute_result"
    }
   ],
   "source": [
    "dbsc = DBSCAN(eps=3, min_samples=20).fit(y_test_s2)\n",
    "dbsc_label = dbsc.labels_\n",
    "pd.Series(dbsc_label).value_counts()"
   ]
  },
  {
   "cell_type": "code",
   "execution_count": 199,
   "metadata": {},
   "outputs": [
    {
     "data": {
      "image/png": "[encoded data removed]",
      "text/plain": [
       "<Figure size 720x360 with 1 Axes>"
      ]
     },
     "metadata": {},
     "output_type": "display_data"
    }
   ],
   "source": [
    "df_dbsc = y_test_s2.copy()\n",
    "df_dbsc[\"label\"] = dbsc_label\n",
    "colors = [\"red\", \"blue\", \"gold\", \"black\"]\n",
    "\n",
    "fig, ax = plt.subplots(figsize=(10, 5))\n",
    "\n",
    "clusterid_dbsc = np.unique(dbsc_label).tolist()\n",
    "for idx in range(len(clusterid_dbsc)):\n",
    "    tmp_df = df_dbsc[df_dbsc['label']==clusterid_dbsc[idx]]\n",
    "    ax.scatter(tmp_df.index, tmp_df['transactionRevenue'], \n",
    "               color=colors[idx], label=clusterid_dbsc[idx], alpha=0.3, s=100)"
   ]
  },
  {
   "cell_type": "code",
   "execution_count": null,
   "metadata": {},
   "outputs": [],
   "source": []
  },
  {
   "cell_type": "code",
   "execution_count": 213,
   "metadata": {},
   "outputs": [
    {
     "data": {
      "text/plain": [
       " 0    7159\n",
       " 1     533\n",
       "-1     236\n",
       "dtype: int64"
      ]
     },
     "execution_count": 213,
     "metadata": {},
     "output_type": "execute_result"
    }
   ],
   "source": [
    "dbsc = DBSCAN(eps=0.5, min_samples=20).fit(y_train_s2)\n",
    "dbsc_label = dbsc.labels_\n",
    "pd.Series(dbsc_label).value_counts()"
   ]
  },
  {
   "cell_type": "code",
   "execution_count": 214,
   "metadata": {},
   "outputs": [
    {
     "data": {
      "image/png": "[encoded data removed]",
      "text/plain": [
       "<Figure size 720x360 with 1 Axes>"
      ]
     },
     "metadata": {},
     "output_type": "display_data"
    }
   ],
   "source": [
    "df_dbsc = y_train_s2.copy()\n",
    "df_dbsc[\"label\"] = dbsc_label\n",
    "colors = [\"red\", \"blue\", \"gold\", \"silver\", \"black\"]\n",
    "\n",
    "fig, ax = plt.subplots(figsize=(10, 5))\n",
    "\n",
    "clusterid_dbsc = np.unique(dbsc_label).tolist()\n",
    "for idx in range(len(clusterid_dbsc)):\n",
    "    tmp_df = df_dbsc[df_dbsc['label']==clusterid_dbsc[idx]]\n",
    "    ax.scatter(tmp_df.index, tmp_df['transactionRevenue'], \n",
    "               color=colors[idx], label=clusterid_dbsc[idx], alpha=0.3, s=100)"
   ]
  },
  {
   "cell_type": "code",
   "execution_count": null,
   "metadata": {},
   "outputs": [],
   "source": []
  },
  {
   "cell_type": "code",
   "execution_count": null,
   "metadata": {},
   "outputs": [],
   "source": []
  },
  {
   "cell_type": "code",
   "execution_count": null,
   "metadata": {},
   "outputs": [],
   "source": []
  },
  {
   "cell_type": "code",
   "execution_count": null,
   "metadata": {},
   "outputs": [],
   "source": []
  },
  {
   "cell_type": "code",
   "execution_count": null,
   "metadata": {},
   "outputs": [],
   "source": []
  },
  {
   "cell_type": "code",
   "execution_count": null,
   "metadata": {},
   "outputs": [],
   "source": []
  }
 ],
 "metadata": {
  "kernelspec": {
   "display_name": "Python 3",
   "language": "python",
   "name": "python3"
  },
  "language_info": {
   "codemirror_mode": {
    "name": "ipython",
    "version": 3
   },
   "file_extension": ".py",
   "mimetype": "text/x-python",
   "name": "python",
   "nbconvert_exporter": "python",
   "pygments_lexer": "ipython3",
   "version": "3.6.6"
  }
 },
 "nbformat": 4,
 "nbformat_minor": 2
}
