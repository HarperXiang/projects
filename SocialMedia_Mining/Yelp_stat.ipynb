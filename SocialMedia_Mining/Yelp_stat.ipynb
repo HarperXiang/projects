{
 "cells": [
  {
   "cell_type": "code",
   "execution_count": 1,
   "metadata": {},
   "outputs": [],
   "source": [
    "import numpy as np\n",
    "import pandas as pd\n",
    "import datetime\n",
    "\n",
    "import matplotlib.pyplot as plt\n",
    "%matplotlib inline"
   ]
  },
  {
   "cell_type": "code",
   "execution_count": 2,
   "metadata": {},
   "outputs": [],
   "source": [
    "data_path = \"../data/\"\n",
    "ipt_file1 = \"yelp_rvw_chn.csv\""
   ]
  },
  {
   "cell_type": "code",
   "execution_count": 3,
   "metadata": {},
   "outputs": [
    {
     "data": {
      "text/html": [
       "<div>\n",
       "<style scoped>\n",
       "    .dataframe tbody tr th:only-of-type {\n",
       "        vertical-align: middle;\n",
       "    }\n",
       "\n",
       "    .dataframe tbody tr th {\n",
       "        vertical-align: top;\n",
       "    }\n",
       "\n",
       "    .dataframe thead th {\n",
       "        text-align: right;\n",
       "    }\n",
       "</style>\n",
       "<table border=\"1\" class=\"dataframe\">\n",
       "  <thead>\n",
       "    <tr style=\"text-align: right;\">\n",
       "      <th></th>\n",
       "      <th>Unnamed: 0</th>\n",
       "      <th>business_id</th>\n",
       "      <th>review_count</th>\n",
       "      <th>scaled.reviews</th>\n",
       "      <th>review.Rank</th>\n",
       "      <th>sum.checkin.</th>\n",
       "      <th>scaled.checkin</th>\n",
       "      <th>checkinRank</th>\n",
       "      <th>stars</th>\n",
       "    </tr>\n",
       "  </thead>\n",
       "  <tbody>\n",
       "    <tr>\n",
       "      <th>0</th>\n",
       "      <td>1</td>\n",
       "      <td>_v7lMUtdd6WlgKUEBLA_VA</td>\n",
       "      <td>70</td>\n",
       "      <td>-0.424112</td>\n",
       "      <td>40.0</td>\n",
       "      <td>148</td>\n",
       "      <td>-0.436355</td>\n",
       "      <td>32.0</td>\n",
       "      <td>4.0</td>\n",
       "    </tr>\n",
       "    <tr>\n",
       "      <th>1</th>\n",
       "      <td>2</td>\n",
       "      <td>_VHU9KZUHRLp2Hc2JOKlYg</td>\n",
       "      <td>152</td>\n",
       "      <td>-0.355645</td>\n",
       "      <td>51.0</td>\n",
       "      <td>394</td>\n",
       "      <td>-0.373916</td>\n",
       "      <td>48.0</td>\n",
       "      <td>4.0</td>\n",
       "    </tr>\n",
       "    <tr>\n",
       "      <th>2</th>\n",
       "      <td>3</td>\n",
       "      <td>_Vi33ZAf0hdBn5Cu0AnQig</td>\n",
       "      <td>36</td>\n",
       "      <td>-0.452501</td>\n",
       "      <td>27.0</td>\n",
       "      <td>44</td>\n",
       "      <td>-0.462752</td>\n",
       "      <td>16.5</td>\n",
       "      <td>4.0</td>\n",
       "    </tr>\n",
       "    <tr>\n",
       "      <th>3</th>\n",
       "      <td>4</td>\n",
       "      <td>-2Arz8twKJmxHMS3Sv-TeA</td>\n",
       "      <td>24</td>\n",
       "      <td>-0.462521</td>\n",
       "      <td>18.0</td>\n",
       "      <td>82</td>\n",
       "      <td>-0.453107</td>\n",
       "      <td>25.0</td>\n",
       "      <td>3.5</td>\n",
       "    </tr>\n",
       "    <tr>\n",
       "      <th>4</th>\n",
       "      <td>5</td>\n",
       "      <td>-49WY_TEa9ZEcRk_GnuLog</td>\n",
       "      <td>31</td>\n",
       "      <td>-0.456676</td>\n",
       "      <td>24.0</td>\n",
       "      <td>164</td>\n",
       "      <td>-0.432294</td>\n",
       "      <td>35.0</td>\n",
       "      <td>3.5</td>\n",
       "    </tr>\n",
       "  </tbody>\n",
       "</table>\n",
       "</div>"
      ],
      "text/plain": [
       "   Unnamed: 0             business_id  review_count  scaled.reviews  \\\n",
       "0           1  _v7lMUtdd6WlgKUEBLA_VA            70       -0.424112   \n",
       "1           2  _VHU9KZUHRLp2Hc2JOKlYg           152       -0.355645   \n",
       "2           3  _Vi33ZAf0hdBn5Cu0AnQig            36       -0.452501   \n",
       "3           4  -2Arz8twKJmxHMS3Sv-TeA            24       -0.462521   \n",
       "4           5  -49WY_TEa9ZEcRk_GnuLog            31       -0.456676   \n",
       "\n",
       "   review.Rank  sum.checkin.  scaled.checkin  checkinRank  stars  \n",
       "0         40.0           148       -0.436355         32.0    4.0  \n",
       "1         51.0           394       -0.373916         48.0    4.0  \n",
       "2         27.0            44       -0.462752         16.5    4.0  \n",
       "3         18.0            82       -0.453107         25.0    3.5  \n",
       "4         24.0           164       -0.432294         35.0    3.5  "
      ]
     },
     "execution_count": 3,
     "metadata": {},
     "output_type": "execute_result"
    }
   ],
   "source": [
    "df_yelp = pd.read_csv(data_path+ipt_file1)\n",
    "df_yelp.head()"
   ]
  },
  {
   "cell_type": "code",
   "execution_count": 24,
   "metadata": {},
   "outputs": [
    {
     "data": {
      "text/html": [
       "<div>\n",
       "<style scoped>\n",
       "    .dataframe tbody tr th:only-of-type {\n",
       "        vertical-align: middle;\n",
       "    }\n",
       "\n",
       "    .dataframe tbody tr th {\n",
       "        vertical-align: top;\n",
       "    }\n",
       "\n",
       "    .dataframe thead th {\n",
       "        text-align: right;\n",
       "    }\n",
       "</style>\n",
       "<table border=\"1\" class=\"dataframe\">\n",
       "  <thead>\n",
       "    <tr style=\"text-align: right;\">\n",
       "      <th></th>\n",
       "      <th>Unnamed: 0</th>\n",
       "      <th>business_id</th>\n",
       "      <th>review_count</th>\n",
       "      <th>scaled.reviews</th>\n",
       "      <th>review.Rank</th>\n",
       "      <th>sum.checkin.</th>\n",
       "      <th>scaled.checkin</th>\n",
       "      <th>checkinRank</th>\n",
       "      <th>stars</th>\n",
       "    </tr>\n",
       "  </thead>\n",
       "  <tbody>\n",
       "    <tr>\n",
       "      <th>75</th>\n",
       "      <td>76</td>\n",
       "      <td>RwMLuOkImBIqqYj4SSKSPg</td>\n",
       "      <td>2448</td>\n",
       "      <td>1.561445</td>\n",
       "      <td>74.0</td>\n",
       "      <td>8261</td>\n",
       "      <td>1.622874</td>\n",
       "      <td>75.0</td>\n",
       "      <td>4.0</td>\n",
       "    </tr>\n",
       "    <tr>\n",
       "      <th>76</th>\n",
       "      <td>77</td>\n",
       "      <td>sxNMGQwUuaDsviR4BtuX0g</td>\n",
       "      <td>511</td>\n",
       "      <td>-0.055891</td>\n",
       "      <td>61.0</td>\n",
       "      <td>2026</td>\n",
       "      <td>0.040316</td>\n",
       "      <td>63.0</td>\n",
       "      <td>4.0</td>\n",
       "    </tr>\n",
       "    <tr>\n",
       "      <th>77</th>\n",
       "      <td>78</td>\n",
       "      <td>Xg5qEQiB-7L6kGJ5F4K3bQ</td>\n",
       "      <td>1463</td>\n",
       "      <td>0.739000</td>\n",
       "      <td>70.0</td>\n",
       "      <td>2320</td>\n",
       "      <td>0.114939</td>\n",
       "      <td>65.0</td>\n",
       "      <td>5.0</td>\n",
       "    </tr>\n",
       "    <tr>\n",
       "      <th>78</th>\n",
       "      <td>79</td>\n",
       "      <td>XQETjKH84gxDrAiz2lH7Wg</td>\n",
       "      <td>407</td>\n",
       "      <td>-0.142728</td>\n",
       "      <td>58.0</td>\n",
       "      <td>1344</td>\n",
       "      <td>-0.132788</td>\n",
       "      <td>59.0</td>\n",
       "      <td>3.5</td>\n",
       "    </tr>\n",
       "    <tr>\n",
       "      <th>79</th>\n",
       "      <td>80</td>\n",
       "      <td>ysv6yhVYOoH9Pf7PlMyD0g</td>\n",
       "      <td>944</td>\n",
       "      <td>0.305651</td>\n",
       "      <td>67.0</td>\n",
       "      <td>1311</td>\n",
       "      <td>-0.141164</td>\n",
       "      <td>58.0</td>\n",
       "      <td>3.5</td>\n",
       "    </tr>\n",
       "  </tbody>\n",
       "</table>\n",
       "</div>"
      ],
      "text/plain": [
       "    Unnamed: 0             business_id  review_count  scaled.reviews  \\\n",
       "75          76  RwMLuOkImBIqqYj4SSKSPg          2448        1.561445   \n",
       "76          77  sxNMGQwUuaDsviR4BtuX0g           511       -0.055891   \n",
       "77          78  Xg5qEQiB-7L6kGJ5F4K3bQ          1463        0.739000   \n",
       "78          79  XQETjKH84gxDrAiz2lH7Wg           407       -0.142728   \n",
       "79          80  ysv6yhVYOoH9Pf7PlMyD0g           944        0.305651   \n",
       "\n",
       "    review.Rank  sum.checkin.  scaled.checkin  checkinRank  stars  \n",
       "75         74.0          8261        1.622874         75.0    4.0  \n",
       "76         61.0          2026        0.040316         63.0    4.0  \n",
       "77         70.0          2320        0.114939         65.0    5.0  \n",
       "78         58.0          1344       -0.132788         59.0    3.5  \n",
       "79         67.0          1311       -0.141164         58.0    3.5  "
      ]
     },
     "execution_count": 24,
     "metadata": {},
     "output_type": "execute_result"
    }
   ],
   "source": [
    "df_yelp.tail()"
   ]
  },
  {
   "cell_type": "code",
   "execution_count": 12,
   "metadata": {},
   "outputs": [],
   "source": [
    "rvw_80 = df_yelp[\"review_count\"].tolist()\n",
    "ckn_80 = df_yelp[\"sum.checkin.\"].tolist()"
   ]
  },
  {
   "cell_type": "code",
   "execution_count": 13,
   "metadata": {},
   "outputs": [
    {
     "data": {
      "text/plain": [
       "(array([63.,  7.,  2.,  5.,  0.,  1.,  1.,  0.,  0.,  1.]),\n",
       " array([3.0000e+00, 7.3880e+02, 1.4746e+03, 2.2104e+03, 2.9462e+03,\n",
       "        3.6820e+03, 4.4178e+03, 5.1536e+03, 5.8894e+03, 6.6252e+03,\n",
       "        7.3610e+03]),\n",
       " <a list of 10 Patch objects>)"
      ]
     },
     "execution_count": 13,
     "metadata": {},
     "output_type": "execute_result"
    },
    {
     "data": {
      "image/png": "[encoded data removed]",
      "text/plain": [
       "<Figure size 432x288 with 1 Axes>"
      ]
     },
     "metadata": {},
     "output_type": "display_data"
    }
   ],
   "source": [
    "plt.hist(rvw_80)"
   ]
  },
  {
   "cell_type": "code",
   "execution_count": 14,
   "metadata": {},
   "outputs": [
    {
     "data": {
      "text/plain": [
       "(array([62.,  8.,  2.,  1.,  2.,  0.,  1.,  2.,  1.,  1.]),\n",
       " array([2.00000e+00, 1.91560e+03, 3.82920e+03, 5.74280e+03, 7.65640e+03,\n",
       "        9.57000e+03, 1.14836e+04, 1.33972e+04, 1.53108e+04, 1.72244e+04,\n",
       "        1.91380e+04]),\n",
       " <a list of 10 Patch objects>)"
      ]
     },
     "execution_count": 14,
     "metadata": {},
     "output_type": "execute_result"
    },
    {
     "data": {
      "image/png": "[encoded data removed]",
      "text/plain": [
       "<Figure size 432x288 with 1 Axes>"
      ]
     },
     "metadata": {},
     "output_type": "display_data"
    }
   ],
   "source": [
    "plt.hist(ckn_80)"
   ]
  },
  {
   "cell_type": "code",
   "execution_count": 15,
   "metadata": {},
   "outputs": [
    {
     "data": {
      "text/plain": [
       "(array([ 2.,  0.,  0.,  0., 16.,  0.,  0.,  0., 27.,  0.,  0.,  0., 29.,\n",
       "         0.,  0.,  0.,  5.,  0.,  0.,  1.]),\n",
       " array([2.5  , 2.625, 2.75 , 2.875, 3.   , 3.125, 3.25 , 3.375, 3.5  ,\n",
       "        3.625, 3.75 , 3.875, 4.   , 4.125, 4.25 , 4.375, 4.5  , 4.625,\n",
       "        4.75 , 4.875, 5.   ]),\n",
       " <a list of 20 Patch objects>)"
      ]
     },
     "execution_count": 15,
     "metadata": {},
     "output_type": "execute_result"
    },
    {
     "data": {
      "image/png": "[encoded data removed]",
      "text/plain": [
       "<Figure size 432x288 with 1 Axes>"
      ]
     },
     "metadata": {},
     "output_type": "display_data"
    }
   ],
   "source": [
    "rating_80 = df_yelp[\"stars\"].tolist()\n",
    "plt.hist(rating_80, 20)"
   ]
  },
  {
   "cell_type": "code",
   "execution_count": 23,
   "metadata": {},
   "outputs": [
    {
     "data": {
      "text/plain": [
       "{'whiskers': [<matplotlib.lines.Line2D at 0x11aa258d0>,\n",
       "  <matplotlib.lines.Line2D at 0x11aa25d68>],\n",
       " 'caps': [<matplotlib.lines.Line2D at 0x11aa2e1d0>,\n",
       "  <matplotlib.lines.Line2D at 0x11aa2e5f8>],\n",
       " 'boxes': [<matplotlib.lines.Line2D at 0x11aa25780>],\n",
       " 'medians': [<matplotlib.lines.Line2D at 0x11aa2ea20>],\n",
       " 'fliers': [<matplotlib.lines.Line2D at 0x11aa38278>],\n",
       " 'means': [<matplotlib.lines.Line2D at 0x11aa2ee48>]}"
      ]
     },
     "execution_count": 23,
     "metadata": {},
     "output_type": "execute_result"
    },
    {
     "data": {
      "image/png": "[encoded data removed]",
      "text/plain": [
       "<Figure size 432x288 with 1 Axes>"
      ]
     },
     "metadata": {},
     "output_type": "display_data"
    }
   ],
   "source": [
    "plt.boxplot(rating_80, showmeans=True)"
   ]
  },
  {
   "cell_type": "code",
   "execution_count": null,
   "metadata": {},
   "outputs": [],
   "source": []
  },
  {
   "cell_type": "code",
   "execution_count": 18,
   "metadata": {},
   "outputs": [
    {
     "data": {
      "text/plain": [
       "68"
      ]
     },
     "execution_count": 18,
     "metadata": {},
     "output_type": "execute_result"
    }
   ],
   "source": [
    "q1 = np.percentile(rvw_80, 25)\n",
    "q3 = np.percentile(rvw_80, 75)\n",
    "iqr = q3 - q1\n",
    "bd_l = q1 - 1.5*(iqr)\n",
    "bd_u = q3 + 1.5*(iqr)\n",
    "\n",
    "bd_rvw = []\n",
    "for i in rvw_80:\n",
    "    if i < bd_u:\n",
    "        bd_rvw.append(i)\n",
    "len(bd_rvw)"
   ]
  },
  {
   "cell_type": "code",
   "execution_count": 19,
   "metadata": {},
   "outputs": [
    {
     "data": {
      "text/plain": [
       "70"
      ]
     },
     "execution_count": 19,
     "metadata": {},
     "output_type": "execute_result"
    }
   ],
   "source": [
    "q1 = np.percentile(ckn_80, 25)\n",
    "q3 = np.percentile(ckn_80, 75)\n",
    "iqr = q3 - q1\n",
    "bd_l = q1 - 1.5*(iqr)\n",
    "bd_u = q3 + 1.5*(iqr)\n",
    "\n",
    "bd_ckn = []\n",
    "for i in ckn_80:\n",
    "    if i < bd_u:\n",
    "        bd_ckn.append(i)\n",
    "len(bd_ckn)"
   ]
  },
  {
   "cell_type": "code",
   "execution_count": 20,
   "metadata": {},
   "outputs": [],
   "source": [
    "mean_rvw = np.mean(bd_rvw)\n",
    "std_rvw  = np.std(bd_rvw)\n",
    "plt_rvw = (bd_rvw - mean_rvw)/std_rvw"
   ]
  },
  {
   "cell_type": "code",
   "execution_count": 21,
   "metadata": {},
   "outputs": [],
   "source": [
    "mean_ckn = np.mean(bd_ckn)\n",
    "std_ckn  = np.std(bd_ckn)\n",
    "plt_ckn = (bd_ckn - mean_ckn)/std_ckn"
   ]
  },
  {
   "cell_type": "code",
   "execution_count": 22,
   "metadata": {},
   "outputs": [
    {
     "data": {
      "text/plain": [
       "{'whiskers': [<matplotlib.lines.Line2D at 0x11a9b7c18>,\n",
       "  <matplotlib.lines.Line2D at 0x11a9c50f0>,\n",
       "  <matplotlib.lines.Line2D at 0x11a9cae48>,\n",
       "  <matplotlib.lines.Line2D at 0x11a9d52b0>],\n",
       " 'caps': [<matplotlib.lines.Line2D at 0x11a9c54e0>,\n",
       "  <matplotlib.lines.Line2D at 0x11a9c5978>,\n",
       "  <matplotlib.lines.Line2D at 0x11a9d56d8>,\n",
       "  <matplotlib.lines.Line2D at 0x11a9d5b00>],\n",
       " 'boxes': [<matplotlib.lines.Line2D at 0x11a9b7ac8>,\n",
       "  <matplotlib.lines.Line2D at 0x11a9caa20>],\n",
       " 'medians': [<matplotlib.lines.Line2D at 0x11a9c5d30>,\n",
       "  <matplotlib.lines.Line2D at 0x11a9d5f28>],\n",
       " 'fliers': [<matplotlib.lines.Line2D at 0x11a9ca588>,\n",
       "  <matplotlib.lines.Line2D at 0x11a9dc780>],\n",
       " 'means': [<matplotlib.lines.Line2D at 0x11a9ca198>,\n",
       "  <matplotlib.lines.Line2D at 0x11a9dc390>]}"
      ]
     },
     "execution_count": 22,
     "metadata": {},
     "output_type": "execute_result"
    },
    {
     "data": {
      "image/png": "[encoded data removed]",
      "text/plain": [
       "<Figure size 432x288 with 1 Axes>"
      ]
     },
     "metadata": {},
     "output_type": "display_data"
    }
   ],
   "source": [
    "plt.boxplot([plt_rvw, plt_ckn], showmeans=True)"
   ]
  },
  {
   "cell_type": "code",
   "execution_count": null,
   "metadata": {},
   "outputs": [],
   "source": []
  },
  {
   "cell_type": "code",
   "execution_count": null,
   "metadata": {},
   "outputs": [],
   "source": []
  },
  {
   "cell_type": "code",
   "execution_count": null,
   "metadata": {},
   "outputs": [],
   "source": []
  }
 ],
 "metadata": {
  "kernelspec": {
   "display_name": "Python 3",
   "language": "python",
   "name": "python3"
  },
  "language_info": {
   "codemirror_mode": {
    "name": "ipython",
    "version": 3
   },
   "file_extension": ".py",
   "mimetype": "text/x-python",
   "name": "python",
   "nbconvert_exporter": "python",
   "pygments_lexer": "ipython3",
   "version": "3.6.6"
  }
 },
 "nbformat": 4,
 "nbformat_minor": 2
}
