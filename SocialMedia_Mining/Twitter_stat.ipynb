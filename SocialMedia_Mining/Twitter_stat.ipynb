{
 "cells": [
  {
   "cell_type": "code",
   "execution_count": 1,
   "metadata": {},
   "outputs": [],
   "source": [
    "import numpy as np\n",
    "import pandas as pd\n",
    "import datetime\n",
    "\n",
    "import matplotlib.pyplot as plt\n",
    "%matplotlib inline"
   ]
  },
  {
   "cell_type": "code",
   "execution_count": 2,
   "metadata": {},
   "outputs": [],
   "source": [
    "data_path = \"../data/\"\n",
    "ipt_file1 = \"twitter_users.xlsx\"\n",
    "ipt_file2 = \"twitter_tweets.xlsx\"\n",
    "ipt_file3 = \"yelp_review_checkin.xlsx\""
   ]
  },
  {
   "cell_type": "code",
   "execution_count": 3,
   "metadata": {},
   "outputs": [],
   "source": [
    "def func_scaling(list_value, list_id, bd=1.5):\n",
    "    if len(list_value) != len(list_id):\n",
    "        print(\"Lists size error\")\n",
    "        return\n",
    "    \n",
    "    q1 = np.percentile(list_value, 25)\n",
    "    q3 = np.percentile(list_value, 75)\n",
    "    iqr = q3 - q1\n",
    "    bd_l = q1 - bd*(iqr)\n",
    "    bd_u = q3 + bd*(iqr)\n",
    "\n",
    "    bd_value = []\n",
    "    del_id   = []\n",
    "    for idx in np.arange(len(list_value)):\n",
    "        if (list_value[idx] <= bd_u) and (list_value[idx] >= bd_l):\n",
    "            bd_value.append(list_value[idx])\n",
    "        else:\n",
    "            del_id.append(list_id[idx])\n",
    "\n",
    "    return(bd_value, del_id)"
   ]
  },
  {
   "cell_type": "markdown",
   "metadata": {},
   "source": [
    "# Twitter Follower Analysis"
   ]
  },
  {
   "cell_type": "code",
   "execution_count": 4,
   "metadata": {},
   "outputs": [
    {
     "data": {
      "text/html": [
       "<div>\n",
       "<style scoped>\n",
       "    .dataframe tbody tr th:only-of-type {\n",
       "        vertical-align: middle;\n",
       "    }\n",
       "\n",
       "    .dataframe tbody tr th {\n",
       "        vertical-align: top;\n",
       "    }\n",
       "\n",
       "    .dataframe thead th {\n",
       "        text-align: right;\n",
       "    }\n",
       "</style>\n",
       "<table border=\"1\" class=\"dataframe\">\n",
       "  <thead>\n",
       "    <tr style=\"text-align: right;\">\n",
       "      <th></th>\n",
       "      <th>Business_id</th>\n",
       "      <th>twitter_account</th>\n",
       "      <th>name</th>\n",
       "      <th>screen_name</th>\n",
       "      <th>city</th>\n",
       "      <th>state</th>\n",
       "      <th>country</th>\n",
       "      <th>verified</th>\n",
       "      <th>followers_count</th>\n",
       "      <th>friends_count</th>\n",
       "      <th>listed_count</th>\n",
       "      <th>favourites_count</th>\n",
       "      <th>statuses_count</th>\n",
       "      <th>created_at</th>\n",
       "    </tr>\n",
       "  </thead>\n",
       "  <tbody>\n",
       "    <tr>\n",
       "      <th>0</th>\n",
       "      <td>_v7lMUtdd6WlgKUEBLA_VA</td>\n",
       "      <td>@DonRamons</td>\n",
       "      <td>Don Ramon Mexican Restau</td>\n",
       "      <td>DonRamons</td>\n",
       "      <td>415-864-2700</td>\n",
       "      <td>OH</td>\n",
       "      <td>United States</td>\n",
       "      <td>False</td>\n",
       "      <td>244</td>\n",
       "      <td>487</td>\n",
       "      <td>17</td>\n",
       "      <td>2271</td>\n",
       "      <td>1436</td>\n",
       "      <td>2011-05-15 00:47:12</td>\n",
       "    </tr>\n",
       "    <tr>\n",
       "      <th>1</th>\n",
       "      <td>_VHU9KZUHRLp2Hc2JOKlYg</td>\n",
       "      <td>@CioppinoPGH</td>\n",
       "      <td>Cioppino Restaurant &amp; Ci</td>\n",
       "      <td>CioppinoPGH</td>\n",
       "      <td>Pittsburgh, PA</td>\n",
       "      <td>PA</td>\n",
       "      <td>United States</td>\n",
       "      <td>False</td>\n",
       "      <td>914</td>\n",
       "      <td>502</td>\n",
       "      <td>11</td>\n",
       "      <td>751</td>\n",
       "      <td>1016</td>\n",
       "      <td>2017-01-17 20:40:27</td>\n",
       "    </tr>\n",
       "    <tr>\n",
       "      <th>2</th>\n",
       "      <td>_Vi33ZAf0hdBn5Cu0AnQig</td>\n",
       "      <td>@ZoesKitchen</td>\n",
       "      <td>Zoes Kitchen</td>\n",
       "      <td>ZoesKitchen</td>\n",
       "      <td>NaN</td>\n",
       "      <td>AZ</td>\n",
       "      <td>United States</td>\n",
       "      <td>True</td>\n",
       "      <td>22946</td>\n",
       "      <td>31</td>\n",
       "      <td>439</td>\n",
       "      <td>9697</td>\n",
       "      <td>16780</td>\n",
       "      <td>2009-05-28 15:38:34</td>\n",
       "    </tr>\n",
       "    <tr>\n",
       "      <th>3</th>\n",
       "      <td>-2Arz8twKJmxHMS3Sv-TeA</td>\n",
       "      <td>@SteepNBrewWest</td>\n",
       "      <td>Steep &amp; Brew West</td>\n",
       "      <td>SteepNBrewWest</td>\n",
       "      <td>6656 Odana Road., Madison, WI</td>\n",
       "      <td>WI</td>\n",
       "      <td>United States</td>\n",
       "      <td>False</td>\n",
       "      <td>112</td>\n",
       "      <td>387</td>\n",
       "      <td>7</td>\n",
       "      <td>94</td>\n",
       "      <td>770</td>\n",
       "      <td>2013-07-09 17:13:55</td>\n",
       "    </tr>\n",
       "    <tr>\n",
       "      <th>4</th>\n",
       "      <td>-49WY_TEa9ZEcRk_GnuLog</td>\n",
       "      <td>@CrackerBarrel</td>\n",
       "      <td>Cracker Barrel Old Count</td>\n",
       "      <td>CrackerBarrel</td>\n",
       "      <td>NaN</td>\n",
       "      <td>OH</td>\n",
       "      <td>United States</td>\n",
       "      <td>True</td>\n",
       "      <td>119240</td>\n",
       "      <td>305</td>\n",
       "      <td>529</td>\n",
       "      <td>7392</td>\n",
       "      <td>10081</td>\n",
       "      <td>2011-05-18 22:15:26</td>\n",
       "    </tr>\n",
       "  </tbody>\n",
       "</table>\n",
       "</div>"
      ],
      "text/plain": [
       "              Business_id  twitter_account                      name  \\\n",
       "0  _v7lMUtdd6WlgKUEBLA_VA       @DonRamons  Don Ramon Mexican Restau   \n",
       "1  _VHU9KZUHRLp2Hc2JOKlYg     @CioppinoPGH  Cioppino Restaurant & Ci   \n",
       "2  _Vi33ZAf0hdBn5Cu0AnQig     @ZoesKitchen              Zoes Kitchen   \n",
       "3  -2Arz8twKJmxHMS3Sv-TeA  @SteepNBrewWest         Steep & Brew West   \n",
       "4  -49WY_TEa9ZEcRk_GnuLog   @CrackerBarrel  Cracker Barrel Old Count   \n",
       "\n",
       "      screen_name                           city state        country  \\\n",
       "0       DonRamons                   415-864-2700    OH  United States   \n",
       "1     CioppinoPGH                 Pittsburgh, PA    PA  United States   \n",
       "2     ZoesKitchen                            NaN    AZ  United States   \n",
       "3  SteepNBrewWest  6656 Odana Road., Madison, WI    WI  United States   \n",
       "4   CrackerBarrel                            NaN    OH  United States   \n",
       "\n",
       "   verified  followers_count  friends_count  listed_count  favourites_count  \\\n",
       "0     False              244            487            17              2271   \n",
       "1     False              914            502            11               751   \n",
       "2      True            22946             31           439              9697   \n",
       "3     False              112            387             7                94   \n",
       "4      True           119240            305           529              7392   \n",
       "\n",
       "   statuses_count           created_at  \n",
       "0            1436  2011-05-15 00:47:12  \n",
       "1            1016  2017-01-17 20:40:27  \n",
       "2           16780  2009-05-28 15:38:34  \n",
       "3             770  2013-07-09 17:13:55  \n",
       "4           10081  2011-05-18 22:15:26  "
      ]
     },
     "execution_count": 4,
     "metadata": {},
     "output_type": "execute_result"
    }
   ],
   "source": [
    "df_users = pd.read_excel(data_path+ipt_file1)\n",
    "df_users.head()"
   ]
  },
  {
   "cell_type": "code",
   "execution_count": 5,
   "metadata": {},
   "outputs": [
    {
     "name": "stdout",
     "output_type": "stream",
     "text": [
      "80 80\n"
     ]
    }
   ],
   "source": [
    "tw_business_id = df_users['Business_id'].tolist()\n",
    "tw_accounts  = df_users['twitter_account'].tolist()\n",
    "print(len(tw_business_id), len(tw_accounts))"
   ]
  },
  {
   "cell_type": "code",
   "execution_count": 6,
   "metadata": {},
   "outputs": [],
   "source": [
    "flw_80 = df_users[\"followers_count\"].tolist()"
   ]
  },
  {
   "cell_type": "code",
   "execution_count": 7,
   "metadata": {},
   "outputs": [
    {
     "name": "stdout",
     "output_type": "stream",
     "text": [
      "70 10\n"
     ]
    }
   ],
   "source": [
    "bd_flw, del_id_flw = func_scaling(flw_80, tw_business_id, 3)\n",
    "print(len(bd_flw), len(del_id_flw))"
   ]
  },
  {
   "cell_type": "code",
   "execution_count": 8,
   "metadata": {},
   "outputs": [
    {
     "data": {
      "text/plain": [
       "(array([40., 12.,  2.,  5.,  0.,  2.,  1.,  3.,  0.,  2.,  0.,  0.,  0.,\n",
       "         0.,  0.,  0.,  0.,  0.,  2.,  1.]),\n",
       " array([5.0000e+00, 3.1870e+03, 6.3690e+03, 9.5510e+03, 1.2733e+04,\n",
       "        1.5915e+04, 1.9097e+04, 2.2279e+04, 2.5461e+04, 2.8643e+04,\n",
       "        3.1825e+04, 3.5007e+04, 3.8189e+04, 4.1371e+04, 4.4553e+04,\n",
       "        4.7735e+04, 5.0917e+04, 5.4099e+04, 5.7281e+04, 6.0463e+04,\n",
       "        6.3645e+04]),\n",
       " <a list of 20 Patch objects>)"
      ]
     },
     "execution_count": 8,
     "metadata": {},
     "output_type": "execute_result"
    },
    {
     "data": {
      "image/png": "[encoded data removed]",
      "text/plain": [
       "<Figure size 432x288 with 1 Axes>"
      ]
     },
     "metadata": {},
     "output_type": "display_data"
    }
   ],
   "source": [
    "plt.hist(bd_flw, 20)"
   ]
  },
  {
   "cell_type": "markdown",
   "metadata": {},
   "source": [
    "# Tweet Favorites Analysis"
   ]
  },
  {
   "cell_type": "code",
   "execution_count": 9,
   "metadata": {},
   "outputs": [
    {
     "data": {
      "text/html": [
       "<div>\n",
       "<style scoped>\n",
       "    .dataframe tbody tr th:only-of-type {\n",
       "        vertical-align: middle;\n",
       "    }\n",
       "\n",
       "    .dataframe tbody tr th {\n",
       "        vertical-align: top;\n",
       "    }\n",
       "\n",
       "    .dataframe thead th {\n",
       "        text-align: right;\n",
       "    }\n",
       "</style>\n",
       "<table border=\"1\" class=\"dataframe\">\n",
       "  <thead>\n",
       "    <tr style=\"text-align: right;\">\n",
       "      <th></th>\n",
       "      <th>Business_id</th>\n",
       "      <th>twitter_account</th>\n",
       "      <th>tweet_id</th>\n",
       "      <th>created_at</th>\n",
       "      <th>retweet_count</th>\n",
       "      <th>favorite_count</th>\n",
       "      <th>lang</th>\n",
       "      <th>text</th>\n",
       "    </tr>\n",
       "  </thead>\n",
       "  <tbody>\n",
       "    <tr>\n",
       "      <th>0</th>\n",
       "      <td>_v7lMUtdd6WlgKUEBLA_VA</td>\n",
       "      <td>@DonRamons</td>\n",
       "      <td>1029239981104017408</td>\n",
       "      <td>2018-08-14 05:35:08</td>\n",
       "      <td>179</td>\n",
       "      <td>0</td>\n",
       "      <td>en</td>\n",
       "      <td>RT @SFGiants: Let those feelings out\\n\\n #Beat...</td>\n",
       "    </tr>\n",
       "    <tr>\n",
       "      <th>1</th>\n",
       "      <td>_v7lMUtdd6WlgKUEBLA_VA</td>\n",
       "      <td>@DonRamons</td>\n",
       "      <td>1008148314599010304</td>\n",
       "      <td>2018-06-17 00:44:23</td>\n",
       "      <td>0</td>\n",
       "      <td>1</td>\n",
       "      <td>en</td>\n",
       "      <td>@amymarquez Yeah!  Enjoy 🌮🥑🍹</td>\n",
       "    </tr>\n",
       "    <tr>\n",
       "      <th>2</th>\n",
       "      <td>_v7lMUtdd6WlgKUEBLA_VA</td>\n",
       "      <td>@DonRamons</td>\n",
       "      <td>903591448792195073</td>\n",
       "      <td>2017-09-01 12:12:43</td>\n",
       "      <td>1</td>\n",
       "      <td>2</td>\n",
       "      <td>en</td>\n",
       "      <td>#Margarita ☀️🔥holiday weekend loooonng lunch k...</td>\n",
       "    </tr>\n",
       "    <tr>\n",
       "      <th>3</th>\n",
       "      <td>_v7lMUtdd6WlgKUEBLA_VA</td>\n",
       "      <td>@DonRamons</td>\n",
       "      <td>895171391590477825</td>\n",
       "      <td>2017-08-09 06:34:25</td>\n",
       "      <td>2</td>\n",
       "      <td>1</td>\n",
       "      <td>en</td>\n",
       "      <td>#Fogust ☀️🥑🌮🍹#SpiceItUp Enjoy #SanFrancisco be...</td>\n",
       "    </tr>\n",
       "    <tr>\n",
       "      <th>4</th>\n",
       "      <td>_v7lMUtdd6WlgKUEBLA_VA</td>\n",
       "      <td>@DonRamons</td>\n",
       "      <td>890903925737566208</td>\n",
       "      <td>2017-07-28 11:57:02</td>\n",
       "      <td>3</td>\n",
       "      <td>2</td>\n",
       "      <td>en</td>\n",
       "      <td>Enjoy #summer 🥑🌮☀️#SanFrancisco  #tacos #comfo...</td>\n",
       "    </tr>\n",
       "  </tbody>\n",
       "</table>\n",
       "</div>"
      ],
      "text/plain": [
       "              Business_id twitter_account             tweet_id  \\\n",
       "0  _v7lMUtdd6WlgKUEBLA_VA      @DonRamons  1029239981104017408   \n",
       "1  _v7lMUtdd6WlgKUEBLA_VA      @DonRamons  1008148314599010304   \n",
       "2  _v7lMUtdd6WlgKUEBLA_VA      @DonRamons   903591448792195073   \n",
       "3  _v7lMUtdd6WlgKUEBLA_VA      @DonRamons   895171391590477825   \n",
       "4  _v7lMUtdd6WlgKUEBLA_VA      @DonRamons   890903925737566208   \n",
       "\n",
       "            created_at  retweet_count  favorite_count lang  \\\n",
       "0  2018-08-14 05:35:08            179               0   en   \n",
       "1  2018-06-17 00:44:23              0               1   en   \n",
       "2  2017-09-01 12:12:43              1               2   en   \n",
       "3  2017-08-09 06:34:25              2               1   en   \n",
       "4  2017-07-28 11:57:02              3               2   en   \n",
       "\n",
       "                                                text  \n",
       "0  RT @SFGiants: Let those feelings out\\n\\n #Beat...  \n",
       "1                       @amymarquez Yeah!  Enjoy 🌮🥑🍹  \n",
       "2  #Margarita ☀️🔥holiday weekend loooonng lunch k...  \n",
       "3  #Fogust ☀️🥑🌮🍹#SpiceItUp Enjoy #SanFrancisco be...  \n",
       "4  Enjoy #summer 🥑🌮☀️#SanFrancisco  #tacos #comfo...  "
      ]
     },
     "execution_count": 9,
     "metadata": {},
     "output_type": "execute_result"
    }
   ],
   "source": [
    "df_tweets = pd.read_excel(data_path+ipt_file2)\n",
    "df_tweets.head()"
   ]
  },
  {
   "cell_type": "code",
   "execution_count": 10,
   "metadata": {},
   "outputs": [
    {
     "data": {
      "text/html": [
       "<div>\n",
       "<style scoped>\n",
       "    .dataframe tbody tr th:only-of-type {\n",
       "        vertical-align: middle;\n",
       "    }\n",
       "\n",
       "    .dataframe tbody tr th {\n",
       "        vertical-align: top;\n",
       "    }\n",
       "\n",
       "    .dataframe thead th {\n",
       "        text-align: right;\n",
       "    }\n",
       "</style>\n",
       "<table border=\"1\" class=\"dataframe\">\n",
       "  <thead>\n",
       "    <tr style=\"text-align: right;\">\n",
       "      <th></th>\n",
       "      <th>Business_id</th>\n",
       "      <th>twitter_account</th>\n",
       "      <th>sum_favorites</th>\n",
       "    </tr>\n",
       "  </thead>\n",
       "  <tbody>\n",
       "    <tr>\n",
       "      <th>0</th>\n",
       "      <td>_v7lMUtdd6WlgKUEBLA_VA</td>\n",
       "      <td>@DonRamons</td>\n",
       "      <td>100</td>\n",
       "    </tr>\n",
       "    <tr>\n",
       "      <th>1</th>\n",
       "      <td>_VHU9KZUHRLp2Hc2JOKlYg</td>\n",
       "      <td>@CioppinoPGH</td>\n",
       "      <td>137</td>\n",
       "    </tr>\n",
       "    <tr>\n",
       "      <th>2</th>\n",
       "      <td>_Vi33ZAf0hdBn5Cu0AnQig</td>\n",
       "      <td>@ZoesKitchen</td>\n",
       "      <td>198</td>\n",
       "    </tr>\n",
       "    <tr>\n",
       "      <th>3</th>\n",
       "      <td>-2Arz8twKJmxHMS3Sv-TeA</td>\n",
       "      <td>@SteepNBrewWest</td>\n",
       "      <td>49</td>\n",
       "    </tr>\n",
       "    <tr>\n",
       "      <th>4</th>\n",
       "      <td>-49WY_TEa9ZEcRk_GnuLog</td>\n",
       "      <td>@CrackerBarrel</td>\n",
       "      <td>2657</td>\n",
       "    </tr>\n",
       "  </tbody>\n",
       "</table>\n",
       "</div>"
      ],
      "text/plain": [
       "              Business_id  twitter_account  sum_favorites\n",
       "0  _v7lMUtdd6WlgKUEBLA_VA       @DonRamons            100\n",
       "1  _VHU9KZUHRLp2Hc2JOKlYg     @CioppinoPGH            137\n",
       "2  _Vi33ZAf0hdBn5Cu0AnQig     @ZoesKitchen            198\n",
       "3  -2Arz8twKJmxHMS3Sv-TeA  @SteepNBrewWest             49\n",
       "4  -49WY_TEa9ZEcRk_GnuLog   @CrackerBarrel           2657"
      ]
     },
     "execution_count": 10,
     "metadata": {},
     "output_type": "execute_result"
    }
   ],
   "source": [
    "# groupby outputs without an unpredicted order\n",
    "sum_tweet_retweeted = df_tweets.groupby(\"Business_id\")[\"retweet_count\"].sum()\n",
    "sum_tweet_favorited = df_tweets.groupby(\"Business_id\")[\"favorite_count\"].sum()\n",
    "\n",
    "df_sum_user_popularity = pd.DataFrame({\"sum_tweet_retweeted\": sum_tweet_retweeted,\n",
    "                                        \"sum_tweet_favorited\": sum_tweet_favorited\n",
    "                                       })\n",
    "# Ordering\n",
    "sum_tweet_retweeted = []\n",
    "sum_tweet_favorited = []\n",
    "for bid in tw_business_id:\n",
    "    sum_tweet_retweeted.append(df_sum_user_popularity.loc[bid].sum_tweet_retweeted)\n",
    "    sum_tweet_favorited.append(df_sum_user_popularity.loc[bid].sum_tweet_favorited)\n",
    "\n",
    "df_favorites = pd.DataFrame({\"Business_id\"     : tw_business_id,\n",
    "                             \"twitter_account\" : tw_accounts,\n",
    "                             #\"sum_tweet_retweeted\" : sum_tweet_retweeted,\n",
    "                             \"sum_favorites\" : sum_tweet_favorited\n",
    "                             })\n",
    "\n",
    "df_favorites.head()"
   ]
  },
  {
   "cell_type": "code",
   "execution_count": 11,
   "metadata": {},
   "outputs": [
    {
     "name": "stdout",
     "output_type": "stream",
     "text": [
      "72 8\n"
     ]
    }
   ],
   "source": [
    "fav_80 = df_favorites[\"sum_favorites\"].tolist()\n",
    "bd_fav, del_id_fav = func_scaling(fav_80, tw_business_id)\n",
    "print(len(bd_fav), len(del_id_fav))"
   ]
  },
  {
   "cell_type": "code",
   "execution_count": 12,
   "metadata": {},
   "outputs": [
    {
     "data": {
      "text/plain": [
       "(array([17., 14.,  5.,  1.,  5.,  7.,  3.,  4.,  1.,  3.,  2.,  3.,  0.,\n",
       "         1.,  1.,  2.,  1.,  0.,  1.,  1.]),\n",
       " array([   0. ,   66.3,  132.6,  198.9,  265.2,  331.5,  397.8,  464.1,\n",
       "         530.4,  596.7,  663. ,  729.3,  795.6,  861.9,  928.2,  994.5,\n",
       "        1060.8, 1127.1, 1193.4, 1259.7, 1326. ]),\n",
       " <a list of 20 Patch objects>)"
      ]
     },
     "execution_count": 12,
     "metadata": {},
     "output_type": "execute_result"
    },
    {
     "data": {
      "image/png": "[encoded data removed]",
      "text/plain": [
       "<Figure size 432x288 with 1 Axes>"
      ]
     },
     "metadata": {},
     "output_type": "display_data"
    }
   ],
   "source": [
    "plt.hist(bd_fav, 20)"
   ]
  },
  {
   "cell_type": "markdown",
   "metadata": {},
   "source": [
    "# Twitter Boxplots"
   ]
  },
  {
   "cell_type": "code",
   "execution_count": 13,
   "metadata": {},
   "outputs": [],
   "source": [
    "df_twitter = pd.DataFrame({\"Business_id\"     : tw_business_id,\n",
    "                           \"twitter_account\" : tw_accounts,\n",
    "                           \"followers\"       : flw_80, \n",
    "                         })"
   ]
  },
  {
   "cell_type": "code",
   "execution_count": 14,
   "metadata": {},
   "outputs": [],
   "source": [
    "mean_flw = np.mean(bd_flw)\n",
    "std_flw  = np.std(bd_flw)\n",
    "df_twitter[\"scaled_followers\"] = (df_twitter[\"followers\"] - mean_flw) / std_flw"
   ]
  },
  {
   "cell_type": "code",
   "execution_count": 15,
   "metadata": {},
   "outputs": [],
   "source": [
    "df_twitter[\"favorites_sum\"] = fav_80"
   ]
  },
  {
   "cell_type": "code",
   "execution_count": 16,
   "metadata": {},
   "outputs": [],
   "source": [
    "mean_fav = np.mean(bd_fav)\n",
    "std_fav  = np.std(bd_fav)\n",
    "df_twitter[\"scaled_favorites_sum\"] = (df_twitter[\"favorites_sum\"] - mean_fav) / std_fav"
   ]
  },
  {
   "cell_type": "code",
   "execution_count": 17,
   "metadata": {},
   "outputs": [
    {
     "data": {
      "text/html": [
       "<div>\n",
       "<style scoped>\n",
       "    .dataframe tbody tr th:only-of-type {\n",
       "        vertical-align: middle;\n",
       "    }\n",
       "\n",
       "    .dataframe tbody tr th {\n",
       "        vertical-align: top;\n",
       "    }\n",
       "\n",
       "    .dataframe thead th {\n",
       "        text-align: right;\n",
       "    }\n",
       "</style>\n",
       "<table border=\"1\" class=\"dataframe\">\n",
       "  <thead>\n",
       "    <tr style=\"text-align: right;\">\n",
       "      <th></th>\n",
       "      <th>Business_id</th>\n",
       "      <th>twitter_account</th>\n",
       "      <th>followers</th>\n",
       "      <th>scaled_followers</th>\n",
       "      <th>favorites_sum</th>\n",
       "      <th>scaled_favorites_sum</th>\n",
       "    </tr>\n",
       "  </thead>\n",
       "  <tbody>\n",
       "    <tr>\n",
       "      <th>0</th>\n",
       "      <td>_v7lMUtdd6WlgKUEBLA_VA</td>\n",
       "      <td>@DonRamons</td>\n",
       "      <td>244</td>\n",
       "      <td>-0.553115</td>\n",
       "      <td>100</td>\n",
       "      <td>-0.695256</td>\n",
       "    </tr>\n",
       "    <tr>\n",
       "      <th>1</th>\n",
       "      <td>_VHU9KZUHRLp2Hc2JOKlYg</td>\n",
       "      <td>@CioppinoPGH</td>\n",
       "      <td>914</td>\n",
       "      <td>-0.502814</td>\n",
       "      <td>137</td>\n",
       "      <td>-0.583458</td>\n",
       "    </tr>\n",
       "    <tr>\n",
       "      <th>2</th>\n",
       "      <td>_Vi33ZAf0hdBn5Cu0AnQig</td>\n",
       "      <td>@ZoesKitchen</td>\n",
       "      <td>22946</td>\n",
       "      <td>1.151260</td>\n",
       "      <td>198</td>\n",
       "      <td>-0.399142</td>\n",
       "    </tr>\n",
       "    <tr>\n",
       "      <th>3</th>\n",
       "      <td>-2Arz8twKJmxHMS3Sv-TeA</td>\n",
       "      <td>@SteepNBrewWest</td>\n",
       "      <td>112</td>\n",
       "      <td>-0.563025</td>\n",
       "      <td>49</td>\n",
       "      <td>-0.849356</td>\n",
       "    </tr>\n",
       "    <tr>\n",
       "      <th>4</th>\n",
       "      <td>-49WY_TEa9ZEcRk_GnuLog</td>\n",
       "      <td>@CrackerBarrel</td>\n",
       "      <td>119240</td>\n",
       "      <td>8.380629</td>\n",
       "      <td>2657</td>\n",
       "      <td>7.030912</td>\n",
       "    </tr>\n",
       "  </tbody>\n",
       "</table>\n",
       "</div>"
      ],
      "text/plain": [
       "              Business_id  twitter_account  followers  scaled_followers  \\\n",
       "0  _v7lMUtdd6WlgKUEBLA_VA       @DonRamons        244         -0.553115   \n",
       "1  _VHU9KZUHRLp2Hc2JOKlYg     @CioppinoPGH        914         -0.502814   \n",
       "2  _Vi33ZAf0hdBn5Cu0AnQig     @ZoesKitchen      22946          1.151260   \n",
       "3  -2Arz8twKJmxHMS3Sv-TeA  @SteepNBrewWest        112         -0.563025   \n",
       "4  -49WY_TEa9ZEcRk_GnuLog   @CrackerBarrel     119240          8.380629   \n",
       "\n",
       "   favorites_sum  scaled_favorites_sum  \n",
       "0            100             -0.695256  \n",
       "1            137             -0.583458  \n",
       "2            198             -0.399142  \n",
       "3             49             -0.849356  \n",
       "4           2657              7.030912  "
      ]
     },
     "execution_count": 17,
     "metadata": {},
     "output_type": "execute_result"
    }
   ],
   "source": [
    "df_twitter.head()"
   ]
  },
  {
   "cell_type": "code",
   "execution_count": null,
   "metadata": {},
   "outputs": [],
   "source": []
  },
  {
   "cell_type": "code",
   "execution_count": 18,
   "metadata": {},
   "outputs": [],
   "source": [
    "mean_flw = np.mean(bd_flw)\n",
    "std_flw  = np.std(bd_flw)\n",
    "plt_flw = (bd_flw - mean_flw)/std_flw"
   ]
  },
  {
   "cell_type": "code",
   "execution_count": 19,
   "metadata": {},
   "outputs": [],
   "source": [
    "mean_fav = np.mean(bd_fav)\n",
    "std_fav  = np.std(bd_fav)\n",
    "plt_fav = (bd_fav - mean_fav)/std_fav"
   ]
  },
  {
   "cell_type": "code",
   "execution_count": 20,
   "metadata": {},
   "outputs": [
    {
     "data": {
      "image/png": "[encoded data removed]",
      "text/plain": [
       "<Figure size 432x288 with 1 Axes>"
      ]
     },
     "metadata": {},
     "output_type": "display_data"
    }
   ],
   "source": [
    "plt.boxplot([plt_flw, plt_fav], \n",
    "            labels=[\"Twitter_Followers\", \"Twitter_Favorites\"],\n",
    "            showmeans=True)\n",
    "plt.savefig(data_path+\"blt_fw_fv.png\")"
   ]
  },
  {
   "cell_type": "code",
   "execution_count": null,
   "metadata": {},
   "outputs": [],
   "source": []
  },
  {
   "cell_type": "markdown",
   "metadata": {},
   "source": [
    "# Yelp Boxplots of Reviews & Checkins"
   ]
  },
  {
   "cell_type": "code",
   "execution_count": 21,
   "metadata": {},
   "outputs": [
    {
     "data": {
      "text/html": [
       "<div>\n",
       "<style scoped>\n",
       "    .dataframe tbody tr th:only-of-type {\n",
       "        vertical-align: middle;\n",
       "    }\n",
       "\n",
       "    .dataframe tbody tr th {\n",
       "        vertical-align: top;\n",
       "    }\n",
       "\n",
       "    .dataframe thead th {\n",
       "        text-align: right;\n",
       "    }\n",
       "</style>\n",
       "<table border=\"1\" class=\"dataframe\">\n",
       "  <thead>\n",
       "    <tr style=\"text-align: right;\">\n",
       "      <th></th>\n",
       "      <th>business_id</th>\n",
       "      <th>review_count</th>\n",
       "      <th>scaled.reviews</th>\n",
       "      <th>review.Rank</th>\n",
       "      <th>sum.checkin.</th>\n",
       "      <th>scaled.checkin</th>\n",
       "      <th>checkinRank</th>\n",
       "      <th>stars</th>\n",
       "    </tr>\n",
       "  </thead>\n",
       "  <tbody>\n",
       "    <tr>\n",
       "      <th>1</th>\n",
       "      <td>_v7lMUtdd6WlgKUEBLA_VA</td>\n",
       "      <td>70</td>\n",
       "      <td>-0.424112</td>\n",
       "      <td>40.0</td>\n",
       "      <td>148</td>\n",
       "      <td>-0.436355</td>\n",
       "      <td>32.0</td>\n",
       "      <td>4.0</td>\n",
       "    </tr>\n",
       "    <tr>\n",
       "      <th>2</th>\n",
       "      <td>_VHU9KZUHRLp2Hc2JOKlYg</td>\n",
       "      <td>152</td>\n",
       "      <td>-0.355645</td>\n",
       "      <td>51.0</td>\n",
       "      <td>394</td>\n",
       "      <td>-0.373916</td>\n",
       "      <td>48.0</td>\n",
       "      <td>4.0</td>\n",
       "    </tr>\n",
       "    <tr>\n",
       "      <th>3</th>\n",
       "      <td>_Vi33ZAf0hdBn5Cu0AnQig</td>\n",
       "      <td>36</td>\n",
       "      <td>-0.452501</td>\n",
       "      <td>27.0</td>\n",
       "      <td>44</td>\n",
       "      <td>-0.462752</td>\n",
       "      <td>16.5</td>\n",
       "      <td>4.0</td>\n",
       "    </tr>\n",
       "    <tr>\n",
       "      <th>4</th>\n",
       "      <td>-2Arz8twKJmxHMS3Sv-TeA</td>\n",
       "      <td>24</td>\n",
       "      <td>-0.462521</td>\n",
       "      <td>18.0</td>\n",
       "      <td>82</td>\n",
       "      <td>-0.453107</td>\n",
       "      <td>25.0</td>\n",
       "      <td>3.5</td>\n",
       "    </tr>\n",
       "    <tr>\n",
       "      <th>5</th>\n",
       "      <td>-49WY_TEa9ZEcRk_GnuLog</td>\n",
       "      <td>31</td>\n",
       "      <td>-0.456676</td>\n",
       "      <td>24.0</td>\n",
       "      <td>164</td>\n",
       "      <td>-0.432294</td>\n",
       "      <td>35.0</td>\n",
       "      <td>3.5</td>\n",
       "    </tr>\n",
       "  </tbody>\n",
       "</table>\n",
       "</div>"
      ],
      "text/plain": [
       "              business_id  review_count  scaled.reviews  review.Rank  \\\n",
       "1  _v7lMUtdd6WlgKUEBLA_VA            70       -0.424112         40.0   \n",
       "2  _VHU9KZUHRLp2Hc2JOKlYg           152       -0.355645         51.0   \n",
       "3  _Vi33ZAf0hdBn5Cu0AnQig            36       -0.452501         27.0   \n",
       "4  -2Arz8twKJmxHMS3Sv-TeA            24       -0.462521         18.0   \n",
       "5  -49WY_TEa9ZEcRk_GnuLog            31       -0.456676         24.0   \n",
       "\n",
       "   sum.checkin.  scaled.checkin  checkinRank  stars  \n",
       "1           148       -0.436355         32.0    4.0  \n",
       "2           394       -0.373916         48.0    4.0  \n",
       "3            44       -0.462752         16.5    4.0  \n",
       "4            82       -0.453107         25.0    3.5  \n",
       "5           164       -0.432294         35.0    3.5  "
      ]
     },
     "execution_count": 21,
     "metadata": {},
     "output_type": "execute_result"
    }
   ],
   "source": [
    "df_yelp = pd.read_excel(data_path+ipt_file3)\n",
    "df_yelp.head()"
   ]
  },
  {
   "cell_type": "code",
   "execution_count": 22,
   "metadata": {},
   "outputs": [],
   "source": [
    "yelp_id = df_yelp[\"business_id\"].tolist()"
   ]
  },
  {
   "cell_type": "code",
   "execution_count": 23,
   "metadata": {},
   "outputs": [
    {
     "name": "stdout",
     "output_type": "stream",
     "text": [
      "DUP Check Over\n"
     ]
    }
   ],
   "source": [
    "dup = {}\n",
    "for bid in tw_business_id:\n",
    "    if bid in dup:\n",
    "        dup[bid] += 1\n",
    "    else:\n",
    "        dup[bid] = 1\n",
    "\n",
    "for bid in dup:\n",
    "    if dup[bid] != 1:\n",
    "        print(bid)\n",
    "        \n",
    "for yid in yelp_id:\n",
    "    if yid in dup:\n",
    "        dup[yid] -= 1\n",
    "    else:\n",
    "        print(yid)\n",
    "\n",
    "for bid in dup:\n",
    "    if dup[bid] != 0:\n",
    "        print(bid)\n",
    "        \n",
    "print(\"DUP Check Over\")"
   ]
  },
  {
   "cell_type": "code",
   "execution_count": null,
   "metadata": {},
   "outputs": [],
   "source": []
  },
  {
   "cell_type": "code",
   "execution_count": 24,
   "metadata": {},
   "outputs": [],
   "source": [
    "rvw_80 = df_yelp[\"review_count\"].tolist()\n",
    "ckn_80 = df_yelp[\"sum.checkin.\"].tolist()"
   ]
  },
  {
   "cell_type": "code",
   "execution_count": 25,
   "metadata": {},
   "outputs": [
    {
     "data": {
      "text/plain": [
       "(array([63.,  7.,  2.,  5.,  0.,  1.,  1.,  0.,  0.,  1.]),\n",
       " array([3.0000e+00, 7.3880e+02, 1.4746e+03, 2.2104e+03, 2.9462e+03,\n",
       "        3.6820e+03, 4.4178e+03, 5.1536e+03, 5.8894e+03, 6.6252e+03,\n",
       "        7.3610e+03]),\n",
       " <a list of 10 Patch objects>)"
      ]
     },
     "execution_count": 25,
     "metadata": {},
     "output_type": "execute_result"
    },
    {
     "data": {
      "image/png": "[encoded data removed]",
      "text/plain": [
       "<Figure size 432x288 with 1 Axes>"
      ]
     },
     "metadata": {},
     "output_type": "display_data"
    }
   ],
   "source": [
    "plt.hist(rvw_80)"
   ]
  },
  {
   "cell_type": "code",
   "execution_count": 26,
   "metadata": {},
   "outputs": [
    {
     "data": {
      "text/plain": [
       "(array([62.,  8.,  2.,  1.,  2.,  0.,  1.,  2.,  1.,  1.]),\n",
       " array([2.00000e+00, 1.91560e+03, 3.82920e+03, 5.74280e+03, 7.65640e+03,\n",
       "        9.57000e+03, 1.14836e+04, 1.33972e+04, 1.53108e+04, 1.72244e+04,\n",
       "        1.91380e+04]),\n",
       " <a list of 10 Patch objects>)"
      ]
     },
     "execution_count": 26,
     "metadata": {},
     "output_type": "execute_result"
    },
    {
     "data": {
      "image/png": "[encoded data removed]",
      "text/plain": [
       "<Figure size 432x288 with 1 Axes>"
      ]
     },
     "metadata": {},
     "output_type": "display_data"
    }
   ],
   "source": [
    "plt.hist(ckn_80)"
   ]
  },
  {
   "cell_type": "code",
   "execution_count": 27,
   "metadata": {},
   "outputs": [
    {
     "name": "stdout",
     "output_type": "stream",
     "text": [
      "68 12\n"
     ]
    }
   ],
   "source": [
    "bd_rvw, del_id_rvw = func_scaling(rvw_80, yelp_id)\n",
    "print(len(bd_rvw), len(del_id_rvw))"
   ]
  },
  {
   "cell_type": "code",
   "execution_count": 28,
   "metadata": {},
   "outputs": [
    {
     "name": "stdout",
     "output_type": "stream",
     "text": [
      "70 10\n"
     ]
    }
   ],
   "source": [
    "bd_ckn, del_id_ckn = func_scaling(ckn_80, yelp_id)\n",
    "print(len(bd_ckn), len(del_id_ckn))"
   ]
  },
  {
   "cell_type": "code",
   "execution_count": 29,
   "metadata": {},
   "outputs": [],
   "source": [
    "mean_rvw = np.mean(bd_rvw)\n",
    "std_rvw  = np.std(bd_rvw)\n",
    "plt_rvw = (bd_rvw - mean_rvw)/std_rvw"
   ]
  },
  {
   "cell_type": "code",
   "execution_count": 30,
   "metadata": {},
   "outputs": [],
   "source": [
    "mean_ckn = np.mean(bd_ckn)\n",
    "std_ckn  = np.std(bd_ckn)\n",
    "plt_ckn = (bd_ckn - mean_ckn)/std_ckn"
   ]
  },
  {
   "cell_type": "code",
   "execution_count": 31,
   "metadata": {},
   "outputs": [
    {
     "data": {
      "image/png": "[encoded data removed]",
      "text/plain": [
       "<Figure size 432x288 with 1 Axes>"
      ]
     },
     "metadata": {},
     "output_type": "display_data"
    }
   ],
   "source": [
    "plt.boxplot([plt_rvw, plt_ckn], \n",
    "            labels=[\"Yelp_Reviews\", \"Yelp_Checkin\"],\n",
    "            showmeans=True)\n",
    "plt.savefig(data_path+\"blt_rv_ck.png\")"
   ]
  },
  {
   "cell_type": "markdown",
   "metadata": {},
   "source": [
    "# Yelp Ratings"
   ]
  },
  {
   "cell_type": "code",
   "execution_count": 32,
   "metadata": {},
   "outputs": [
    {
     "data": {
      "text/plain": [
       "(array([ 2., 16., 27., 29.,  6.]),\n",
       " array([2.5, 3. , 3.5, 4. , 4.5, 5. ]),\n",
       " <a list of 5 Patch objects>)"
      ]
     },
     "execution_count": 32,
     "metadata": {},
     "output_type": "execute_result"
    },
    {
     "data": {
      "image/png": "[encoded data removed]",
      "text/plain": [
       "<Figure size 432x288 with 1 Axes>"
      ]
     },
     "metadata": {},
     "output_type": "display_data"
    }
   ],
   "source": [
    "rating_80 = df_yelp[\"stars\"].tolist()\n",
    "plt.hist(rating_80, 5)"
   ]
  },
  {
   "cell_type": "code",
   "execution_count": 33,
   "metadata": {},
   "outputs": [],
   "source": [
    "mean_rating = np.mean(rating_80)\n",
    "std_rating  = np.std(rating_80)\n",
    "plt_rating = (rating_80 - mean_rating)/std_rating"
   ]
  },
  {
   "cell_type": "code",
   "execution_count": 34,
   "metadata": {},
   "outputs": [
    {
     "data": {
      "image/png": "[encoded data removed]",
      "text/plain": [
       "<Figure size 432x288 with 1 Axes>"
      ]
     },
     "metadata": {},
     "output_type": "display_data"
    }
   ],
   "source": [
    "plt.boxplot([plt_rating, plt_rvw],\n",
    "            labels=[\"Yelp_Rating\", \"Yelp_Reviews\"],\n",
    "            showmeans=True)\n",
    "plt.savefig(data_path+\"blt_rt_rv.png\")"
   ]
  },
  {
   "cell_type": "code",
   "execution_count": 35,
   "metadata": {},
   "outputs": [
    {
     "data": {
      "text/plain": [
       "3.6375"
      ]
     },
     "execution_count": 35,
     "metadata": {},
     "output_type": "execute_result"
    }
   ],
   "source": [
    "mean_rating"
   ]
  },
  {
   "cell_type": "markdown",
   "metadata": {},
   "source": [
    "# Yelp.Reviews v. Twitter.Followers"
   ]
  },
  {
   "cell_type": "code",
   "execution_count": 36,
   "metadata": {},
   "outputs": [
    {
     "data": {
      "image/png": "[encoded data removed]",
      "text/plain": [
       "<Figure size 432x288 with 1 Axes>"
      ]
     },
     "metadata": {},
     "output_type": "display_data"
    }
   ],
   "source": [
    "plt.boxplot([plt_rvw, plt_flw], \n",
    "            labels=[\"Yelp_Reviews\", \"Twitter_Followers\"],\n",
    "            showmeans=True)\n",
    "plt.savefig(data_path+\"blt_rv_fw.png\")"
   ]
  },
  {
   "cell_type": "markdown",
   "metadata": {},
   "source": [
    "# Yelp.Rating v. Twitter.Favorites"
   ]
  },
  {
   "cell_type": "code",
   "execution_count": 37,
   "metadata": {},
   "outputs": [
    {
     "data": {
      "image/png": "[encoded data removed]",
      "text/plain": [
       "<Figure size 432x288 with 1 Axes>"
      ]
     },
     "metadata": {},
     "output_type": "display_data"
    }
   ],
   "source": [
    "plt.boxplot([plt_rating, plt_fav], \n",
    "            labels=[\"Yelp_Rating\", \"Twitter_Favorites\"],\n",
    "            showmeans=True)\n",
    "plt.savefig(data_path+\"blt_rt_fv.png\")"
   ]
  },
  {
   "cell_type": "markdown",
   "metadata": {},
   "source": [
    "# Merge with the same IDs"
   ]
  },
  {
   "cell_type": "code",
   "execution_count": 38,
   "metadata": {},
   "outputs": [
    {
     "data": {
      "text/html": [
       "<div>\n",
       "<style scoped>\n",
       "    .dataframe tbody tr th:only-of-type {\n",
       "        vertical-align: middle;\n",
       "    }\n",
       "\n",
       "    .dataframe tbody tr th {\n",
       "        vertical-align: top;\n",
       "    }\n",
       "\n",
       "    .dataframe thead th {\n",
       "        text-align: right;\n",
       "    }\n",
       "</style>\n",
       "<table border=\"1\" class=\"dataframe\">\n",
       "  <thead>\n",
       "    <tr style=\"text-align: right;\">\n",
       "      <th></th>\n",
       "      <th>business_id</th>\n",
       "      <th>stars</th>\n",
       "    </tr>\n",
       "  </thead>\n",
       "  <tbody>\n",
       "    <tr>\n",
       "      <th>78</th>\n",
       "      <td>Xg5qEQiB-7L6kGJ5F4K3bQ</td>\n",
       "      <td>5.0</td>\n",
       "    </tr>\n",
       "    <tr>\n",
       "      <th>35</th>\n",
       "      <td>faPVqws-x-5k2CQKDNtHxw</td>\n",
       "      <td>4.5</td>\n",
       "    </tr>\n",
       "    <tr>\n",
       "      <th>28</th>\n",
       "      <td>0d0i0FaJq1GIeW1rS2D-5w</td>\n",
       "      <td>4.5</td>\n",
       "    </tr>\n",
       "    <tr>\n",
       "      <th>29</th>\n",
       "      <td>2iTsRqUsPGRH1li1WVRvKQ</td>\n",
       "      <td>4.5</td>\n",
       "    </tr>\n",
       "    <tr>\n",
       "      <th>30</th>\n",
       "      <td>3BCsAgo_1i4xMuTyLKMLRQ</td>\n",
       "      <td>4.5</td>\n",
       "    </tr>\n",
       "  </tbody>\n",
       "</table>\n",
       "</div>"
      ],
      "text/plain": [
       "               business_id  stars\n",
       "78  Xg5qEQiB-7L6kGJ5F4K3bQ    5.0\n",
       "35  faPVqws-x-5k2CQKDNtHxw    4.5\n",
       "28  0d0i0FaJq1GIeW1rS2D-5w    4.5\n",
       "29  2iTsRqUsPGRH1li1WVRvKQ    4.5\n",
       "30  3BCsAgo_1i4xMuTyLKMLRQ    4.5"
      ]
     },
     "execution_count": 38,
     "metadata": {},
     "output_type": "execute_result"
    }
   ],
   "source": [
    "df_rating_ordered = df_yelp.sort_values([\"stars\"], ascending=False)[[\"business_id\", \"stars\"]]\n",
    "df_rating_ordered.head()"
   ]
  },
  {
   "cell_type": "code",
   "execution_count": 39,
   "metadata": {},
   "outputs": [
    {
     "data": {
      "text/html": [
       "<div>\n",
       "<style scoped>\n",
       "    .dataframe tbody tr th:only-of-type {\n",
       "        vertical-align: middle;\n",
       "    }\n",
       "\n",
       "    .dataframe tbody tr th {\n",
       "        vertical-align: top;\n",
       "    }\n",
       "\n",
       "    .dataframe thead th {\n",
       "        text-align: right;\n",
       "    }\n",
       "</style>\n",
       "<table border=\"1\" class=\"dataframe\">\n",
       "  <thead>\n",
       "    <tr style=\"text-align: right;\">\n",
       "      <th></th>\n",
       "      <th>business_id</th>\n",
       "      <th>stars</th>\n",
       "      <th>Yelp_ratings_scaled</th>\n",
       "    </tr>\n",
       "  </thead>\n",
       "  <tbody>\n",
       "    <tr>\n",
       "      <th>78</th>\n",
       "      <td>Xg5qEQiB-7L6kGJ5F4K3bQ</td>\n",
       "      <td>5.0</td>\n",
       "      <td>2.796711</td>\n",
       "    </tr>\n",
       "    <tr>\n",
       "      <th>35</th>\n",
       "      <td>faPVqws-x-5k2CQKDNtHxw</td>\n",
       "      <td>4.5</td>\n",
       "      <td>1.770395</td>\n",
       "    </tr>\n",
       "    <tr>\n",
       "      <th>28</th>\n",
       "      <td>0d0i0FaJq1GIeW1rS2D-5w</td>\n",
       "      <td>4.5</td>\n",
       "      <td>1.770395</td>\n",
       "    </tr>\n",
       "    <tr>\n",
       "      <th>29</th>\n",
       "      <td>2iTsRqUsPGRH1li1WVRvKQ</td>\n",
       "      <td>4.5</td>\n",
       "      <td>1.770395</td>\n",
       "    </tr>\n",
       "    <tr>\n",
       "      <th>30</th>\n",
       "      <td>3BCsAgo_1i4xMuTyLKMLRQ</td>\n",
       "      <td>4.5</td>\n",
       "      <td>1.770395</td>\n",
       "    </tr>\n",
       "  </tbody>\n",
       "</table>\n",
       "</div>"
      ],
      "text/plain": [
       "               business_id  stars  Yelp_ratings_scaled\n",
       "78  Xg5qEQiB-7L6kGJ5F4K3bQ    5.0             2.796711\n",
       "35  faPVqws-x-5k2CQKDNtHxw    4.5             1.770395\n",
       "28  0d0i0FaJq1GIeW1rS2D-5w    4.5             1.770395\n",
       "29  2iTsRqUsPGRH1li1WVRvKQ    4.5             1.770395\n",
       "30  3BCsAgo_1i4xMuTyLKMLRQ    4.5             1.770395"
      ]
     },
     "execution_count": 39,
     "metadata": {},
     "output_type": "execute_result"
    }
   ],
   "source": [
    "stars = df_rating_ordered[\"stars\"].tolist()\n",
    "df_rating_ordered[\"Yelp_ratings_scaled\"] = (stars - np.mean(stars)) / np.std(stars)\n",
    "df_rating_ordered.head()"
   ]
  },
  {
   "cell_type": "code",
   "execution_count": 40,
   "metadata": {},
   "outputs": [],
   "source": [
    "bid_ordered = df_rating_ordered[\"business_id\"].tolist()"
   ]
  },
  {
   "cell_type": "code",
   "execution_count": 41,
   "metadata": {},
   "outputs": [
    {
     "data": {
      "text/html": [
       "<div>\n",
       "<style scoped>\n",
       "    .dataframe tbody tr th:only-of-type {\n",
       "        vertical-align: middle;\n",
       "    }\n",
       "\n",
       "    .dataframe tbody tr th {\n",
       "        vertical-align: top;\n",
       "    }\n",
       "\n",
       "    .dataframe thead th {\n",
       "        text-align: right;\n",
       "    }\n",
       "</style>\n",
       "<table border=\"1\" class=\"dataframe\">\n",
       "  <thead>\n",
       "    <tr style=\"text-align: right;\">\n",
       "      <th></th>\n",
       "      <th>business_id</th>\n",
       "      <th>stars</th>\n",
       "      <th>Yelp_ratings_scaled</th>\n",
       "      <th>favorites</th>\n",
       "      <th>Twitter_favorites_scaled</th>\n",
       "    </tr>\n",
       "  </thead>\n",
       "  <tbody>\n",
       "    <tr>\n",
       "      <th>0</th>\n",
       "      <td>Xg5qEQiB-7L6kGJ5F4K3bQ</td>\n",
       "      <td>5.0</td>\n",
       "      <td>2.796711</td>\n",
       "      <td>318</td>\n",
       "      <td>-0.036553</td>\n",
       "    </tr>\n",
       "    <tr>\n",
       "      <th>1</th>\n",
       "      <td>faPVqws-x-5k2CQKDNtHxw</td>\n",
       "      <td>4.5</td>\n",
       "      <td>1.770395</td>\n",
       "      <td>1021</td>\n",
       "      <td>2.087615</td>\n",
       "    </tr>\n",
       "    <tr>\n",
       "      <th>2</th>\n",
       "      <td>0d0i0FaJq1GIeW1rS2D-5w</td>\n",
       "      <td>4.5</td>\n",
       "      <td>1.770395</td>\n",
       "      <td>474</td>\n",
       "      <td>0.434813</td>\n",
       "    </tr>\n",
       "    <tr>\n",
       "      <th>3</th>\n",
       "      <td>2iTsRqUsPGRH1li1WVRvKQ</td>\n",
       "      <td>4.5</td>\n",
       "      <td>1.770395</td>\n",
       "      <td>394</td>\n",
       "      <td>0.193087</td>\n",
       "    </tr>\n",
       "    <tr>\n",
       "      <th>4</th>\n",
       "      <td>3BCsAgo_1i4xMuTyLKMLRQ</td>\n",
       "      <td>4.5</td>\n",
       "      <td>1.770395</td>\n",
       "      <td>613</td>\n",
       "      <td>0.854812</td>\n",
       "    </tr>\n",
       "  </tbody>\n",
       "</table>\n",
       "</div>"
      ],
      "text/plain": [
       "              business_id  stars  Yelp_ratings_scaled  favorites  \\\n",
       "0  Xg5qEQiB-7L6kGJ5F4K3bQ    5.0             2.796711        318   \n",
       "1  faPVqws-x-5k2CQKDNtHxw    4.5             1.770395       1021   \n",
       "2  0d0i0FaJq1GIeW1rS2D-5w    4.5             1.770395        474   \n",
       "3  2iTsRqUsPGRH1li1WVRvKQ    4.5             1.770395        394   \n",
       "4  3BCsAgo_1i4xMuTyLKMLRQ    4.5             1.770395        613   \n",
       "\n",
       "   Twitter_favorites_scaled  \n",
       "0                 -0.036553  \n",
       "1                  2.087615  \n",
       "2                  0.434813  \n",
       "3                  0.193087  \n",
       "4                  0.854812  "
      ]
     },
     "execution_count": 41,
     "metadata": {},
     "output_type": "execute_result"
    }
   ],
   "source": [
    "tw_favs = []\n",
    "for bid in bid_ordered:\n",
    "    fav = df_favorites.loc[df_favorites[\"Business_id\"]==bid, \"sum_favorites\"].tolist()[0]\n",
    "    tw_favs.append(fav)\n",
    "\n",
    "df_rating_ordered[\"favorites\"] = tw_favs\n",
    "df_rating_ordered[\"Twitter_favorites_scaled\"] = (df_rating_ordered[\"favorites\"] - mean_fav) / std_fav\n",
    "\n",
    "df_rating_ordered = df_rating_ordered.reset_index(drop=True)\n",
    "df_rating_ordered.head()"
   ]
  },
  {
   "cell_type": "code",
   "execution_count": 42,
   "metadata": {},
   "outputs": [
    {
     "data": {
      "text/html": [
       "<div>\n",
       "<style scoped>\n",
       "    .dataframe tbody tr th:only-of-type {\n",
       "        vertical-align: middle;\n",
       "    }\n",
       "\n",
       "    .dataframe tbody tr th {\n",
       "        vertical-align: top;\n",
       "    }\n",
       "\n",
       "    .dataframe thead th {\n",
       "        text-align: right;\n",
       "    }\n",
       "</style>\n",
       "<table border=\"1\" class=\"dataframe\">\n",
       "  <thead>\n",
       "    <tr style=\"text-align: right;\">\n",
       "      <th></th>\n",
       "      <th>business_id</th>\n",
       "      <th>stars</th>\n",
       "      <th>Yelp_ratings_scaled</th>\n",
       "      <th>favorites</th>\n",
       "      <th>Twitter_favorites_scaled</th>\n",
       "      <th>reviews</th>\n",
       "      <th>Yelp_reviews_scaled</th>\n",
       "    </tr>\n",
       "  </thead>\n",
       "  <tbody>\n",
       "    <tr>\n",
       "      <th>0</th>\n",
       "      <td>Xg5qEQiB-7L6kGJ5F4K3bQ</td>\n",
       "      <td>5.0</td>\n",
       "      <td>2.796711</td>\n",
       "      <td>318</td>\n",
       "      <td>-0.036553</td>\n",
       "      <td>1463</td>\n",
       "      <td>5.125970</td>\n",
       "    </tr>\n",
       "    <tr>\n",
       "      <th>1</th>\n",
       "      <td>faPVqws-x-5k2CQKDNtHxw</td>\n",
       "      <td>4.5</td>\n",
       "      <td>1.770395</td>\n",
       "      <td>1021</td>\n",
       "      <td>2.087615</td>\n",
       "      <td>2360</td>\n",
       "      <td>8.674330</td>\n",
       "    </tr>\n",
       "    <tr>\n",
       "      <th>2</th>\n",
       "      <td>0d0i0FaJq1GIeW1rS2D-5w</td>\n",
       "      <td>4.5</td>\n",
       "      <td>1.770395</td>\n",
       "      <td>474</td>\n",
       "      <td>0.434813</td>\n",
       "      <td>907</td>\n",
       "      <td>2.926541</td>\n",
       "    </tr>\n",
       "    <tr>\n",
       "      <th>3</th>\n",
       "      <td>2iTsRqUsPGRH1li1WVRvKQ</td>\n",
       "      <td>4.5</td>\n",
       "      <td>1.770395</td>\n",
       "      <td>394</td>\n",
       "      <td>0.193087</td>\n",
       "      <td>1586</td>\n",
       "      <td>5.612535</td>\n",
       "    </tr>\n",
       "    <tr>\n",
       "      <th>4</th>\n",
       "      <td>3BCsAgo_1i4xMuTyLKMLRQ</td>\n",
       "      <td>4.5</td>\n",
       "      <td>1.770395</td>\n",
       "      <td>613</td>\n",
       "      <td>0.854812</td>\n",
       "      <td>1741</td>\n",
       "      <td>6.225685</td>\n",
       "    </tr>\n",
       "  </tbody>\n",
       "</table>\n",
       "</div>"
      ],
      "text/plain": [
       "              business_id  stars  Yelp_ratings_scaled  favorites  \\\n",
       "0  Xg5qEQiB-7L6kGJ5F4K3bQ    5.0             2.796711        318   \n",
       "1  faPVqws-x-5k2CQKDNtHxw    4.5             1.770395       1021   \n",
       "2  0d0i0FaJq1GIeW1rS2D-5w    4.5             1.770395        474   \n",
       "3  2iTsRqUsPGRH1li1WVRvKQ    4.5             1.770395        394   \n",
       "4  3BCsAgo_1i4xMuTyLKMLRQ    4.5             1.770395        613   \n",
       "\n",
       "   Twitter_favorites_scaled  reviews  Yelp_reviews_scaled  \n",
       "0                 -0.036553     1463             5.125970  \n",
       "1                  2.087615     2360             8.674330  \n",
       "2                  0.434813      907             2.926541  \n",
       "3                  0.193087     1586             5.612535  \n",
       "4                  0.854812     1741             6.225685  "
      ]
     },
     "execution_count": 42,
     "metadata": {},
     "output_type": "execute_result"
    }
   ],
   "source": [
    "yp_rvws = []\n",
    "for bid in bid_ordered:\n",
    "    rvw = df_yelp.loc[df_yelp[\"business_id\"]==bid, \"review_count\"].tolist()[0]\n",
    "    yp_rvws.append(rvw)\n",
    "\n",
    "df_rating_ordered[\"reviews\"] = yp_rvws\n",
    "df_rating_ordered[\"Yelp_reviews_scaled\"] = (df_rating_ordered[\"reviews\"] - mean_rvw) / std_rvw\n",
    "df_rating_ordered.head()"
   ]
  },
  {
   "cell_type": "code",
   "execution_count": 43,
   "metadata": {},
   "outputs": [
    {
     "data": {
      "text/html": [
       "<div>\n",
       "<style scoped>\n",
       "    .dataframe tbody tr th:only-of-type {\n",
       "        vertical-align: middle;\n",
       "    }\n",
       "\n",
       "    .dataframe tbody tr th {\n",
       "        vertical-align: top;\n",
       "    }\n",
       "\n",
       "    .dataframe thead th {\n",
       "        text-align: right;\n",
       "    }\n",
       "</style>\n",
       "<table border=\"1\" class=\"dataframe\">\n",
       "  <thead>\n",
       "    <tr style=\"text-align: right;\">\n",
       "      <th></th>\n",
       "      <th>business_id</th>\n",
       "      <th>stars</th>\n",
       "      <th>Yelp_ratings_scaled</th>\n",
       "      <th>favorites</th>\n",
       "      <th>Twitter_favorites_scaled</th>\n",
       "      <th>reviews</th>\n",
       "      <th>Yelp_reviews_scaled</th>\n",
       "      <th>followers</th>\n",
       "      <th>Twitter_followers_scaled</th>\n",
       "    </tr>\n",
       "  </thead>\n",
       "  <tbody>\n",
       "    <tr>\n",
       "      <th>0</th>\n",
       "      <td>Xg5qEQiB-7L6kGJ5F4K3bQ</td>\n",
       "      <td>5.0</td>\n",
       "      <td>2.796711</td>\n",
       "      <td>318</td>\n",
       "      <td>-0.036553</td>\n",
       "      <td>1463</td>\n",
       "      <td>5.125970</td>\n",
       "      <td>1720</td>\n",
       "      <td>-0.442303</td>\n",
       "    </tr>\n",
       "    <tr>\n",
       "      <th>1</th>\n",
       "      <td>faPVqws-x-5k2CQKDNtHxw</td>\n",
       "      <td>4.5</td>\n",
       "      <td>1.770395</td>\n",
       "      <td>1021</td>\n",
       "      <td>2.087615</td>\n",
       "      <td>2360</td>\n",
       "      <td>8.674330</td>\n",
       "      <td>5450</td>\n",
       "      <td>-0.162269</td>\n",
       "    </tr>\n",
       "    <tr>\n",
       "      <th>2</th>\n",
       "      <td>0d0i0FaJq1GIeW1rS2D-5w</td>\n",
       "      <td>4.5</td>\n",
       "      <td>1.770395</td>\n",
       "      <td>474</td>\n",
       "      <td>0.434813</td>\n",
       "      <td>907</td>\n",
       "      <td>2.926541</td>\n",
       "      <td>2873</td>\n",
       "      <td>-0.355740</td>\n",
       "    </tr>\n",
       "    <tr>\n",
       "      <th>3</th>\n",
       "      <td>2iTsRqUsPGRH1li1WVRvKQ</td>\n",
       "      <td>4.5</td>\n",
       "      <td>1.770395</td>\n",
       "      <td>394</td>\n",
       "      <td>0.193087</td>\n",
       "      <td>1586</td>\n",
       "      <td>5.612535</td>\n",
       "      <td>1335</td>\n",
       "      <td>-0.471207</td>\n",
       "    </tr>\n",
       "    <tr>\n",
       "      <th>4</th>\n",
       "      <td>3BCsAgo_1i4xMuTyLKMLRQ</td>\n",
       "      <td>4.5</td>\n",
       "      <td>1.770395</td>\n",
       "      <td>613</td>\n",
       "      <td>0.854812</td>\n",
       "      <td>1741</td>\n",
       "      <td>6.225685</td>\n",
       "      <td>3423</td>\n",
       "      <td>-0.314448</td>\n",
       "    </tr>\n",
       "  </tbody>\n",
       "</table>\n",
       "</div>"
      ],
      "text/plain": [
       "              business_id  stars  Yelp_ratings_scaled  favorites  \\\n",
       "0  Xg5qEQiB-7L6kGJ5F4K3bQ    5.0             2.796711        318   \n",
       "1  faPVqws-x-5k2CQKDNtHxw    4.5             1.770395       1021   \n",
       "2  0d0i0FaJq1GIeW1rS2D-5w    4.5             1.770395        474   \n",
       "3  2iTsRqUsPGRH1li1WVRvKQ    4.5             1.770395        394   \n",
       "4  3BCsAgo_1i4xMuTyLKMLRQ    4.5             1.770395        613   \n",
       "\n",
       "   Twitter_favorites_scaled  reviews  Yelp_reviews_scaled  followers  \\\n",
       "0                 -0.036553     1463             5.125970       1720   \n",
       "1                  2.087615     2360             8.674330       5450   \n",
       "2                  0.434813      907             2.926541       2873   \n",
       "3                  0.193087     1586             5.612535       1335   \n",
       "4                  0.854812     1741             6.225685       3423   \n",
       "\n",
       "   Twitter_followers_scaled  \n",
       "0                 -0.442303  \n",
       "1                 -0.162269  \n",
       "2                 -0.355740  \n",
       "3                 -0.471207  \n",
       "4                 -0.314448  "
      ]
     },
     "execution_count": 43,
     "metadata": {},
     "output_type": "execute_result"
    }
   ],
   "source": [
    "tw_flw = []\n",
    "for bid in bid_ordered:\n",
    "    flw = df_users.loc[df_users[\"Business_id\"]==bid, \"followers_count\"].tolist()[0]\n",
    "    tw_flw.append(flw)\n",
    "\n",
    "df_rating_ordered[\"followers\"] = tw_flw\n",
    "df_rating_ordered[\"Twitter_followers_scaled\"] = (df_rating_ordered[\"followers\"] - mean_flw) / std_flw\n",
    "df_rating_ordered.head()"
   ]
  },
  {
   "cell_type": "code",
   "execution_count": 44,
   "metadata": {},
   "outputs": [
    {
     "data": {
      "text/plain": [
       "80"
      ]
     },
     "execution_count": 44,
     "metadata": {},
     "output_type": "execute_result"
    }
   ],
   "source": [
    "len(df_rating_ordered)"
   ]
  },
  {
   "cell_type": "code",
   "execution_count": 45,
   "metadata": {},
   "outputs": [
    {
     "data": {
      "text/plain": [
       "57"
      ]
     },
     "execution_count": 45,
     "metadata": {},
     "output_type": "execute_result"
    }
   ],
   "source": [
    "for index, row in df_rating_ordered.iterrows():\n",
    "    bid = row[\"business_id\"]\n",
    "    if (bid in del_id_flw) or (bid in del_id_fav) or (bid in del_id_rvw):\n",
    "        #df_rating_ordered = df_rating_ordered.drop(df_rating_ordered.index[index])\n",
    "        df_rating_ordered.iloc[index, 0] = np.nan\n",
    "\n",
    "df_rating_ordered = df_rating_ordered.dropna(how='any')\n",
    "len(df_rating_ordered)"
   ]
  },
  {
   "cell_type": "code",
   "execution_count": 46,
   "metadata": {},
   "outputs": [
    {
     "data": {
      "text/html": [
       "<div>\n",
       "<style scoped>\n",
       "    .dataframe tbody tr th:only-of-type {\n",
       "        vertical-align: middle;\n",
       "    }\n",
       "\n",
       "    .dataframe tbody tr th {\n",
       "        vertical-align: top;\n",
       "    }\n",
       "\n",
       "    .dataframe thead th {\n",
       "        text-align: right;\n",
       "    }\n",
       "</style>\n",
       "<table border=\"1\" class=\"dataframe\">\n",
       "  <thead>\n",
       "    <tr style=\"text-align: right;\">\n",
       "      <th></th>\n",
       "      <th>business_id</th>\n",
       "      <th>stars</th>\n",
       "      <th>Yelp_ratings_scaled</th>\n",
       "      <th>favorites</th>\n",
       "      <th>Twitter_favorites_scaled</th>\n",
       "      <th>reviews</th>\n",
       "      <th>Yelp_reviews_scaled</th>\n",
       "      <th>followers</th>\n",
       "      <th>Twitter_followers_scaled</th>\n",
       "    </tr>\n",
       "  </thead>\n",
       "  <tbody>\n",
       "    <tr>\n",
       "      <th>0</th>\n",
       "      <td>0d0i0FaJq1GIeW1rS2D-5w</td>\n",
       "      <td>4.5</td>\n",
       "      <td>1.770395</td>\n",
       "      <td>474</td>\n",
       "      <td>0.434813</td>\n",
       "      <td>907</td>\n",
       "      <td>2.926541</td>\n",
       "      <td>2873</td>\n",
       "      <td>-0.355740</td>\n",
       "    </tr>\n",
       "    <tr>\n",
       "      <th>1</th>\n",
       "      <td>qdHFUvFhZjvNie3cZiJb9w</td>\n",
       "      <td>4.0</td>\n",
       "      <td>0.744079</td>\n",
       "      <td>31</td>\n",
       "      <td>-0.903745</td>\n",
       "      <td>461</td>\n",
       "      <td>1.162251</td>\n",
       "      <td>3596</td>\n",
       "      <td>-0.301460</td>\n",
       "    </tr>\n",
       "    <tr>\n",
       "      <th>2</th>\n",
       "      <td>_v7lMUtdd6WlgKUEBLA_VA</td>\n",
       "      <td>4.0</td>\n",
       "      <td>0.744079</td>\n",
       "      <td>100</td>\n",
       "      <td>-0.695256</td>\n",
       "      <td>70</td>\n",
       "      <td>-0.384470</td>\n",
       "      <td>244</td>\n",
       "      <td>-0.553115</td>\n",
       "    </tr>\n",
       "    <tr>\n",
       "      <th>3</th>\n",
       "      <td>QcUKFdAWxFq42-zE96cS-A</td>\n",
       "      <td>4.0</td>\n",
       "      <td>0.744079</td>\n",
       "      <td>333</td>\n",
       "      <td>0.008771</td>\n",
       "      <td>30</td>\n",
       "      <td>-0.542702</td>\n",
       "      <td>7059</td>\n",
       "      <td>-0.041472</td>\n",
       "    </tr>\n",
       "    <tr>\n",
       "      <th>4</th>\n",
       "      <td>lwxYmWqjmEZ0ukCsXC9Pfg</td>\n",
       "      <td>4.0</td>\n",
       "      <td>0.744079</td>\n",
       "      <td>456</td>\n",
       "      <td>0.380425</td>\n",
       "      <td>517</td>\n",
       "      <td>1.383776</td>\n",
       "      <td>28978</td>\n",
       "      <td>1.604119</td>\n",
       "    </tr>\n",
       "  </tbody>\n",
       "</table>\n",
       "</div>"
      ],
      "text/plain": [
       "              business_id  stars  Yelp_ratings_scaled  favorites  \\\n",
       "0  0d0i0FaJq1GIeW1rS2D-5w    4.5             1.770395        474   \n",
       "1  qdHFUvFhZjvNie3cZiJb9w    4.0             0.744079         31   \n",
       "2  _v7lMUtdd6WlgKUEBLA_VA    4.0             0.744079        100   \n",
       "3  QcUKFdAWxFq42-zE96cS-A    4.0             0.744079        333   \n",
       "4  lwxYmWqjmEZ0ukCsXC9Pfg    4.0             0.744079        456   \n",
       "\n",
       "   Twitter_favorites_scaled  reviews  Yelp_reviews_scaled  followers  \\\n",
       "0                  0.434813      907             2.926541       2873   \n",
       "1                 -0.903745      461             1.162251       3596   \n",
       "2                 -0.695256       70            -0.384470        244   \n",
       "3                  0.008771       30            -0.542702       7059   \n",
       "4                  0.380425      517             1.383776      28978   \n",
       "\n",
       "   Twitter_followers_scaled  \n",
       "0                 -0.355740  \n",
       "1                 -0.301460  \n",
       "2                 -0.553115  \n",
       "3                 -0.041472  \n",
       "4                  1.604119  "
      ]
     },
     "execution_count": 46,
     "metadata": {},
     "output_type": "execute_result"
    }
   ],
   "source": [
    "df_rating_ordered = df_rating_ordered.reset_index(drop=True)\n",
    "df_rating_ordered.head()"
   ]
  },
  {
   "cell_type": "code",
   "execution_count": null,
   "metadata": {},
   "outputs": [],
   "source": []
  },
  {
   "cell_type": "markdown",
   "metadata": {},
   "source": [
    "# Yelp.Rating v. Twitter.Favorites"
   ]
  },
  {
   "cell_type": "code",
   "execution_count": 47,
   "metadata": {},
   "outputs": [
    {
     "data": {
      "image/png": "[encoded data removed]",
      "text/plain": [
       "<Figure size 1080x360 with 1 Axes>"
      ]
     },
     "metadata": {},
     "output_type": "display_data"
    }
   ],
   "source": [
    "x_axis = np.arange(1, len(df_rating_ordered[\"business_id\"])+1, 1)\n",
    "\n",
    "plt.figure(figsize=(15,5))\n",
    "plt.scatter(x_axis, df_rating_ordered[\"Yelp_ratings_scaled\"],\n",
    "            marker=\"s\", color=\"red\")\n",
    "plt.scatter(x_axis, df_rating_ordered[\"Twitter_favorites_scaled\"],\n",
    "            marker=\"o\", color=\"cyan\")\n",
    "\n",
    "plt.title(\"Yelp Rating (red) v. Twitter Favorites (cyan)\")\n",
    "plt.xlabel(\"Business_ID\")\n",
    "plt.ylabel(\"Scaled Score\")\n",
    "plt.ylim(-2, 2)\n",
    "\n",
    "plt.savefig(data_path+\"y.rt_t.fv.png\")\n",
    "plt.show()"
   ]
  },
  {
   "cell_type": "code",
   "execution_count": 48,
   "metadata": {},
   "outputs": [
    {
     "data": {
      "text/plain": [
       "94.63845088300191"
      ]
     },
     "execution_count": 48,
     "metadata": {},
     "output_type": "execute_result"
    }
   ],
   "source": [
    "sum((df_rating_ordered[\"Yelp_ratings_scaled\"] - df_rating_ordered[\"Twitter_favorites_scaled\"])**2)"
   ]
  },
  {
   "cell_type": "code",
   "execution_count": 49,
   "metadata": {},
   "outputs": [
    {
     "data": {
      "text/plain": [
       "0.017543859649122806"
      ]
     },
     "execution_count": 49,
     "metadata": {},
     "output_type": "execute_result"
    }
   ],
   "source": [
    "count=0\n",
    "for idx in x_axis:\n",
    "    if np.abs(df_rating_ordered[\"Yelp_ratings_scaled\"][idx-1] - \n",
    "              df_rating_ordered[\"Twitter_favorites_scaled\"][idx-1]) < 0.2:\n",
    "        count+=1\n",
    "count/len(x_axis)"
   ]
  },
  {
   "cell_type": "code",
   "execution_count": 50,
   "metadata": {},
   "outputs": [
    {
     "data": {
      "text/plain": [
       "0.24561403508771928"
      ]
     },
     "execution_count": 50,
     "metadata": {},
     "output_type": "execute_result"
    }
   ],
   "source": [
    "count=0\n",
    "for idx in x_axis:\n",
    "    if np.abs(df_rating_ordered[\"Yelp_ratings_scaled\"][idx-1] - \n",
    "              df_rating_ordered[\"Twitter_favorites_scaled\"][idx-1]) < 0.5:\n",
    "        count+=1\n",
    "count/len(x_axis)"
   ]
  },
  {
   "cell_type": "markdown",
   "metadata": {},
   "source": [
    "# Yelp.Rating v. Twitter.Followers"
   ]
  },
  {
   "cell_type": "code",
   "execution_count": 51,
   "metadata": {},
   "outputs": [
    {
     "data": {
      "image/png": "[encoded data removed]",
      "text/plain": [
       "<Figure size 1080x360 with 1 Axes>"
      ]
     },
     "metadata": {},
     "output_type": "display_data"
    }
   ],
   "source": [
    "plt.figure(figsize=(15,5))\n",
    "plt.scatter(x_axis, df_rating_ordered[\"Yelp_ratings_scaled\"],\n",
    "            marker=\"s\", color=\"red\")\n",
    "plt.scatter(x_axis, df_rating_ordered[\"Twitter_followers_scaled\"],\n",
    "            marker=\"o\", color=\"blue\")\n",
    "\n",
    "plt.title(\"Yelp Rating (red) v. Twitter Followers (blue)\")\n",
    "plt.xlabel(\"Business_ID\")\n",
    "plt.ylabel(\"Scaled Score\")\n",
    "plt.ylim(-2, 2)\n",
    "\n",
    "plt.savefig(data_path+\"y.rt_t.fw.png\")\n",
    "plt.show()"
   ]
  },
  {
   "cell_type": "code",
   "execution_count": 52,
   "metadata": {},
   "outputs": [
    {
     "data": {
      "text/plain": [
       "84.52124514469243"
      ]
     },
     "execution_count": 52,
     "metadata": {},
     "output_type": "execute_result"
    }
   ],
   "source": [
    "sum((df_rating_ordered[\"Yelp_ratings_scaled\"] - df_rating_ordered[\"Twitter_followers_scaled\"])**2)"
   ]
  },
  {
   "cell_type": "code",
   "execution_count": 53,
   "metadata": {},
   "outputs": [
    {
     "data": {
      "text/plain": [
       "0.08771929824561403"
      ]
     },
     "execution_count": 53,
     "metadata": {},
     "output_type": "execute_result"
    }
   ],
   "source": [
    "count=0\n",
    "for idx in x_axis:\n",
    "    if np.abs(df_rating_ordered[\"Yelp_ratings_scaled\"][idx-1] - \n",
    "              df_rating_ordered[\"Twitter_followers_scaled\"][idx-1]) < 0.2:\n",
    "        count+=1\n",
    "count/len(x_axis)"
   ]
  },
  {
   "cell_type": "code",
   "execution_count": 54,
   "metadata": {},
   "outputs": [
    {
     "data": {
      "text/plain": [
       "0.3333333333333333"
      ]
     },
     "execution_count": 54,
     "metadata": {},
     "output_type": "execute_result"
    }
   ],
   "source": [
    "count=0\n",
    "for idx in x_axis:\n",
    "    if np.abs(df_rating_ordered[\"Yelp_ratings_scaled\"][idx-1] - \n",
    "              df_rating_ordered[\"Twitter_followers_scaled\"][idx-1]) < 0.5:\n",
    "        count+=1\n",
    "count/len(x_axis)"
   ]
  },
  {
   "cell_type": "markdown",
   "metadata": {},
   "source": [
    "# Yelp.Ratings v. Yelp.Reviews"
   ]
  },
  {
   "cell_type": "code",
   "execution_count": 55,
   "metadata": {},
   "outputs": [
    {
     "data": {
      "image/png": "[encoded data removed]",
      "text/plain": [
       "<Figure size 1080x360 with 1 Axes>"
      ]
     },
     "metadata": {},
     "output_type": "display_data"
    }
   ],
   "source": [
    "plt.figure(figsize=(15,5))\n",
    "plt.scatter(x_axis, df_rating_ordered[\"Yelp_ratings_scaled\"],\n",
    "            marker=\"s\", color=\"red\")\n",
    "plt.scatter(x_axis, df_rating_ordered[\"Yelp_reviews_scaled\"],\n",
    "            marker=\"s\", color=\"orange\")\n",
    "\n",
    "plt.title(\"Yelp Rating (red) v. Yelp Reviews (orange)\")\n",
    "plt.xlabel(\"Business_ID\")\n",
    "plt.ylabel(\"Scaled Score\")\n",
    "plt.ylim(-2, 4)\n",
    "\n",
    "plt.savefig(data_path+\"y.rt_y.rv.png\")\n",
    "plt.show()"
   ]
  },
  {
   "cell_type": "code",
   "execution_count": 56,
   "metadata": {},
   "outputs": [
    {
     "data": {
      "text/plain": [
       "41.04939532500863"
      ]
     },
     "execution_count": 56,
     "metadata": {},
     "output_type": "execute_result"
    }
   ],
   "source": [
    "sum((df_rating_ordered[\"Yelp_ratings_scaled\"] - df_rating_ordered[\"Yelp_reviews_scaled\"])**2)"
   ]
  },
  {
   "cell_type": "code",
   "execution_count": 57,
   "metadata": {},
   "outputs": [
    {
     "data": {
      "text/plain": [
       "0.14035087719298245"
      ]
     },
     "execution_count": 57,
     "metadata": {},
     "output_type": "execute_result"
    }
   ],
   "source": [
    "count=0\n",
    "for idx in x_axis:\n",
    "    if np.abs(df_rating_ordered[\"Yelp_ratings_scaled\"][idx-1] - \n",
    "              df_rating_ordered[\"Yelp_reviews_scaled\"][idx-1]) < 0.2:\n",
    "        count+=1\n",
    "count/len(x_axis)"
   ]
  },
  {
   "cell_type": "code",
   "execution_count": 58,
   "metadata": {},
   "outputs": [
    {
     "data": {
      "text/plain": [
       "0.40350877192982454"
      ]
     },
     "execution_count": 58,
     "metadata": {},
     "output_type": "execute_result"
    }
   ],
   "source": [
    "count=0\n",
    "for idx in x_axis:\n",
    "    if np.abs(df_rating_ordered[\"Yelp_ratings_scaled\"][idx-1] - \n",
    "              df_rating_ordered[\"Yelp_reviews_scaled\"][idx-1]) < 0.5:\n",
    "        count+=1\n",
    "count/len(x_axis)"
   ]
  },
  {
   "cell_type": "markdown",
   "metadata": {},
   "source": [
    "# Yelp.Reviews v. Twitter.Followers"
   ]
  },
  {
   "cell_type": "code",
   "execution_count": 59,
   "metadata": {},
   "outputs": [
    {
     "data": {
      "image/png": "[encoded data removed]",
      "text/plain": [
       "<Figure size 1080x360 with 1 Axes>"
      ]
     },
     "metadata": {},
     "output_type": "display_data"
    }
   ],
   "source": [
    "plt.figure(figsize=(15,5))\n",
    "plt.scatter(x_axis, df_rating_ordered[\"Yelp_reviews_scaled\"],\n",
    "            marker=\"s\", color=\"orange\")\n",
    "plt.scatter(x_axis, df_rating_ordered[\"Twitter_followers_scaled\"],\n",
    "            marker=\"o\", color=\"blue\")\n",
    "\n",
    "plt.title(\"Yelp Reviews (orange) v. Twitter Followers (blue)\")\n",
    "plt.xlabel(\"Business_ID\")\n",
    "plt.ylabel(\"Scaled Score\")\n",
    "plt.ylim(-2, 4)\n",
    "\n",
    "plt.savefig(data_path+\"y.rv_t.fw.png\")\n",
    "plt.show()"
   ]
  },
  {
   "cell_type": "code",
   "execution_count": 60,
   "metadata": {},
   "outputs": [
    {
     "data": {
      "text/plain": [
       "96.85161688903123"
      ]
     },
     "execution_count": 60,
     "metadata": {},
     "output_type": "execute_result"
    }
   ],
   "source": [
    "sum((df_rating_ordered[\"Yelp_reviews_scaled\"] - df_rating_ordered[\"Twitter_followers_scaled\"])**2)"
   ]
  },
  {
   "cell_type": "code",
   "execution_count": 61,
   "metadata": {},
   "outputs": [
    {
     "data": {
      "text/plain": [
       "0.38596491228070173"
      ]
     },
     "execution_count": 61,
     "metadata": {},
     "output_type": "execute_result"
    }
   ],
   "source": [
    "count=0\n",
    "for idx in x_axis:\n",
    "    if np.abs(df_rating_ordered[\"Yelp_reviews_scaled\"][idx-1] - \n",
    "              df_rating_ordered[\"Twitter_followers_scaled\"][idx-1]) < 0.2:\n",
    "        count+=1\n",
    "count/len(x_axis)"
   ]
  },
  {
   "cell_type": "code",
   "execution_count": 62,
   "metadata": {},
   "outputs": [
    {
     "data": {
      "text/plain": [
       "0.5789473684210527"
      ]
     },
     "execution_count": 62,
     "metadata": {},
     "output_type": "execute_result"
    }
   ],
   "source": [
    "count=0\n",
    "for idx in x_axis:\n",
    "    if np.abs(df_rating_ordered[\"Yelp_reviews_scaled\"][idx-1] - \n",
    "              df_rating_ordered[\"Twitter_followers_scaled\"][idx-1]) < 0.5:\n",
    "        count+=1\n",
    "count/len(x_axis)    "
   ]
  },
  {
   "cell_type": "markdown",
   "metadata": {},
   "source": [
    "# Yelp.Reviews v. Twitter.Favorites"
   ]
  },
  {
   "cell_type": "code",
   "execution_count": 63,
   "metadata": {},
   "outputs": [
    {
     "data": {
      "image/png": "[encoded data removed]",
      "text/plain": [
       "<Figure size 1080x360 with 1 Axes>"
      ]
     },
     "metadata": {},
     "output_type": "display_data"
    }
   ],
   "source": [
    "plt.figure(figsize=(15,5))\n",
    "plt.scatter(x_axis, df_rating_ordered[\"Yelp_reviews_scaled\"],\n",
    "            marker=\"s\", color=\"orange\")\n",
    "plt.scatter(x_axis, df_rating_ordered[\"Twitter_favorites_scaled\"],\n",
    "            marker=\"o\", color=\"cyan\")\n",
    "\n",
    "plt.title(\"Yelp Reviews (orange) v. Twitter Favorites (cyan)\")\n",
    "plt.xlabel(\"Business_ID\")\n",
    "plt.ylabel(\"Scaled Score\")\n",
    "plt.ylim(-2, 4)\n",
    "\n",
    "plt.savefig(data_path+\"y.rv_t.fv.png\")\n",
    "plt.show()"
   ]
  },
  {
   "cell_type": "code",
   "execution_count": 64,
   "metadata": {},
   "outputs": [
    {
     "data": {
      "text/plain": [
       "96.43082540094927"
      ]
     },
     "execution_count": 64,
     "metadata": {},
     "output_type": "execute_result"
    }
   ],
   "source": [
    "sum((df_rating_ordered[\"Yelp_reviews_scaled\"] - df_rating_ordered[\"Twitter_favorites_scaled\"])**2)"
   ]
  },
  {
   "cell_type": "code",
   "execution_count": 65,
   "metadata": {},
   "outputs": [
    {
     "data": {
      "text/plain": [
       "0.12280701754385964"
      ]
     },
     "execution_count": 65,
     "metadata": {},
     "output_type": "execute_result"
    }
   ],
   "source": [
    "count=0\n",
    "for idx in x_axis:\n",
    "    if np.abs(df_rating_ordered[\"Yelp_reviews_scaled\"][idx-1] - \n",
    "              df_rating_ordered[\"Twitter_favorites_scaled\"][idx-1]) < 0.2:\n",
    "        count+=1\n",
    "count/len(x_axis)    "
   ]
  },
  {
   "cell_type": "code",
   "execution_count": 66,
   "metadata": {},
   "outputs": [
    {
     "data": {
      "text/plain": [
       "0.45614035087719296"
      ]
     },
     "execution_count": 66,
     "metadata": {},
     "output_type": "execute_result"
    }
   ],
   "source": [
    "count=0\n",
    "for idx in x_axis:\n",
    "    if np.abs(df_rating_ordered[\"Yelp_reviews_scaled\"][idx-1] - \n",
    "              df_rating_ordered[\"Twitter_favorites_scaled\"][idx-1]) < 0.5:\n",
    "        count+=1\n",
    "count/len(x_axis)    "
   ]
  },
  {
   "cell_type": "markdown",
   "metadata": {},
   "source": [
    "# Twitter.Followers v. Twitter.Favorites"
   ]
  },
  {
   "cell_type": "code",
   "execution_count": 67,
   "metadata": {},
   "outputs": [
    {
     "data": {
      "image/png": "[encoded data removed]",
      "text/plain": [
       "<Figure size 1080x360 with 1 Axes>"
      ]
     },
     "metadata": {},
     "output_type": "display_data"
    }
   ],
   "source": [
    "plt.figure(figsize=(15,5))\n",
    "plt.scatter(x_axis, df_rating_ordered[\"Twitter_followers_scaled\"],\n",
    "            marker=\"o\", color=\"blue\")\n",
    "plt.scatter(x_axis, df_rating_ordered[\"Twitter_favorites_scaled\"],\n",
    "            marker=\"o\", color=\"cyan\")\n",
    "\n",
    "plt.title(\"Twitter Followers (orange) v. Twitter Favorites (cyan)\")\n",
    "plt.xlabel(\"Business_ID\")\n",
    "plt.ylabel(\"Scaled Score\")\n",
    "plt.ylim(-2, 4)\n",
    "\n",
    "plt.savefig(data_path+\"t.fw_t.fv.png\")\n",
    "plt.show()"
   ]
  },
  {
   "cell_type": "code",
   "execution_count": 68,
   "metadata": {},
   "outputs": [
    {
     "data": {
      "text/plain": [
       "52.784220951420785"
      ]
     },
     "execution_count": 68,
     "metadata": {},
     "output_type": "execute_result"
    }
   ],
   "source": [
    "sum((df_rating_ordered[\"Twitter_followers_scaled\"] - df_rating_ordered[\"Twitter_favorites_scaled\"])**2)"
   ]
  },
  {
   "cell_type": "code",
   "execution_count": 69,
   "metadata": {},
   "outputs": [
    {
     "data": {
      "text/plain": [
       "0.19298245614035087"
      ]
     },
     "execution_count": 69,
     "metadata": {},
     "output_type": "execute_result"
    }
   ],
   "source": [
    "count=0\n",
    "for idx in x_axis:\n",
    "    if np.abs(df_rating_ordered[\"Twitter_followers_scaled\"][idx-1] - \n",
    "              df_rating_ordered[\"Twitter_favorites_scaled\"][idx-1]) < 0.2:\n",
    "        count+=1\n",
    "count/len(x_axis)"
   ]
  },
  {
   "cell_type": "code",
   "execution_count": 70,
   "metadata": {},
   "outputs": [
    {
     "data": {
      "text/plain": [
       "0.6140350877192983"
      ]
     },
     "execution_count": 70,
     "metadata": {},
     "output_type": "execute_result"
    }
   ],
   "source": [
    "count=0\n",
    "for idx in x_axis:\n",
    "    if np.abs(df_rating_ordered[\"Twitter_followers_scaled\"][idx-1] - \n",
    "              df_rating_ordered[\"Twitter_favorites_scaled\"][idx-1]) < 0.5:\n",
    "        count+=1\n",
    "count/len(x_axis)"
   ]
  },
  {
   "cell_type": "markdown",
   "metadata": {},
   "source": [
    "# Yelp.Rating v. Twitter.Followers & Favorites"
   ]
  },
  {
   "cell_type": "code",
   "execution_count": 71,
   "metadata": {},
   "outputs": [
    {
     "data": {
      "image/png": "[encoded data removed]",
      "text/plain": [
       "<Figure size 1080x360 with 1 Axes>"
      ]
     },
     "metadata": {},
     "output_type": "display_data"
    }
   ],
   "source": [
    "plt.figure(figsize=(15,5))\n",
    "plt.scatter(x_axis, df_rating_ordered[\"Yelp_ratings_scaled\"],\n",
    "            marker=\"o\", color=\"red\")\n",
    "\n",
    "plt.scatter(x_axis, df_rating_ordered[\"Twitter_followers_scaled\"],\n",
    "            marker=\"o\", color=\"blue\")\n",
    "plt.scatter(x_axis, df_rating_ordered[\"Twitter_favorites_scaled\"],\n",
    "            marker=\"o\", color=\"cyan\")\n",
    "\n",
    "plt.title(\"Yelp Rating (red) v. Twitter Followers (orange) & Favorites (cyan)\")\n",
    "plt.xlabel(\"Business_ID\")\n",
    "plt.ylabel(\"Scaled Score\")\n",
    "plt.ylim(-2, 4)\n",
    "\n",
    "plt.savefig(data_path+\"y.rt_t.fwfv.png\")\n",
    "plt.show()"
   ]
  },
  {
   "cell_type": "code",
   "execution_count": null,
   "metadata": {},
   "outputs": [],
   "source": []
  },
  {
   "cell_type": "code",
   "execution_count": null,
   "metadata": {},
   "outputs": [],
   "source": []
  },
  {
   "cell_type": "code",
   "execution_count": null,
   "metadata": {},
   "outputs": [],
   "source": []
  },
  {
   "cell_type": "code",
   "execution_count": 72,
   "metadata": {},
   "outputs": [],
   "source": [
    "list3 = [\"4JNXUYY8wbaaDmk3BPzlWw\", \"f4x1YBxkLrZg652xt2KR5g\", \"faPVqws-x-5k2CQKDNtHxw\"]\n",
    "for a in list3:\n",
    "    if a in df_rating_ordered[\"business_id\"].tolist():\n",
    "        print(a)"
   ]
  },
  {
   "cell_type": "code",
   "execution_count": null,
   "metadata": {},
   "outputs": [],
   "source": []
  },
  {
   "cell_type": "code",
   "execution_count": null,
   "metadata": {},
   "outputs": [],
   "source": []
  }
 ],
 "metadata": {
  "kernelspec": {
   "display_name": "Python 3",
   "language": "python",
   "name": "python3"
  },
  "language_info": {
   "codemirror_mode": {
    "name": "ipython",
    "version": 3
   },
   "file_extension": ".py",
   "mimetype": "text/x-python",
   "name": "python",
   "nbconvert_exporter": "python",
   "pygments_lexer": "ipython3",
   "version": "3.6.6"
  }
 },
 "nbformat": 4,
 "nbformat_minor": 2
}
