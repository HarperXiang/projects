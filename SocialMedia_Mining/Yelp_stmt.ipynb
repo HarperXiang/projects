{
 "cells": [
  {
   "cell_type": "code",
   "execution_count": 1,
   "metadata": {},
   "outputs": [],
   "source": [
    "import pandas as pd"
   ]
  },
  {
   "cell_type": "code",
   "execution_count": 9,
   "metadata": {},
   "outputs": [],
   "source": [
    "df_review = pd.read_csv(\"../data/yelp_review_restaurant.csv\", sep=';')"
   ]
  },
  {
   "cell_type": "code",
   "execution_count": 10,
   "metadata": {},
   "outputs": [
    {
     "data": {
      "text/html": [
       "<div>\n",
       "<style scoped>\n",
       "    .dataframe tbody tr th:only-of-type {\n",
       "        vertical-align: middle;\n",
       "    }\n",
       "\n",
       "    .dataframe tbody tr th {\n",
       "        vertical-align: top;\n",
       "    }\n",
       "\n",
       "    .dataframe thead th {\n",
       "        text-align: right;\n",
       "    }\n",
       "</style>\n",
       "<table border=\"1\" class=\"dataframe\">\n",
       "  <thead>\n",
       "    <tr style=\"text-align: right;\">\n",
       "      <th></th>\n",
       "      <th>review_id</th>\n",
       "      <th>user_id</th>\n",
       "      <th>business_id</th>\n",
       "      <th>stars</th>\n",
       "      <th>date</th>\n",
       "      <th>text</th>\n",
       "      <th>useful</th>\n",
       "      <th>funny</th>\n",
       "      <th>cool</th>\n",
       "    </tr>\n",
       "  </thead>\n",
       "  <tbody>\n",
       "    <tr>\n",
       "      <th>0</th>\n",
       "      <td>--042zgIbstRgNwP5sUX8w</td>\n",
       "      <td>rP52cGbn2tYgFml1rin8gQ</td>\n",
       "      <td>F73T-N5lRNL2Gcpg0Q4KKw</td>\n",
       "      <td>5</td>\n",
       "      <td>2017-07-27</td>\n",
       "      <td>The food here is fantastic and the service is ...</td>\n",
       "      <td>0</td>\n",
       "      <td>0</td>\n",
       "      <td>0</td>\n",
       "    </tr>\n",
       "    <tr>\n",
       "      <th>1</th>\n",
       "      <td>--0cG7333uMi-sr_3tWhGQ</td>\n",
       "      <td>0sDgdeKJPGr_2WioaXjBsQ</td>\n",
       "      <td>tqdL7aLotkmKIMHCczo3Ew</td>\n",
       "      <td>3</td>\n",
       "      <td>2017-10-21</td>\n",
       "      <td>Average B-dubs but better than most around NEO...</td>\n",
       "      <td>0</td>\n",
       "      <td>0</td>\n",
       "      <td>0</td>\n",
       "    </tr>\n",
       "    <tr>\n",
       "      <th>2</th>\n",
       "      <td>--0Ro9C6I9ZB7vmL4ZwDrg</td>\n",
       "      <td>ryZDoDERFu8pvKNrL0r2gQ</td>\n",
       "      <td>OETh78qcgDltvHULowwhJg</td>\n",
       "      <td>5</td>\n",
       "      <td>2017-07-22</td>\n",
       "      <td>My husband and I went here on our honeymoon to...</td>\n",
       "      <td>0</td>\n",
       "      <td>0</td>\n",
       "      <td>0</td>\n",
       "    </tr>\n",
       "    <tr>\n",
       "      <th>3</th>\n",
       "      <td>--0ujpOmgEbOXQ1M2hVdnw</td>\n",
       "      <td>jyfOcCWGvbhNwyKua7f4VQ</td>\n",
       "      <td>4JNXUYY8wbaaDmk3BPzlWw</td>\n",
       "      <td>5</td>\n",
       "      <td>2017-07-28</td>\n",
       "      <td>Most romantic spot in LV. Great for people wat...</td>\n",
       "      <td>0</td>\n",
       "      <td>0</td>\n",
       "      <td>0</td>\n",
       "    </tr>\n",
       "    <tr>\n",
       "      <th>4</th>\n",
       "      <td>--1gPZh1wTnh9FARO5Nw3Q</td>\n",
       "      <td>qDCMUmZktIft-UQwuuP6yQ</td>\n",
       "      <td>-PbCfkydmvuNcG9VG_ixkQ</td>\n",
       "      <td>1</td>\n",
       "      <td>2017-07-28</td>\n",
       "      <td>Well, I am back.\\nAnd it will definitely be my...</td>\n",
       "      <td>1</td>\n",
       "      <td>0</td>\n",
       "      <td>0</td>\n",
       "    </tr>\n",
       "  </tbody>\n",
       "</table>\n",
       "</div>"
      ],
      "text/plain": [
       "                review_id                 user_id             business_id  \\\n",
       "0  --042zgIbstRgNwP5sUX8w  rP52cGbn2tYgFml1rin8gQ  F73T-N5lRNL2Gcpg0Q4KKw   \n",
       "1  --0cG7333uMi-sr_3tWhGQ  0sDgdeKJPGr_2WioaXjBsQ  tqdL7aLotkmKIMHCczo3Ew   \n",
       "2  --0Ro9C6I9ZB7vmL4ZwDrg  ryZDoDERFu8pvKNrL0r2gQ  OETh78qcgDltvHULowwhJg   \n",
       "3  --0ujpOmgEbOXQ1M2hVdnw  jyfOcCWGvbhNwyKua7f4VQ  4JNXUYY8wbaaDmk3BPzlWw   \n",
       "4  --1gPZh1wTnh9FARO5Nw3Q  qDCMUmZktIft-UQwuuP6yQ  -PbCfkydmvuNcG9VG_ixkQ   \n",
       "\n",
       "   stars        date                                               text  \\\n",
       "0      5  2017-07-27  The food here is fantastic and the service is ...   \n",
       "1      3  2017-10-21  Average B-dubs but better than most around NEO...   \n",
       "2      5  2017-07-22  My husband and I went here on our honeymoon to...   \n",
       "3      5  2017-07-28  Most romantic spot in LV. Great for people wat...   \n",
       "4      1  2017-07-28  Well, I am back.\\nAnd it will definitely be my...   \n",
       "\n",
       "   useful  funny  cool  \n",
       "0       0      0     0  \n",
       "1       0      0     0  \n",
       "2       0      0     0  \n",
       "3       0      0     0  \n",
       "4       1      0     0  "
      ]
     },
     "execution_count": 10,
     "metadata": {},
     "output_type": "execute_result"
    }
   ],
   "source": [
    "df_review.head()"
   ]
  },
  {
   "cell_type": "code",
   "execution_count": 12,
   "metadata": {},
   "outputs": [
    {
     "data": {
      "text/plain": [
       "580431"
      ]
     },
     "execution_count": 12,
     "metadata": {},
     "output_type": "execute_result"
    }
   ],
   "source": [
    "len(df_review)"
   ]
  },
  {
   "cell_type": "code",
   "execution_count": 18,
   "metadata": {},
   "outputs": [
    {
     "data": {
      "text/plain": [
       "'The food here is fantastic and the service is exceptional. Certainly a 3.5 star \"diamond in the rough!\" I can\\'t wait to dine here again!'"
      ]
     },
     "execution_count": 18,
     "metadata": {},
     "output_type": "execute_result"
    }
   ],
   "source": [
    "review_text = df_review.iloc[0, 5]\n",
    "review_text"
   ]
  },
  {
   "cell_type": "code",
   "execution_count": 11,
   "metadata": {},
   "outputs": [],
   "source": [
    "from vaderSentiment.vaderSentiment import SentimentIntensityAnalyzer\n",
    "analyzer = SentimentIntensityAnalyzer()"
   ]
  },
  {
   "cell_type": "code",
   "execution_count": 19,
   "metadata": {},
   "outputs": [
    {
     "name": "stdout",
     "output_type": "stream",
     "text": [
      "580431 \n",
      " [0.8395, 0.9239, 0.929, 0.9199, 0.9953]\n"
     ]
    }
   ],
   "source": [
    "review_stmt = []\n",
    "for idx in range(0, len(df_review)):\n",
    "    review_text = df_review.iloc[idx, 5]\n",
    "    results = analyzer.polarity_scores(review_text)\n",
    "    compound = results[\"compound\"]\n",
    "    #pos = results[\"pos\"]\n",
    "    #neu = results[\"neu\"]\n",
    "    #neg = results[\"neg\"]\n",
    "    review_stmt.append(compound)\n",
    "\n",
    "print(len(review_stmt), \"\\n\", review_stmt[0:5])    "
   ]
  },
  {
   "cell_type": "code",
   "execution_count": 20,
   "metadata": {},
   "outputs": [],
   "source": [
    "review_id   = df_review[\"review_id\"]\n",
    "user_id     = df_review[\"user_id\"]\n",
    "business_id = df_review[\"business_id\"]\n",
    "stars       = df_review[\"stars\"]\n",
    "date        = df_review[\"date\"]\n",
    "useful      = df_review[\"useful\"]\n",
    "funny       = df_review[\"funny\"]\n",
    "cool        = df_review[\"cool\"]"
   ]
  },
  {
   "cell_type": "code",
   "execution_count": 22,
   "metadata": {},
   "outputs": [
    {
     "name": "stdout",
     "output_type": "stream",
     "text": [
      "580431\n"
     ]
    },
    {
     "data": {
      "text/html": [
       "<div>\n",
       "<style scoped>\n",
       "    .dataframe tbody tr th:only-of-type {\n",
       "        vertical-align: middle;\n",
       "    }\n",
       "\n",
       "    .dataframe tbody tr th {\n",
       "        vertical-align: top;\n",
       "    }\n",
       "\n",
       "    .dataframe thead th {\n",
       "        text-align: right;\n",
       "    }\n",
       "</style>\n",
       "<table border=\"1\" class=\"dataframe\">\n",
       "  <thead>\n",
       "    <tr style=\"text-align: right;\">\n",
       "      <th></th>\n",
       "      <th>review_id</th>\n",
       "      <th>user_id</th>\n",
       "      <th>business_id</th>\n",
       "      <th>stars</th>\n",
       "      <th>date</th>\n",
       "      <th>stmt_score</th>\n",
       "      <th>useful</th>\n",
       "      <th>funny</th>\n",
       "      <th>cool</th>\n",
       "    </tr>\n",
       "  </thead>\n",
       "  <tbody>\n",
       "    <tr>\n",
       "      <th>0</th>\n",
       "      <td>--042zgIbstRgNwP5sUX8w</td>\n",
       "      <td>rP52cGbn2tYgFml1rin8gQ</td>\n",
       "      <td>F73T-N5lRNL2Gcpg0Q4KKw</td>\n",
       "      <td>5</td>\n",
       "      <td>2017-07-27</td>\n",
       "      <td>0.8395</td>\n",
       "      <td>0</td>\n",
       "      <td>0</td>\n",
       "      <td>0</td>\n",
       "    </tr>\n",
       "    <tr>\n",
       "      <th>1</th>\n",
       "      <td>--0cG7333uMi-sr_3tWhGQ</td>\n",
       "      <td>0sDgdeKJPGr_2WioaXjBsQ</td>\n",
       "      <td>tqdL7aLotkmKIMHCczo3Ew</td>\n",
       "      <td>3</td>\n",
       "      <td>2017-10-21</td>\n",
       "      <td>0.9239</td>\n",
       "      <td>0</td>\n",
       "      <td>0</td>\n",
       "      <td>0</td>\n",
       "    </tr>\n",
       "    <tr>\n",
       "      <th>2</th>\n",
       "      <td>--0Ro9C6I9ZB7vmL4ZwDrg</td>\n",
       "      <td>ryZDoDERFu8pvKNrL0r2gQ</td>\n",
       "      <td>OETh78qcgDltvHULowwhJg</td>\n",
       "      <td>5</td>\n",
       "      <td>2017-07-22</td>\n",
       "      <td>0.9290</td>\n",
       "      <td>0</td>\n",
       "      <td>0</td>\n",
       "      <td>0</td>\n",
       "    </tr>\n",
       "    <tr>\n",
       "      <th>3</th>\n",
       "      <td>--0ujpOmgEbOXQ1M2hVdnw</td>\n",
       "      <td>jyfOcCWGvbhNwyKua7f4VQ</td>\n",
       "      <td>4JNXUYY8wbaaDmk3BPzlWw</td>\n",
       "      <td>5</td>\n",
       "      <td>2017-07-28</td>\n",
       "      <td>0.9199</td>\n",
       "      <td>0</td>\n",
       "      <td>0</td>\n",
       "      <td>0</td>\n",
       "    </tr>\n",
       "    <tr>\n",
       "      <th>4</th>\n",
       "      <td>--1gPZh1wTnh9FARO5Nw3Q</td>\n",
       "      <td>qDCMUmZktIft-UQwuuP6yQ</td>\n",
       "      <td>-PbCfkydmvuNcG9VG_ixkQ</td>\n",
       "      <td>1</td>\n",
       "      <td>2017-07-28</td>\n",
       "      <td>0.9953</td>\n",
       "      <td>1</td>\n",
       "      <td>0</td>\n",
       "      <td>0</td>\n",
       "    </tr>\n",
       "  </tbody>\n",
       "</table>\n",
       "</div>"
      ],
      "text/plain": [
       "                review_id                 user_id             business_id  \\\n",
       "0  --042zgIbstRgNwP5sUX8w  rP52cGbn2tYgFml1rin8gQ  F73T-N5lRNL2Gcpg0Q4KKw   \n",
       "1  --0cG7333uMi-sr_3tWhGQ  0sDgdeKJPGr_2WioaXjBsQ  tqdL7aLotkmKIMHCczo3Ew   \n",
       "2  --0Ro9C6I9ZB7vmL4ZwDrg  ryZDoDERFu8pvKNrL0r2gQ  OETh78qcgDltvHULowwhJg   \n",
       "3  --0ujpOmgEbOXQ1M2hVdnw  jyfOcCWGvbhNwyKua7f4VQ  4JNXUYY8wbaaDmk3BPzlWw   \n",
       "4  --1gPZh1wTnh9FARO5Nw3Q  qDCMUmZktIft-UQwuuP6yQ  -PbCfkydmvuNcG9VG_ixkQ   \n",
       "\n",
       "   stars        date  stmt_score  useful  funny  cool  \n",
       "0      5  2017-07-27      0.8395       0      0     0  \n",
       "1      3  2017-10-21      0.9239       0      0     0  \n",
       "2      5  2017-07-22      0.9290       0      0     0  \n",
       "3      5  2017-07-28      0.9199       0      0     0  \n",
       "4      1  2017-07-28      0.9953       1      0     0  "
      ]
     },
     "execution_count": 22,
     "metadata": {},
     "output_type": "execute_result"
    }
   ],
   "source": [
    "df_review_stmt = pd.DataFrame({\n",
    "    \"review_id\"   : review_id,\n",
    "    \"user_id\"     : user_id,\n",
    "    \"business_id\" : business_id,\n",
    "    \"stars\"       : stars,\n",
    "    \"date\"        : date,\n",
    "    \"stmt_score\"  : review_stmt,\n",
    "    \"useful\"      : useful,\n",
    "    \"funny\"       : funny,\n",
    "    \"cool\"        : cool\n",
    "})\n",
    "print(len(df_review_stmt))\n",
    "df_review_stmt[0:5]"
   ]
  },
  {
   "cell_type": "code",
   "execution_count": 40,
   "metadata": {},
   "outputs": [
    {
     "data": {
      "text/plain": [
       "77912"
      ]
     },
     "execution_count": 40,
     "metadata": {},
     "output_type": "execute_result"
    }
   ],
   "source": [
    "neg_review_id    = []\n",
    "neg_review_score = []\n",
    "for idx in range(len(review_stmt)):\n",
    "    if review_stmt[idx] < 0:\n",
    "        neg_review_id.append(df_review_stmt.iloc[idx, 0])\n",
    "        neg_review_score.append(review_stmt[idx])\n",
    "\n",
    "len(neg_review_idx)        "
   ]
  },
  {
   "cell_type": "code",
   "execution_count": 42,
   "metadata": {},
   "outputs": [
    {
     "data": {
      "text/html": [
       "<div>\n",
       "<style scoped>\n",
       "    .dataframe tbody tr th:only-of-type {\n",
       "        vertical-align: middle;\n",
       "    }\n",
       "\n",
       "    .dataframe tbody tr th {\n",
       "        vertical-align: top;\n",
       "    }\n",
       "\n",
       "    .dataframe thead th {\n",
       "        text-align: right;\n",
       "    }\n",
       "</style>\n",
       "<table border=\"1\" class=\"dataframe\">\n",
       "  <thead>\n",
       "    <tr style=\"text-align: right;\">\n",
       "      <th></th>\n",
       "      <th>review_id</th>\n",
       "      <th>stmt_score</th>\n",
       "    </tr>\n",
       "  </thead>\n",
       "  <tbody>\n",
       "    <tr>\n",
       "      <th>0</th>\n",
       "      <td>--5_7hjl4OED3UqSI1kvfA</td>\n",
       "      <td>-0.8014</td>\n",
       "    </tr>\n",
       "    <tr>\n",
       "      <th>1</th>\n",
       "      <td>--8CdmmBe1GLguB3LiHWYg</td>\n",
       "      <td>-0.1961</td>\n",
       "    </tr>\n",
       "    <tr>\n",
       "      <th>2</th>\n",
       "      <td>--9ajhYFr5d8MhHSHqBsmw</td>\n",
       "      <td>-0.9554</td>\n",
       "    </tr>\n",
       "    <tr>\n",
       "      <th>3</th>\n",
       "      <td>--aRZxW-Z6fEsqH9UYns9g</td>\n",
       "      <td>-0.9613</td>\n",
       "    </tr>\n",
       "    <tr>\n",
       "      <th>4</th>\n",
       "      <td>--DfCHuXVNnUAM2MqOEy_g</td>\n",
       "      <td>-0.3052</td>\n",
       "    </tr>\n",
       "  </tbody>\n",
       "</table>\n",
       "</div>"
      ],
      "text/plain": [
       "                review_id  stmt_score\n",
       "0  --5_7hjl4OED3UqSI1kvfA     -0.8014\n",
       "1  --8CdmmBe1GLguB3LiHWYg     -0.1961\n",
       "2  --9ajhYFr5d8MhHSHqBsmw     -0.9554\n",
       "3  --aRZxW-Z6fEsqH9UYns9g     -0.9613\n",
       "4  --DfCHuXVNnUAM2MqOEy_g     -0.3052"
      ]
     },
     "execution_count": 42,
     "metadata": {},
     "output_type": "execute_result"
    }
   ],
   "source": [
    "df_neg_review = pd.DataFrame({\n",
    "    \"review_id\"  : neg_review_id,\n",
    "    \"stmt_score\" : neg_review_score\n",
    "})\n",
    "df_neg_review.head()"
   ]
  },
  {
   "cell_type": "code",
   "execution_count": null,
   "metadata": {},
   "outputs": [],
   "source": []
  },
  {
   "cell_type": "code",
   "execution_count": null,
   "metadata": {},
   "outputs": [],
   "source": []
  },
  {
   "cell_type": "code",
   "execution_count": null,
   "metadata": {},
   "outputs": [],
   "source": []
  },
  {
   "cell_type": "code",
   "execution_count": 37,
   "metadata": {},
   "outputs": [],
   "source": [
    "df_review_stmt.to_csv(\"../data/yelp_review_sentiments.csv\")"
   ]
  },
  {
   "cell_type": "code",
   "execution_count": 44,
   "metadata": {},
   "outputs": [],
   "source": [
    "df_review_stmt.to_csv(\"../data/yelp_review_sentiments_upload.csv\", index=False, header=False)"
   ]
  },
  {
   "cell_type": "code",
   "execution_count": 43,
   "metadata": {},
   "outputs": [],
   "source": [
    "df_neg_review.to_csv(\"../data/yelp_sentiments_negative.csv\")"
   ]
  },
  {
   "cell_type": "code",
   "execution_count": null,
   "metadata": {},
   "outputs": [],
   "source": []
  }
 ],
 "metadata": {
  "kernelspec": {
   "display_name": "Python 3",
   "language": "python",
   "name": "python3"
  },
  "language_info": {
   "codemirror_mode": {
    "name": "ipython",
    "version": 3
   },
   "file_extension": ".py",
   "mimetype": "text/x-python",
   "name": "python",
   "nbconvert_exporter": "python",
   "pygments_lexer": "ipython3",
   "version": "3.6.6"
  }
 },
 "nbformat": 4,
 "nbformat_minor": 2
}
